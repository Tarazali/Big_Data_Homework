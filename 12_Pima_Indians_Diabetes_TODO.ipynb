{
 "cells": [
  {
   "cell_type": "markdown",
   "metadata": {},
   "source": [
    "# Data \n",
    "\n",
    "The Pima Indians dataset is about the prediction of diabetes . This is a small dataset available from the UCI Machine Learning Repository. https://archive.ics.uci.edu/ml/datasets/Pima+Indians+Diabetes\n",
    "\n",
    "**Attribute Information:**\n",
    "\n",
    "1. Number of times pregnant\n",
    "2. Plasma glucose concentration a 2 hours in an oral glucose tolerance test\n",
    "3. Diastolic blood pressure (mm Hg)\n",
    "4. Triceps skin fold thickness (mm)\n",
    "5. 2-Hour serum insulin (mu U/ml)\n",
    "6. Body mass index (weight in kg/(height in m)^2)\n",
    "7. Diabetes pedigree function\n",
    "8. Age (years)\n",
    "9. Class variable (0 or 1) (diabetes mellitus)"
   ]
  },
  {
   "cell_type": "code",
   "execution_count": 33,
   "metadata": {
    "collapsed": true
   },
   "outputs": [
    {
     "ename": "IndentationError",
     "evalue": "unexpected indent (<ipython-input-33-d287f97239b4>, line 2)",
     "output_type": "error",
     "traceback": [
      "\u001b[1;36m  File \u001b[1;32m\"<ipython-input-33-d287f97239b4>\"\u001b[1;36m, line \u001b[1;32m2\u001b[0m\n\u001b[1;33m    get_ipython().system(' wget -O pima-indians-diabetes.csv https://gist.githubusercontent.com/ktisha/c21e73a1bd1700294ef790c56c8aec1f/raw/819b69b5736821ccee93d05b51de0510bea00294/pima-indians-diabetes.csv')\u001b[0m\n\u001b[1;37m    ^\u001b[0m\n\u001b[1;31mIndentationError\u001b[0m\u001b[1;31m:\u001b[0m unexpected indent\n"
     ]
    }
   ],
   "source": [
    "# Download the data\n",
    " ! wget -O pima-indians-diabetes.csv https://gist.githubusercontent.com/ktisha/c21e73a1bd1700294ef790c56c8aec1f/raw/819b69b5736821ccee93d05b51de0510bea00294/pima-indians-diabetes.csv"
   ]
  },
  {
   "cell_type": "code",
   "execution_count": null,
   "metadata": {
    "collapsed": true
   },
   "outputs": [],
   "source": [
    "# check if the data is downloaded\n",
    "%ls -l"
   ]
  },
  {
   "cell_type": "code",
   "execution_count": 34,
   "metadata": {
    "collapsed": true
   },
   "outputs": [],
   "source": [
    "from sklearn.model_selection import train_test_split\n",
    "from keras.models import Sequential\n",
    "from keras.layers import Dense\n",
    "import matplotlib.pyplot as plt\n",
    "from matplotlib.ticker import MaxNLocator\n",
    "import numpy as np"
   ]
  },
  {
   "cell_type": "code",
   "execution_count": 35,
   "metadata": {
    "collapsed": true
   },
   "outputs": [],
   "source": [
    "# fix random seed for reproducibility\n",
    "seed = 7\n",
    "np.random.seed(seed)"
   ]
  },
  {
   "cell_type": "code",
   "execution_count": 36,
   "metadata": {
    "collapsed": true
   },
   "outputs": [],
   "source": [
    "# load pima indians dataset\n",
    "dataset = np.loadtxt(\"pima-indians-diabetes.csv\", delimiter=\",\")"
   ]
  },
  {
   "cell_type": "code",
   "execution_count": 37,
   "metadata": {},
   "outputs": [
    {
     "data": {
      "text/plain": [
       "(768, 9)"
      ]
     },
     "execution_count": 37,
     "metadata": {},
     "output_type": "execute_result"
    }
   ],
   "source": [
    "dataset.shape"
   ]
  },
  {
   "cell_type": "code",
   "execution_count": 38,
   "metadata": {},
   "outputs": [
    {
     "data": {
      "text/plain": [
       "array([[6.00e+00, 1.48e+02, 7.20e+01, 3.50e+01, 0.00e+00, 3.36e+01,\n",
       "        6.27e-01, 5.00e+01],\n",
       "       [1.00e+00, 8.50e+01, 6.60e+01, 2.90e+01, 0.00e+00, 2.66e+01,\n",
       "        3.51e-01, 3.10e+01],\n",
       "       [8.00e+00, 1.83e+02, 6.40e+01, 0.00e+00, 0.00e+00, 2.33e+01,\n",
       "        6.72e-01, 3.20e+01],\n",
       "       [1.00e+00, 8.90e+01, 6.60e+01, 2.30e+01, 9.40e+01, 2.81e+01,\n",
       "        1.67e-01, 2.10e+01]])"
      ]
     },
     "execution_count": 38,
     "metadata": {},
     "output_type": "execute_result"
    }
   ],
   "source": [
    "dataset[0:4, 0:8]"
   ]
  },
  {
   "cell_type": "code",
   "execution_count": 39,
   "metadata": {
    "collapsed": true
   },
   "outputs": [],
   "source": [
    "# split dataset into input (X) and output (Y) variables\n",
    "# output is the last column\n",
    "X = dataset[:, 0:8]\n",
    "y = dataset[:, 8]"
   ]
  },
  {
   "cell_type": "code",
   "execution_count": 40,
   "metadata": {
    "collapsed": true
   },
   "outputs": [
    {
     "data": {
      "text/plain": [
       "(768, 8)"
      ]
     },
     "execution_count": 40,
     "metadata": {},
     "output_type": "execute_result"
    }
   ],
   "source": [
    "# print the shape of x\n",
    "#\n",
    "X.shape"
   ]
  },
  {
   "cell_type": "code",
   "execution_count": 41,
   "metadata": {
    "collapsed": true
   },
   "outputs": [
    {
     "data": {
      "text/plain": [
       "array([[  6.   , 148.   ,  72.   , ...,  33.6  ,   0.627,  50.   ],\n",
       "       [  1.   ,  85.   ,  66.   , ...,  26.6  ,   0.351,  31.   ],\n",
       "       [  8.   , 183.   ,  64.   , ...,  23.3  ,   0.672,  32.   ],\n",
       "       ...,\n",
       "       [  5.   , 121.   ,  72.   , ...,  26.2  ,   0.245,  30.   ],\n",
       "       [  1.   , 126.   ,  60.   , ...,  30.1  ,   0.349,  47.   ],\n",
       "       [  1.   ,  93.   ,  70.   , ...,  30.4  ,   0.315,  23.   ]])"
      ]
     },
     "execution_count": 41,
     "metadata": {},
     "output_type": "execute_result"
    }
   ],
   "source": [
    "# save to number of input dimensions in input_dim\n",
    "input_dim = X\n",
    "input_dim "
   ]
  },
  {
   "cell_type": "code",
   "execution_count": 42,
   "metadata": {
    "collapsed": true
   },
   "outputs": [
    {
     "data": {
      "text/plain": [
       "(768,)"
      ]
     },
     "execution_count": 42,
     "metadata": {},
     "output_type": "execute_result"
    }
   ],
   "source": [
    "# shape of y\n",
    "# TODO\n",
    "y.shape"
   ]
  },
  {
   "cell_type": "code",
   "execution_count": 43,
   "metadata": {
    "collapsed": true
   },
   "outputs": [],
   "source": [
    "# Create training and test sets\n",
    "# Test size should be 15%\n",
    "# The test and train set should be stratified\n",
    "# use a random state (for reproducability) of 42\n",
    "# TODO\n",
    "from sklearn.model_selection import train_test_split\n",
    "\n",
    "X_train, X_test, y_train, y_test = train_test_split(input_dim, y, test_size=0.15, stratify=y, random_state=42)"
   ]
  },
  {
   "cell_type": "code",
   "execution_count": 44,
   "metadata": {
    "collapsed": true
   },
   "outputs": [
    {
     "data": {
      "text/plain": [
       "(116, 8)"
      ]
     },
     "execution_count": 44,
     "metadata": {},
     "output_type": "execute_result"
    }
   ],
   "source": [
    "# shape of X_test\n",
    "# TODO\n",
    "X_test.shape"
   ]
  },
  {
   "cell_type": "markdown",
   "metadata": {},
   "source": [
    "# Model"
   ]
  },
  {
   "cell_type": "code",
   "execution_count": 45,
   "metadata": {
    "collapsed": true
   },
   "outputs": [],
   "source": [
    "# 1. Create Sequential model\n",
    "# 2. + 3. Add two hidden dense layers with 12 and 8 nodes. Both should have Relu activations \n",
    "# 4. Add a final output layer\n",
    "# Think about how many nodes the final output layer should have and what activation function is appropiate\n",
    "# TODO\n",
    "model = Sequential()\n",
    "model.add(Dense(12, activation='relu', input_dim=8))\n",
    "model.add(Dense(8, activation='relu'))\n",
    "model.add(Dense(1, activation='sigmoid'))"
   ]
  },
  {
   "cell_type": "code",
   "execution_count": 46,
   "metadata": {
    "collapsed": true
   },
   "outputs": [],
   "source": [
    "# Compile the model\n",
    "# Think about what loss function is appropiate\n",
    "# Use as the optimizer Adam\n",
    "# Track as an additional metric Accuracy\n",
    "# TODO\n",
    "model.compile(optimizer='adam', loss='binary_crossentropy', metrics=['accuracy'])"
   ]
  },
  {
   "cell_type": "code",
   "execution_count": 47,
   "metadata": {
    "collapsed": true
   },
   "outputs": [
    {
     "name": "stdout",
     "output_type": "stream",
     "text": [
      "Train on 554 samples, validate on 98 samples\n",
      "Epoch 1/300\n",
      "554/554 [==============================] - 1s 1ms/step - loss: 4.5648 - acc: 0.6173 - val_loss: 3.0777 - val_acc: 0.6531\n",
      "Epoch 2/300\n",
      "554/554 [==============================] - 0s 131us/step - loss: 1.8934 - acc: 0.5704 - val_loss: 1.1339 - val_acc: 0.6020\n",
      "Epoch 3/300\n",
      "554/554 [==============================] - 0s 149us/step - loss: 0.8686 - acc: 0.6083 - val_loss: 0.8669 - val_acc: 0.6633\n",
      "Epoch 4/300\n",
      "554/554 [==============================] - 0s 180us/step - loss: 0.7631 - acc: 0.6282 - val_loss: 0.7495 - val_acc: 0.6837\n",
      "Epoch 5/300\n",
      "554/554 [==============================] - 0s 181us/step - loss: 0.7053 - acc: 0.6606 - val_loss: 0.7453 - val_acc: 0.6633\n",
      "Epoch 6/300\n",
      "554/554 [==============================] - 0s 209us/step - loss: 0.7141 - acc: 0.6625 - val_loss: 0.6938 - val_acc: 0.6837\n",
      "Epoch 7/300\n",
      "554/554 [==============================] - 0s 178us/step - loss: 0.6845 - acc: 0.6679 - val_loss: 0.6971 - val_acc: 0.6939\n",
      "Epoch 8/300\n",
      "554/554 [==============================] - 0s 195us/step - loss: 0.6745 - acc: 0.6733 - val_loss: 0.6646 - val_acc: 0.7245\n",
      "Epoch 9/300\n",
      "554/554 [==============================] - 0s 190us/step - loss: 0.6722 - acc: 0.6679 - val_loss: 0.7074 - val_acc: 0.7245\n",
      "Epoch 10/300\n",
      "554/554 [==============================] - 0s 163us/step - loss: 0.6467 - acc: 0.7004 - val_loss: 0.7064 - val_acc: 0.6837\n",
      "Epoch 11/300\n",
      "554/554 [==============================] - 0s 161us/step - loss: 0.6497 - acc: 0.6895 - val_loss: 0.6936 - val_acc: 0.6224\n",
      "Epoch 12/300\n",
      "554/554 [==============================] - 0s 181us/step - loss: 0.6274 - acc: 0.6931 - val_loss: 0.6666 - val_acc: 0.7143\n",
      "Epoch 13/300\n",
      "554/554 [==============================] - 0s 188us/step - loss: 0.6178 - acc: 0.6787 - val_loss: 0.6913 - val_acc: 0.6122\n",
      "Epoch 14/300\n",
      "554/554 [==============================] - 0s 133us/step - loss: 0.6315 - acc: 0.6697 - val_loss: 0.6738 - val_acc: 0.7143\n",
      "Epoch 15/300\n",
      "554/554 [==============================] - 0s 133us/step - loss: 0.6051 - acc: 0.6986 - val_loss: 0.6540 - val_acc: 0.7041\n",
      "Epoch 16/300\n",
      "554/554 [==============================] - 0s 137us/step - loss: 0.6056 - acc: 0.7022 - val_loss: 0.7753 - val_acc: 0.5816\n",
      "Epoch 17/300\n",
      "554/554 [==============================] - 0s 118us/step - loss: 0.6298 - acc: 0.6444 - val_loss: 0.6510 - val_acc: 0.6939\n",
      "Epoch 18/300\n",
      "554/554 [==============================] - 0s 168us/step - loss: 0.5935 - acc: 0.7004 - val_loss: 0.6729 - val_acc: 0.6327\n",
      "Epoch 19/300\n",
      "554/554 [==============================] - 0s 160us/step - loss: 0.6002 - acc: 0.6715 - val_loss: 0.6660 - val_acc: 0.6327\n",
      "Epoch 20/300\n",
      "554/554 [==============================] - 0s 180us/step - loss: 0.6025 - acc: 0.6949 - val_loss: 0.6575 - val_acc: 0.7041\n",
      "Epoch 21/300\n",
      "554/554 [==============================] - 0s 180us/step - loss: 0.5848 - acc: 0.6805 - val_loss: 0.6439 - val_acc: 0.6939\n",
      "Epoch 22/300\n",
      "554/554 [==============================] - 0s 181us/step - loss: 0.5990 - acc: 0.6968 - val_loss: 0.7623 - val_acc: 0.6020\n",
      "Epoch 23/300\n",
      "554/554 [==============================] - 0s 180us/step - loss: 0.5745 - acc: 0.6986 - val_loss: 0.6344 - val_acc: 0.6939\n",
      "Epoch 24/300\n",
      "554/554 [==============================] - 0s 180us/step - loss: 0.5849 - acc: 0.6859 - val_loss: 0.6446 - val_acc: 0.6531\n",
      "Epoch 25/300\n",
      "554/554 [==============================] - 0s 180us/step - loss: 0.5860 - acc: 0.6968 - val_loss: 0.6298 - val_acc: 0.7041\n",
      "Epoch 26/300\n",
      "554/554 [==============================] - 0s 180us/step - loss: 0.6197 - acc: 0.6895 - val_loss: 0.6702 - val_acc: 0.6531\n",
      "Epoch 27/300\n",
      "554/554 [==============================] - 0s 180us/step - loss: 0.5661 - acc: 0.7058 - val_loss: 0.6255 - val_acc: 0.7347\n",
      "Epoch 28/300\n",
      "554/554 [==============================] - 0s 180us/step - loss: 0.5888 - acc: 0.6715 - val_loss: 0.6171 - val_acc: 0.7143\n",
      "Epoch 29/300\n",
      "554/554 [==============================] - 0s 175us/step - loss: 0.5745 - acc: 0.6913 - val_loss: 0.6134 - val_acc: 0.7245\n",
      "Epoch 30/300\n",
      "554/554 [==============================] - 0s 191us/step - loss: 0.5810 - acc: 0.7004 - val_loss: 0.6118 - val_acc: 0.7041\n",
      "Epoch 31/300\n",
      "554/554 [==============================] - 0s 209us/step - loss: 0.5798 - acc: 0.7040 - val_loss: 0.6400 - val_acc: 0.6633\n",
      "Epoch 32/300\n",
      "554/554 [==============================] - 0s 200us/step - loss: 0.5688 - acc: 0.6986 - val_loss: 0.6155 - val_acc: 0.7143\n",
      "Epoch 33/300\n",
      "554/554 [==============================] - 0s 198us/step - loss: 0.5680 - acc: 0.7112 - val_loss: 0.5948 - val_acc: 0.7245\n",
      "Epoch 34/300\n",
      "554/554 [==============================] - 0s 165us/step - loss: 0.5558 - acc: 0.7040 - val_loss: 0.6077 - val_acc: 0.7041\n",
      "Epoch 35/300\n",
      "554/554 [==============================] - 0s 175us/step - loss: 0.5551 - acc: 0.7184 - val_loss: 0.6131 - val_acc: 0.6633\n",
      "Epoch 36/300\n",
      "554/554 [==============================] - 0s 182us/step - loss: 0.5600 - acc: 0.6949 - val_loss: 0.6209 - val_acc: 0.6837\n",
      "Epoch 37/300\n",
      "554/554 [==============================] - 0s 199us/step - loss: 0.5518 - acc: 0.7130 - val_loss: 0.6391 - val_acc: 0.7143\n",
      "Epoch 38/300\n",
      "554/554 [==============================] - 0s 201us/step - loss: 0.5437 - acc: 0.7310 - val_loss: 0.6076 - val_acc: 0.7041\n",
      "Epoch 39/300\n",
      "554/554 [==============================] - 0s 209us/step - loss: 0.5606 - acc: 0.7094 - val_loss: 0.6044 - val_acc: 0.7449\n",
      "Epoch 40/300\n",
      "554/554 [==============================] - 0s 145us/step - loss: 0.5469 - acc: 0.7274 - val_loss: 0.6077 - val_acc: 0.7143\n",
      "Epoch 41/300\n",
      "554/554 [==============================] - 0s 162us/step - loss: 0.5544 - acc: 0.7130 - val_loss: 0.5788 - val_acc: 0.7143\n",
      "Epoch 42/300\n",
      "554/554 [==============================] - 0s 178us/step - loss: 0.5472 - acc: 0.7040 - val_loss: 0.5975 - val_acc: 0.6939\n",
      "Epoch 43/300\n",
      "554/554 [==============================] - 0s 154us/step - loss: 0.5384 - acc: 0.7292 - val_loss: 0.5904 - val_acc: 0.7245\n",
      "Epoch 44/300\n",
      "554/554 [==============================] - 0s 152us/step - loss: 0.5562 - acc: 0.7202 - val_loss: 0.5891 - val_acc: 0.7041\n",
      "Epoch 45/300\n",
      "554/554 [==============================] - 0s 182us/step - loss: 0.5402 - acc: 0.7347 - val_loss: 0.5942 - val_acc: 0.7347\n",
      "Epoch 46/300\n",
      "554/554 [==============================] - 0s 190us/step - loss: 0.5515 - acc: 0.7094 - val_loss: 0.5983 - val_acc: 0.7041\n",
      "Epoch 47/300\n",
      "554/554 [==============================] - 0s 191us/step - loss: 0.5269 - acc: 0.7329 - val_loss: 0.6244 - val_acc: 0.6837\n",
      "Epoch 48/300\n",
      "554/554 [==============================] - 0s 220us/step - loss: 0.5363 - acc: 0.7292 - val_loss: 0.6645 - val_acc: 0.6837\n",
      "Epoch 49/300\n",
      "554/554 [==============================] - 0s 184us/step - loss: 0.5574 - acc: 0.7094 - val_loss: 0.5885 - val_acc: 0.6939\n",
      "Epoch 50/300\n",
      "554/554 [==============================] - 0s 204us/step - loss: 0.5294 - acc: 0.7437 - val_loss: 0.6044 - val_acc: 0.7551\n",
      "Epoch 51/300\n",
      "554/554 [==============================] - 0s 201us/step - loss: 0.5386 - acc: 0.7148 - val_loss: 0.5994 - val_acc: 0.7245\n",
      "Epoch 52/300\n",
      "554/554 [==============================] - 0s 180us/step - loss: 0.5563 - acc: 0.6949 - val_loss: 0.6007 - val_acc: 0.7245\n",
      "Epoch 53/300\n",
      "554/554 [==============================] - 0s 184us/step - loss: 0.5341 - acc: 0.7383 - val_loss: 0.6407 - val_acc: 0.7347\n",
      "Epoch 54/300\n",
      "554/554 [==============================] - 0s 188us/step - loss: 0.5216 - acc: 0.7329 - val_loss: 0.6179 - val_acc: 0.7143\n",
      "Epoch 55/300\n",
      "554/554 [==============================] - 0s 205us/step - loss: 0.5299 - acc: 0.7238 - val_loss: 0.6205 - val_acc: 0.6735\n",
      "Epoch 56/300\n",
      "554/554 [==============================] - 0s 200us/step - loss: 0.5237 - acc: 0.7491 - val_loss: 0.6108 - val_acc: 0.7143\n",
      "Epoch 57/300\n",
      "554/554 [==============================] - 0s 197us/step - loss: 0.5248 - acc: 0.7401 - val_loss: 0.6006 - val_acc: 0.7449\n",
      "Epoch 58/300\n",
      "554/554 [==============================] - 0s 164us/step - loss: 0.5180 - acc: 0.7581 - val_loss: 0.5702 - val_acc: 0.6837\n",
      "Epoch 59/300\n",
      "554/554 [==============================] - 0s 179us/step - loss: 0.5381 - acc: 0.7130 - val_loss: 0.5793 - val_acc: 0.7245\n",
      "Epoch 60/300\n",
      "554/554 [==============================] - 0s 181us/step - loss: 0.5243 - acc: 0.7383 - val_loss: 0.5703 - val_acc: 0.7041\n",
      "Epoch 61/300\n",
      "554/554 [==============================] - 0s 187us/step - loss: 0.5116 - acc: 0.7599 - val_loss: 0.5669 - val_acc: 0.7143\n",
      "Epoch 62/300\n",
      "554/554 [==============================] - 0s 187us/step - loss: 0.5224 - acc: 0.7527 - val_loss: 0.5977 - val_acc: 0.7245\n",
      "Epoch 63/300\n",
      "554/554 [==============================] - 0s 185us/step - loss: 0.5184 - acc: 0.7383 - val_loss: 0.5717 - val_acc: 0.7245\n",
      "Epoch 64/300\n",
      "554/554 [==============================] - 0s 131us/step - loss: 0.5184 - acc: 0.7419 - val_loss: 0.5660 - val_acc: 0.7041\n",
      "Epoch 65/300\n",
      "554/554 [==============================] - 0s 169us/step - loss: 0.5361 - acc: 0.7238 - val_loss: 0.5888 - val_acc: 0.7245\n",
      "Epoch 66/300\n",
      "554/554 [==============================] - 0s 183us/step - loss: 0.5226 - acc: 0.7545 - val_loss: 0.5666 - val_acc: 0.7041\n",
      "Epoch 67/300\n",
      "554/554 [==============================] - 0s 206us/step - loss: 0.5149 - acc: 0.7563 - val_loss: 0.5554 - val_acc: 0.7041\n",
      "Epoch 68/300\n",
      "554/554 [==============================] - 0s 187us/step - loss: 0.5288 - acc: 0.7256 - val_loss: 0.5894 - val_acc: 0.7449\n",
      "Epoch 69/300\n",
      "554/554 [==============================] - 0s 183us/step - loss: 0.5202 - acc: 0.7274 - val_loss: 0.6733 - val_acc: 0.6327\n",
      "Epoch 70/300\n",
      "554/554 [==============================] - 0s 210us/step - loss: 0.5539 - acc: 0.7238 - val_loss: 0.6049 - val_acc: 0.7347\n",
      "Epoch 71/300\n",
      "554/554 [==============================] - 0s 198us/step - loss: 0.5315 - acc: 0.7455 - val_loss: 0.5789 - val_acc: 0.6939\n",
      "Epoch 72/300\n",
      "554/554 [==============================] - 0s 188us/step - loss: 0.5236 - acc: 0.7292 - val_loss: 0.6379 - val_acc: 0.6531\n",
      "Epoch 73/300\n",
      "554/554 [==============================] - 0s 181us/step - loss: 0.5231 - acc: 0.7401 - val_loss: 0.5737 - val_acc: 0.7449\n",
      "Epoch 74/300\n",
      "554/554 [==============================] - 0s 184us/step - loss: 0.5071 - acc: 0.7617 - val_loss: 0.5960 - val_acc: 0.7143\n",
      "Epoch 75/300\n",
      "554/554 [==============================] - 0s 211us/step - loss: 0.5185 - acc: 0.7365 - val_loss: 0.5949 - val_acc: 0.6837\n",
      "Epoch 76/300\n",
      "554/554 [==============================] - 0s 212us/step - loss: 0.5149 - acc: 0.7347 - val_loss: 0.5819 - val_acc: 0.6837\n",
      "Epoch 77/300\n",
      "554/554 [==============================] - 0s 222us/step - loss: 0.5097 - acc: 0.7726 - val_loss: 0.6069 - val_acc: 0.6837\n",
      "Epoch 78/300\n",
      "554/554 [==============================] - 0s 215us/step - loss: 0.5121 - acc: 0.7527 - val_loss: 0.5657 - val_acc: 0.7143\n",
      "Epoch 79/300\n",
      "554/554 [==============================] - 0s 204us/step - loss: 0.5140 - acc: 0.7347 - val_loss: 0.5815 - val_acc: 0.6837\n",
      "Epoch 80/300\n",
      "554/554 [==============================] - 0s 188us/step - loss: 0.5095 - acc: 0.7545 - val_loss: 0.5622 - val_acc: 0.7041\n",
      "Epoch 81/300\n",
      "554/554 [==============================] - 0s 215us/step - loss: 0.5095 - acc: 0.7419 - val_loss: 0.6348 - val_acc: 0.6939\n",
      "Epoch 82/300\n",
      "554/554 [==============================] - 0s 198us/step - loss: 0.5167 - acc: 0.7455 - val_loss: 0.5799 - val_acc: 0.6837\n",
      "Epoch 83/300\n",
      "554/554 [==============================] - 0s 202us/step - loss: 0.5112 - acc: 0.7437 - val_loss: 0.5912 - val_acc: 0.7245\n",
      "Epoch 84/300\n",
      "554/554 [==============================] - 0s 182us/step - loss: 0.5056 - acc: 0.7545 - val_loss: 0.5677 - val_acc: 0.7143\n",
      "Epoch 85/300\n",
      "554/554 [==============================] - 0s 207us/step - loss: 0.5029 - acc: 0.7545 - val_loss: 0.5706 - val_acc: 0.6939\n",
      "Epoch 86/300\n",
      "554/554 [==============================] - 0s 187us/step - loss: 0.4966 - acc: 0.7599 - val_loss: 0.5625 - val_acc: 0.7245\n",
      "Epoch 87/300\n",
      "554/554 [==============================] - 0s 192us/step - loss: 0.5070 - acc: 0.7527 - val_loss: 0.5872 - val_acc: 0.7551\n",
      "Epoch 88/300\n",
      "554/554 [==============================] - 0s 179us/step - loss: 0.4973 - acc: 0.7653 - val_loss: 0.6516 - val_acc: 0.6531\n",
      "Epoch 89/300\n",
      "554/554 [==============================] - 0s 188us/step - loss: 0.5171 - acc: 0.7473 - val_loss: 0.5599 - val_acc: 0.7143\n",
      "Epoch 90/300\n",
      "554/554 [==============================] - 0s 186us/step - loss: 0.5145 - acc: 0.7563 - val_loss: 0.5560 - val_acc: 0.7041\n",
      "Epoch 91/300\n",
      "554/554 [==============================] - 0s 197us/step - loss: 0.5080 - acc: 0.7509 - val_loss: 0.5762 - val_acc: 0.7143\n",
      "Epoch 92/300\n",
      "554/554 [==============================] - 0s 187us/step - loss: 0.5047 - acc: 0.7329 - val_loss: 0.5558 - val_acc: 0.7041\n",
      "Epoch 93/300\n",
      "554/554 [==============================] - 0s 189us/step - loss: 0.5147 - acc: 0.7419 - val_loss: 0.5752 - val_acc: 0.7245\n",
      "Epoch 94/300\n",
      "554/554 [==============================] - 0s 189us/step - loss: 0.5070 - acc: 0.7383 - val_loss: 0.5619 - val_acc: 0.7245\n",
      "Epoch 95/300\n",
      "554/554 [==============================] - 0s 199us/step - loss: 0.5003 - acc: 0.7581 - val_loss: 0.5910 - val_acc: 0.7245\n",
      "Epoch 96/300\n",
      "554/554 [==============================] - 0s 211us/step - loss: 0.5197 - acc: 0.7491 - val_loss: 0.5661 - val_acc: 0.7245\n",
      "Epoch 97/300\n",
      "554/554 [==============================] - 0s 213us/step - loss: 0.4910 - acc: 0.7545 - val_loss: 0.5632 - val_acc: 0.6939\n",
      "Epoch 98/300\n",
      "554/554 [==============================] - 0s 222us/step - loss: 0.5085 - acc: 0.7437 - val_loss: 0.5650 - val_acc: 0.6939\n",
      "Epoch 99/300\n",
      "554/554 [==============================] - 0s 199us/step - loss: 0.5079 - acc: 0.7527 - val_loss: 0.5669 - val_acc: 0.7347\n",
      "Epoch 100/300\n",
      "554/554 [==============================] - 0s 224us/step - loss: 0.4972 - acc: 0.7617 - val_loss: 0.5673 - val_acc: 0.6939\n",
      "Epoch 101/300\n",
      "554/554 [==============================] - 0s 179us/step - loss: 0.4989 - acc: 0.7509 - val_loss: 0.5665 - val_acc: 0.6939\n",
      "Epoch 102/300\n",
      "554/554 [==============================] - 0s 183us/step - loss: 0.4894 - acc: 0.7563 - val_loss: 0.5758 - val_acc: 0.7245\n",
      "Epoch 103/300\n",
      "554/554 [==============================] - 0s 181us/step - loss: 0.5017 - acc: 0.7310 - val_loss: 0.5734 - val_acc: 0.6735\n",
      "Epoch 104/300\n",
      "554/554 [==============================] - 0s 180us/step - loss: 0.5033 - acc: 0.7527 - val_loss: 0.5558 - val_acc: 0.7143\n",
      "Epoch 105/300\n",
      "554/554 [==============================] - 0s 181us/step - loss: 0.4950 - acc: 0.7527 - val_loss: 0.5599 - val_acc: 0.7449\n",
      "Epoch 106/300\n",
      "554/554 [==============================] - 0s 207us/step - loss: 0.4971 - acc: 0.7310 - val_loss: 0.5772 - val_acc: 0.7143\n",
      "Epoch 107/300\n",
      "554/554 [==============================] - 0s 180us/step - loss: 0.4949 - acc: 0.7599 - val_loss: 0.5662 - val_acc: 0.6633\n",
      "Epoch 108/300\n",
      "554/554 [==============================] - 0s 178us/step - loss: 0.4872 - acc: 0.7744 - val_loss: 0.5700 - val_acc: 0.6735\n",
      "Epoch 109/300\n",
      "554/554 [==============================] - 0s 210us/step - loss: 0.5056 - acc: 0.7581 - val_loss: 0.5632 - val_acc: 0.7041\n",
      "Epoch 110/300\n",
      "554/554 [==============================] - 0s 197us/step - loss: 0.4948 - acc: 0.7563 - val_loss: 0.5772 - val_acc: 0.7245\n",
      "Epoch 111/300\n",
      "554/554 [==============================] - 0s 210us/step - loss: 0.4930 - acc: 0.7491 - val_loss: 0.5810 - val_acc: 0.6939\n",
      "Epoch 112/300\n",
      "554/554 [==============================] - 0s 209us/step - loss: 0.4763 - acc: 0.7726 - val_loss: 0.5817 - val_acc: 0.7245\n",
      "Epoch 113/300\n",
      "554/554 [==============================] - 0s 209us/step - loss: 0.4855 - acc: 0.7617 - val_loss: 0.5694 - val_acc: 0.7041\n",
      "Epoch 114/300\n",
      "554/554 [==============================] - 0s 194us/step - loss: 0.4962 - acc: 0.7780 - val_loss: 0.5845 - val_acc: 0.7143\n",
      "Epoch 115/300\n",
      "554/554 [==============================] - 0s 191us/step - loss: 0.4985 - acc: 0.7690 - val_loss: 0.5697 - val_acc: 0.6939\n",
      "Epoch 116/300\n",
      "554/554 [==============================] - 0s 181us/step - loss: 0.4845 - acc: 0.7635 - val_loss: 0.5972 - val_acc: 0.7347\n",
      "Epoch 117/300\n",
      "554/554 [==============================] - 0s 180us/step - loss: 0.5082 - acc: 0.7455 - val_loss: 0.5950 - val_acc: 0.7245\n",
      "Epoch 118/300\n",
      "554/554 [==============================] - 0s 210us/step - loss: 0.5010 - acc: 0.7509 - val_loss: 0.5639 - val_acc: 0.7245\n",
      "Epoch 119/300\n",
      "554/554 [==============================] - 0s 181us/step - loss: 0.5035 - acc: 0.7310 - val_loss: 0.5541 - val_acc: 0.7245\n",
      "Epoch 120/300\n",
      "554/554 [==============================] - 0s 183us/step - loss: 0.4911 - acc: 0.7617 - val_loss: 0.6126 - val_acc: 0.7041\n",
      "Epoch 121/300\n",
      "554/554 [==============================] - 0s 207us/step - loss: 0.5206 - acc: 0.7383 - val_loss: 0.5630 - val_acc: 0.7041\n",
      "Epoch 122/300\n",
      "554/554 [==============================] - 0s 181us/step - loss: 0.4839 - acc: 0.7617 - val_loss: 0.5738 - val_acc: 0.6939\n",
      "Epoch 123/300\n",
      "554/554 [==============================] - 0s 182us/step - loss: 0.4864 - acc: 0.7726 - val_loss: 0.5609 - val_acc: 0.6837\n",
      "Epoch 124/300\n",
      "554/554 [==============================] - 0s 209us/step - loss: 0.4797 - acc: 0.7744 - val_loss: 0.5494 - val_acc: 0.7551\n",
      "Epoch 125/300\n",
      "554/554 [==============================] - 0s 182us/step - loss: 0.4854 - acc: 0.7744 - val_loss: 0.5805 - val_acc: 0.6939\n",
      "Epoch 126/300\n",
      "554/554 [==============================] - 0s 207us/step - loss: 0.4868 - acc: 0.7509 - val_loss: 0.5717 - val_acc: 0.7041\n",
      "Epoch 127/300\n",
      "554/554 [==============================] - 0s 186us/step - loss: 0.4784 - acc: 0.7744 - val_loss: 0.5630 - val_acc: 0.7347\n",
      "Epoch 128/300\n",
      "554/554 [==============================] - 0s 203us/step - loss: 0.4852 - acc: 0.7744 - val_loss: 0.6046 - val_acc: 0.6633\n",
      "Epoch 129/300\n",
      "554/554 [==============================] - 0s 183us/step - loss: 0.5152 - acc: 0.7274 - val_loss: 0.5672 - val_acc: 0.7041\n",
      "Epoch 130/300\n",
      "554/554 [==============================] - 0s 204us/step - loss: 0.4747 - acc: 0.7798 - val_loss: 0.5839 - val_acc: 0.6837\n",
      "Epoch 131/300\n",
      "554/554 [==============================] - 0s 179us/step - loss: 0.4973 - acc: 0.7653 - val_loss: 0.5585 - val_acc: 0.7245\n",
      "Epoch 132/300\n",
      "554/554 [==============================] - 0s 190us/step - loss: 0.4844 - acc: 0.7563 - val_loss: 0.5680 - val_acc: 0.7449\n",
      "Epoch 133/300\n",
      "554/554 [==============================] - 0s 204us/step - loss: 0.4894 - acc: 0.7635 - val_loss: 0.5840 - val_acc: 0.7143\n",
      "Epoch 134/300\n",
      "554/554 [==============================] - 0s 201us/step - loss: 0.4814 - acc: 0.7708 - val_loss: 0.5659 - val_acc: 0.6837\n",
      "Epoch 135/300\n",
      "554/554 [==============================] - 0s 185us/step - loss: 0.4703 - acc: 0.7852 - val_loss: 0.5956 - val_acc: 0.6939\n",
      "Epoch 136/300\n",
      "554/554 [==============================] - 0s 180us/step - loss: 0.4703 - acc: 0.7834 - val_loss: 0.5657 - val_acc: 0.7041\n",
      "Epoch 137/300\n",
      "554/554 [==============================] - 0s 188us/step - loss: 0.4742 - acc: 0.7798 - val_loss: 0.5647 - val_acc: 0.7245\n",
      "Epoch 138/300\n",
      "554/554 [==============================] - 0s 180us/step - loss: 0.4811 - acc: 0.7690 - val_loss: 0.5646 - val_acc: 0.6939\n",
      "Epoch 139/300\n",
      "554/554 [==============================] - 0s 204us/step - loss: 0.4866 - acc: 0.7690 - val_loss: 0.5633 - val_acc: 0.7449\n",
      "Epoch 140/300\n",
      "554/554 [==============================] - 0s 189us/step - loss: 0.4740 - acc: 0.7762 - val_loss: 0.6806 - val_acc: 0.6735\n",
      "Epoch 141/300\n",
      "554/554 [==============================] - 0s 191us/step - loss: 0.5074 - acc: 0.7491 - val_loss: 0.5931 - val_acc: 0.6837\n",
      "Epoch 142/300\n",
      "554/554 [==============================] - 0s 210us/step - loss: 0.4738 - acc: 0.7690 - val_loss: 0.5629 - val_acc: 0.7041\n",
      "Epoch 143/300\n",
      "554/554 [==============================] - 0s 199us/step - loss: 0.4923 - acc: 0.7617 - val_loss: 0.5763 - val_acc: 0.6939\n",
      "Epoch 144/300\n",
      "554/554 [==============================] - 0s 175us/step - loss: 0.4751 - acc: 0.7690 - val_loss: 0.5705 - val_acc: 0.6531\n",
      "Epoch 145/300\n",
      "554/554 [==============================] - 0s 196us/step - loss: 0.4708 - acc: 0.7690 - val_loss: 0.5766 - val_acc: 0.6633\n",
      "Epoch 146/300\n",
      "554/554 [==============================] - 0s 211us/step - loss: 0.4766 - acc: 0.7708 - val_loss: 0.5702 - val_acc: 0.7041\n",
      "Epoch 147/300\n",
      "554/554 [==============================] - 0s 215us/step - loss: 0.4642 - acc: 0.7816 - val_loss: 0.5562 - val_acc: 0.7041\n",
      "Epoch 148/300\n",
      "554/554 [==============================] - 0s 180us/step - loss: 0.4804 - acc: 0.7852 - val_loss: 0.5884 - val_acc: 0.7143\n",
      "Epoch 149/300\n",
      "554/554 [==============================] - 0s 184us/step - loss: 0.4796 - acc: 0.7708 - val_loss: 0.5963 - val_acc: 0.6939\n",
      "Epoch 150/300\n",
      "554/554 [==============================] - 0s 217us/step - loss: 0.4752 - acc: 0.7780 - val_loss: 0.5645 - val_acc: 0.6837\n",
      "Epoch 151/300\n",
      "554/554 [==============================] - 0s 134us/step - loss: 0.4834 - acc: 0.7780 - val_loss: 0.5738 - val_acc: 0.6837\n",
      "Epoch 152/300\n",
      "554/554 [==============================] - 0s 222us/step - loss: 0.4780 - acc: 0.7671 - val_loss: 0.5766 - val_acc: 0.7245\n",
      "Epoch 153/300\n",
      "554/554 [==============================] - 0s 204us/step - loss: 0.4951 - acc: 0.7581 - val_loss: 0.5611 - val_acc: 0.7143\n",
      "Epoch 154/300\n",
      "554/554 [==============================] - 0s 170us/step - loss: 0.4731 - acc: 0.7780 - val_loss: 0.5800 - val_acc: 0.7041\n",
      "Epoch 155/300\n",
      "554/554 [==============================] - 0s 226us/step - loss: 0.4733 - acc: 0.7906 - val_loss: 0.5764 - val_acc: 0.7245\n",
      "Epoch 156/300\n",
      "554/554 [==============================] - 0s 167us/step - loss: 0.4696 - acc: 0.7780 - val_loss: 0.5788 - val_acc: 0.7347\n",
      "Epoch 157/300\n",
      "554/554 [==============================] - 0s 189us/step - loss: 0.4779 - acc: 0.7671 - val_loss: 0.5618 - val_acc: 0.7347\n",
      "Epoch 158/300\n",
      "554/554 [==============================] - 0s 193us/step - loss: 0.4764 - acc: 0.7870 - val_loss: 0.5662 - val_acc: 0.6837\n",
      "Epoch 159/300\n",
      "554/554 [==============================] - 0s 175us/step - loss: 0.4596 - acc: 0.7870 - val_loss: 0.5728 - val_acc: 0.7245\n",
      "Epoch 160/300\n",
      "554/554 [==============================] - 0s 184us/step - loss: 0.4699 - acc: 0.7834 - val_loss: 0.5479 - val_acc: 0.7245\n",
      "Epoch 161/300\n",
      "554/554 [==============================] - 0s 177us/step - loss: 0.4730 - acc: 0.7762 - val_loss: 0.5724 - val_acc: 0.6837\n",
      "Epoch 162/300\n",
      "554/554 [==============================] - 0s 199us/step - loss: 0.4767 - acc: 0.7780 - val_loss: 0.5690 - val_acc: 0.6837\n",
      "Epoch 163/300\n",
      "554/554 [==============================] - 0s 211us/step - loss: 0.4677 - acc: 0.7816 - val_loss: 0.5735 - val_acc: 0.7041\n",
      "Epoch 164/300\n",
      "554/554 [==============================] - 0s 128us/step - loss: 0.4630 - acc: 0.7870 - val_loss: 0.5684 - val_acc: 0.7041\n",
      "Epoch 165/300\n",
      "554/554 [==============================] - 0s 153us/step - loss: 0.4615 - acc: 0.7690 - val_loss: 0.5627 - val_acc: 0.6939\n",
      "Epoch 166/300\n",
      "554/554 [==============================] - 0s 220us/step - loss: 0.4811 - acc: 0.7635 - val_loss: 0.5616 - val_acc: 0.6939\n",
      "Epoch 167/300\n",
      "554/554 [==============================] - 0s 203us/step - loss: 0.4710 - acc: 0.7726 - val_loss: 0.5723 - val_acc: 0.7245\n",
      "Epoch 168/300\n",
      "554/554 [==============================] - 0s 199us/step - loss: 0.4689 - acc: 0.7780 - val_loss: 0.6020 - val_acc: 0.7143\n",
      "Epoch 169/300\n",
      "554/554 [==============================] - 0s 212us/step - loss: 0.4549 - acc: 0.7996 - val_loss: 0.5659 - val_acc: 0.7143\n",
      "Epoch 170/300\n",
      "554/554 [==============================] - 0s 217us/step - loss: 0.4611 - acc: 0.7942 - val_loss: 0.5726 - val_acc: 0.7347\n",
      "Epoch 171/300\n",
      "554/554 [==============================] - 0s 223us/step - loss: 0.4606 - acc: 0.7708 - val_loss: 0.5640 - val_acc: 0.7347\n",
      "Epoch 172/300\n",
      "554/554 [==============================] - 0s 215us/step - loss: 0.4581 - acc: 0.7852 - val_loss: 0.5724 - val_acc: 0.7041\n",
      "Epoch 173/300\n",
      "554/554 [==============================] - 0s 205us/step - loss: 0.4641 - acc: 0.7762 - val_loss: 0.5693 - val_acc: 0.7347\n",
      "Epoch 174/300\n",
      "554/554 [==============================] - 0s 213us/step - loss: 0.4578 - acc: 0.7852 - val_loss: 0.5577 - val_acc: 0.7143\n",
      "Epoch 175/300\n",
      "554/554 [==============================] - 0s 174us/step - loss: 0.4896 - acc: 0.7780 - val_loss: 0.5718 - val_acc: 0.7347\n",
      "Epoch 176/300\n",
      "554/554 [==============================] - 0s 179us/step - loss: 0.4931 - acc: 0.7671 - val_loss: 0.5644 - val_acc: 0.7041\n",
      "Epoch 177/300\n",
      "554/554 [==============================] - 0s 173us/step - loss: 0.4596 - acc: 0.7852 - val_loss: 0.6293 - val_acc: 0.7245\n",
      "Epoch 178/300\n",
      "554/554 [==============================] - 0s 177us/step - loss: 0.4824 - acc: 0.7653 - val_loss: 0.5543 - val_acc: 0.7245\n",
      "Epoch 179/300\n",
      "554/554 [==============================] - 0s 215us/step - loss: 0.4535 - acc: 0.7888 - val_loss: 0.5535 - val_acc: 0.7143\n",
      "Epoch 180/300\n",
      "554/554 [==============================] - 0s 208us/step - loss: 0.4603 - acc: 0.7834 - val_loss: 0.5698 - val_acc: 0.6939\n",
      "Epoch 181/300\n",
      "554/554 [==============================] - 0s 210us/step - loss: 0.4548 - acc: 0.7852 - val_loss: 0.5762 - val_acc: 0.7041\n",
      "Epoch 182/300\n",
      "554/554 [==============================] - 0s 195us/step - loss: 0.4780 - acc: 0.7617 - val_loss: 0.5664 - val_acc: 0.6837\n",
      "Epoch 183/300\n",
      "554/554 [==============================] - 0s 193us/step - loss: 0.4631 - acc: 0.7834 - val_loss: 0.5579 - val_acc: 0.7245\n",
      "Epoch 184/300\n",
      "554/554 [==============================] - 0s 178us/step - loss: 0.4657 - acc: 0.7744 - val_loss: 0.5799 - val_acc: 0.6939\n",
      "Epoch 185/300\n",
      "554/554 [==============================] - 0s 208us/step - loss: 0.4596 - acc: 0.7942 - val_loss: 0.5817 - val_acc: 0.7245\n",
      "Epoch 186/300\n",
      "554/554 [==============================] - 0s 196us/step - loss: 0.4615 - acc: 0.7798 - val_loss: 0.5727 - val_acc: 0.7347\n",
      "Epoch 187/300\n",
      "554/554 [==============================] - 0s 216us/step - loss: 0.4599 - acc: 0.7780 - val_loss: 0.6019 - val_acc: 0.7143\n",
      "Epoch 188/300\n",
      "554/554 [==============================] - 0s 196us/step - loss: 0.4555 - acc: 0.7888 - val_loss: 0.5849 - val_acc: 0.7143\n",
      "Epoch 189/300\n",
      "554/554 [==============================] - 0s 220us/step - loss: 0.4601 - acc: 0.7744 - val_loss: 0.5677 - val_acc: 0.7041\n",
      "Epoch 190/300\n",
      "554/554 [==============================] - 0s 195us/step - loss: 0.4651 - acc: 0.7780 - val_loss: 0.5843 - val_acc: 0.6939\n",
      "Epoch 191/300\n",
      "554/554 [==============================] - 0s 216us/step - loss: 0.4567 - acc: 0.8069 - val_loss: 0.5479 - val_acc: 0.7143\n",
      "Epoch 192/300\n",
      "554/554 [==============================] - 0s 201us/step - loss: 0.4548 - acc: 0.7726 - val_loss: 0.5617 - val_acc: 0.7449\n",
      "Epoch 193/300\n",
      "554/554 [==============================] - 0s 213us/step - loss: 0.4589 - acc: 0.7942 - val_loss: 0.5821 - val_acc: 0.7245\n",
      "Epoch 194/300\n",
      "554/554 [==============================] - 0s 202us/step - loss: 0.4524 - acc: 0.7816 - val_loss: 0.5610 - val_acc: 0.7449\n",
      "Epoch 195/300\n",
      "554/554 [==============================] - 0s 118us/step - loss: 0.4765 - acc: 0.7671 - val_loss: 0.5707 - val_acc: 0.7245\n",
      "Epoch 196/300\n",
      "554/554 [==============================] - 0s 192us/step - loss: 0.4469 - acc: 0.7996 - val_loss: 0.5872 - val_acc: 0.6735\n",
      "Epoch 197/300\n",
      "554/554 [==============================] - 0s 186us/step - loss: 0.4761 - acc: 0.7617 - val_loss: 0.6877 - val_acc: 0.7143\n",
      "Epoch 198/300\n",
      "554/554 [==============================] - 0s 126us/step - loss: 0.4871 - acc: 0.7617 - val_loss: 0.5737 - val_acc: 0.7245\n",
      "Epoch 199/300\n",
      "554/554 [==============================] - 0s 141us/step - loss: 0.4598 - acc: 0.7924 - val_loss: 0.5953 - val_acc: 0.6939\n",
      "Epoch 200/300\n",
      "554/554 [==============================] - 0s 196us/step - loss: 0.4741 - acc: 0.7852 - val_loss: 0.6136 - val_acc: 0.6939\n",
      "Epoch 201/300\n",
      "554/554 [==============================] - 0s 215us/step - loss: 0.4530 - acc: 0.7816 - val_loss: 0.5725 - val_acc: 0.7143\n",
      "Epoch 202/300\n",
      "554/554 [==============================] - 0s 212us/step - loss: 0.4398 - acc: 0.7960 - val_loss: 0.5929 - val_acc: 0.6939\n",
      "Epoch 203/300\n",
      "554/554 [==============================] - 0s 191us/step - loss: 0.4612 - acc: 0.7834 - val_loss: 0.5881 - val_acc: 0.7347\n",
      "Epoch 204/300\n",
      "554/554 [==============================] - 0s 214us/step - loss: 0.4514 - acc: 0.7978 - val_loss: 0.5574 - val_acc: 0.7245\n",
      "Epoch 205/300\n",
      "554/554 [==============================] - 0s 194us/step - loss: 0.4689 - acc: 0.7744 - val_loss: 0.5919 - val_acc: 0.7041\n",
      "Epoch 206/300\n",
      "554/554 [==============================] - 0s 179us/step - loss: 0.4586 - acc: 0.7798 - val_loss: 0.5885 - val_acc: 0.6939\n",
      "Epoch 207/300\n",
      "554/554 [==============================] - 0s 183us/step - loss: 0.4611 - acc: 0.7816 - val_loss: 0.5620 - val_acc: 0.7143\n",
      "Epoch 208/300\n",
      "554/554 [==============================] - 0s 180us/step - loss: 0.4539 - acc: 0.7942 - val_loss: 0.6025 - val_acc: 0.6939\n",
      "Epoch 209/300\n",
      "554/554 [==============================] - 0s 213us/step - loss: 0.4542 - acc: 0.7960 - val_loss: 0.6017 - val_acc: 0.7347\n",
      "Epoch 210/300\n",
      "554/554 [==============================] - 0s 189us/step - loss: 0.4560 - acc: 0.7888 - val_loss: 0.5776 - val_acc: 0.7143\n",
      "Epoch 211/300\n",
      "554/554 [==============================] - 0s 223us/step - loss: 0.4598 - acc: 0.7834 - val_loss: 0.5773 - val_acc: 0.7041\n",
      "Epoch 212/300\n",
      "554/554 [==============================] - 0s 143us/step - loss: 0.4525 - acc: 0.7744 - val_loss: 0.5691 - val_acc: 0.6633\n",
      "Epoch 213/300\n",
      "554/554 [==============================] - 0s 155us/step - loss: 0.4576 - acc: 0.7762 - val_loss: 0.6398 - val_acc: 0.7449\n",
      "Epoch 214/300\n",
      "554/554 [==============================] - 0s 208us/step - loss: 0.4496 - acc: 0.7996 - val_loss: 0.5490 - val_acc: 0.6837\n",
      "Epoch 215/300\n",
      "554/554 [==============================] - 0s 199us/step - loss: 0.4430 - acc: 0.7960 - val_loss: 0.5756 - val_acc: 0.7041\n",
      "Epoch 216/300\n",
      "554/554 [==============================] - 0s 196us/step - loss: 0.4491 - acc: 0.7960 - val_loss: 0.5659 - val_acc: 0.7245\n",
      "Epoch 217/300\n",
      "554/554 [==============================] - 0s 195us/step - loss: 0.4481 - acc: 0.7870 - val_loss: 0.5782 - val_acc: 0.7449\n",
      "Epoch 218/300\n",
      "554/554 [==============================] - 0s 188us/step - loss: 0.4606 - acc: 0.7726 - val_loss: 0.6065 - val_acc: 0.7041\n",
      "Epoch 219/300\n",
      "554/554 [==============================] - 0s 224us/step - loss: 0.4609 - acc: 0.7834 - val_loss: 0.5622 - val_acc: 0.7143\n",
      "Epoch 220/300\n",
      "554/554 [==============================] - 0s 213us/step - loss: 0.4432 - acc: 0.7996 - val_loss: 0.5583 - val_acc: 0.7347\n",
      "Epoch 221/300\n",
      "554/554 [==============================] - 0s 214us/step - loss: 0.4538 - acc: 0.7852 - val_loss: 0.5600 - val_acc: 0.7245\n",
      "Epoch 222/300\n",
      "554/554 [==============================] - 0s 223us/step - loss: 0.4577 - acc: 0.7780 - val_loss: 0.5656 - val_acc: 0.7143\n",
      "Epoch 223/300\n",
      "554/554 [==============================] - 0s 189us/step - loss: 0.4466 - acc: 0.7924 - val_loss: 0.5597 - val_acc: 0.7041\n",
      "Epoch 224/300\n",
      "554/554 [==============================] - 0s 201us/step - loss: 0.4466 - acc: 0.7906 - val_loss: 0.5615 - val_acc: 0.6837\n",
      "Epoch 225/300\n",
      "554/554 [==============================] - 0s 183us/step - loss: 0.4480 - acc: 0.7960 - val_loss: 0.5641 - val_acc: 0.7143\n",
      "Epoch 226/300\n",
      "554/554 [==============================] - 0s 199us/step - loss: 0.4467 - acc: 0.8051 - val_loss: 0.5618 - val_acc: 0.7347\n",
      "Epoch 227/300\n",
      "554/554 [==============================] - 0s 183us/step - loss: 0.4460 - acc: 0.7924 - val_loss: 0.5653 - val_acc: 0.7143\n",
      "Epoch 228/300\n",
      "554/554 [==============================] - 0s 184us/step - loss: 0.4460 - acc: 0.7852 - val_loss: 0.5618 - val_acc: 0.7041\n",
      "Epoch 229/300\n",
      "554/554 [==============================] - 0s 198us/step - loss: 0.4434 - acc: 0.7960 - val_loss: 0.5595 - val_acc: 0.7143\n",
      "Epoch 230/300\n",
      "554/554 [==============================] - 0s 222us/step - loss: 0.4590 - acc: 0.7924 - val_loss: 0.5452 - val_acc: 0.7347\n",
      "Epoch 231/300\n",
      "554/554 [==============================] - 0s 197us/step - loss: 0.4566 - acc: 0.7924 - val_loss: 0.5554 - val_acc: 0.6939\n",
      "Epoch 232/300\n",
      "554/554 [==============================] - 0s 209us/step - loss: 0.4531 - acc: 0.7960 - val_loss: 0.5424 - val_acc: 0.7449\n",
      "Epoch 233/300\n",
      "554/554 [==============================] - 0s 211us/step - loss: 0.4488 - acc: 0.7996 - val_loss: 0.5458 - val_acc: 0.7347\n",
      "Epoch 234/300\n",
      "554/554 [==============================] - 0s 184us/step - loss: 0.4543 - acc: 0.7888 - val_loss: 0.5798 - val_acc: 0.7245\n",
      "Epoch 235/300\n",
      "554/554 [==============================] - 0s 167us/step - loss: 0.4529 - acc: 0.7924 - val_loss: 0.5524 - val_acc: 0.7245\n",
      "Epoch 236/300\n",
      "554/554 [==============================] - 0s 157us/step - loss: 0.4680 - acc: 0.7834 - val_loss: 0.5659 - val_acc: 0.7143\n",
      "Epoch 237/300\n",
      "554/554 [==============================] - 0s 156us/step - loss: 0.4687 - acc: 0.7924 - val_loss: 0.5785 - val_acc: 0.7449\n",
      "Epoch 238/300\n",
      "554/554 [==============================] - 0s 168us/step - loss: 0.4497 - acc: 0.7888 - val_loss: 0.5456 - val_acc: 0.7347\n",
      "Epoch 239/300\n",
      "554/554 [==============================] - 0s 200us/step - loss: 0.4484 - acc: 0.7924 - val_loss: 0.5400 - val_acc: 0.7449\n",
      "Epoch 240/300\n",
      "554/554 [==============================] - 0s 198us/step - loss: 0.4571 - acc: 0.7834 - val_loss: 0.5601 - val_acc: 0.7041\n",
      "Epoch 241/300\n",
      "554/554 [==============================] - 0s 193us/step - loss: 0.4644 - acc: 0.7780 - val_loss: 0.5494 - val_acc: 0.7245\n",
      "Epoch 242/300\n",
      "554/554 [==============================] - 0s 187us/step - loss: 0.4406 - acc: 0.7924 - val_loss: 0.5902 - val_acc: 0.7245\n",
      "Epoch 243/300\n",
      "554/554 [==============================] - 0s 191us/step - loss: 0.4530 - acc: 0.8069 - val_loss: 0.5805 - val_acc: 0.7143\n",
      "Epoch 244/300\n",
      "554/554 [==============================] - 0s 188us/step - loss: 0.4470 - acc: 0.7924 - val_loss: 0.5977 - val_acc: 0.7347\n",
      "Epoch 245/300\n",
      "554/554 [==============================] - 0s 193us/step - loss: 0.4805 - acc: 0.7708 - val_loss: 0.6913 - val_acc: 0.7347\n",
      "Epoch 246/300\n",
      "554/554 [==============================] - 0s 193us/step - loss: 0.4718 - acc: 0.7834 - val_loss: 0.5630 - val_acc: 0.6939\n",
      "Epoch 247/300\n",
      "554/554 [==============================] - 0s 199us/step - loss: 0.4558 - acc: 0.7671 - val_loss: 0.5612 - val_acc: 0.7041\n",
      "Epoch 248/300\n",
      "554/554 [==============================] - 0s 183us/step - loss: 0.4450 - acc: 0.7852 - val_loss: 0.5744 - val_acc: 0.7041\n",
      "Epoch 249/300\n",
      "554/554 [==============================] - 0s 197us/step - loss: 0.4380 - acc: 0.7942 - val_loss: 0.5524 - val_acc: 0.7347\n",
      "Epoch 250/300\n",
      "554/554 [==============================] - 0s 188us/step - loss: 0.4536 - acc: 0.7924 - val_loss: 0.5617 - val_acc: 0.7041\n",
      "Epoch 251/300\n",
      "554/554 [==============================] - 0s 197us/step - loss: 0.4606 - acc: 0.7888 - val_loss: 0.5569 - val_acc: 0.7041\n",
      "Epoch 252/300\n",
      "554/554 [==============================] - 0s 195us/step - loss: 0.4471 - acc: 0.8051 - val_loss: 0.5627 - val_acc: 0.7245\n",
      "Epoch 253/300\n",
      "554/554 [==============================] - 0s 194us/step - loss: 0.4404 - acc: 0.7978 - val_loss: 0.5553 - val_acc: 0.7041\n",
      "Epoch 254/300\n",
      "554/554 [==============================] - 0s 187us/step - loss: 0.4409 - acc: 0.8069 - val_loss: 0.5616 - val_acc: 0.7041\n",
      "Epoch 255/300\n",
      "554/554 [==============================] - 0s 203us/step - loss: 0.4482 - acc: 0.7870 - val_loss: 0.5714 - val_acc: 0.7143\n",
      "Epoch 256/300\n",
      "554/554 [==============================] - 0s 199us/step - loss: 0.4486 - acc: 0.7852 - val_loss: 0.5627 - val_acc: 0.7449\n",
      "Epoch 257/300\n",
      "554/554 [==============================] - 0s 188us/step - loss: 0.4428 - acc: 0.8069 - val_loss: 0.5661 - val_acc: 0.7245\n",
      "Epoch 258/300\n",
      "554/554 [==============================] - 0s 191us/step - loss: 0.4415 - acc: 0.8105 - val_loss: 0.5744 - val_acc: 0.7143\n",
      "Epoch 259/300\n",
      "554/554 [==============================] - 0s 190us/step - loss: 0.4526 - acc: 0.8014 - val_loss: 0.5572 - val_acc: 0.7245\n",
      "Epoch 260/300\n",
      "554/554 [==============================] - 0s 183us/step - loss: 0.4563 - acc: 0.7744 - val_loss: 0.5394 - val_acc: 0.7143\n",
      "Epoch 261/300\n",
      "554/554 [==============================] - 0s 195us/step - loss: 0.4651 - acc: 0.7726 - val_loss: 0.5293 - val_acc: 0.7143\n",
      "Epoch 262/300\n",
      "554/554 [==============================] - 0s 195us/step - loss: 0.4632 - acc: 0.7671 - val_loss: 0.5399 - val_acc: 0.7245\n",
      "Epoch 263/300\n",
      "554/554 [==============================] - 0s 195us/step - loss: 0.4445 - acc: 0.7960 - val_loss: 0.5478 - val_acc: 0.7143\n",
      "Epoch 264/300\n",
      "554/554 [==============================] - 0s 192us/step - loss: 0.4468 - acc: 0.7834 - val_loss: 0.5516 - val_acc: 0.7347\n",
      "Epoch 265/300\n",
      "554/554 [==============================] - 0s 192us/step - loss: 0.4552 - acc: 0.7906 - val_loss: 0.5567 - val_acc: 0.7041\n",
      "Epoch 266/300\n",
      "554/554 [==============================] - 0s 190us/step - loss: 0.4591 - acc: 0.7780 - val_loss: 0.5490 - val_acc: 0.7347\n",
      "Epoch 267/300\n",
      "554/554 [==============================] - 0s 199us/step - loss: 0.4480 - acc: 0.7942 - val_loss: 0.5478 - val_acc: 0.7143\n",
      "Epoch 268/300\n",
      "554/554 [==============================] - 0s 210us/step - loss: 0.4423 - acc: 0.8069 - val_loss: 0.5560 - val_acc: 0.7143\n",
      "Epoch 269/300\n",
      "554/554 [==============================] - 0s 213us/step - loss: 0.4475 - acc: 0.7906 - val_loss: 0.5674 - val_acc: 0.7143\n",
      "Epoch 270/300\n",
      "554/554 [==============================] - 0s 202us/step - loss: 0.4546 - acc: 0.7870 - val_loss: 0.5886 - val_acc: 0.7245\n",
      "Epoch 271/300\n",
      "554/554 [==============================] - 0s 185us/step - loss: 0.4519 - acc: 0.7870 - val_loss: 0.5525 - val_acc: 0.7041\n",
      "Epoch 272/300\n",
      "554/554 [==============================] - 0s 198us/step - loss: 0.4518 - acc: 0.8032 - val_loss: 0.5647 - val_acc: 0.7245\n",
      "Epoch 273/300\n",
      "554/554 [==============================] - 0s 188us/step - loss: 0.4371 - acc: 0.7942 - val_loss: 0.5499 - val_acc: 0.7041\n",
      "Epoch 274/300\n",
      "554/554 [==============================] - 0s 235us/step - loss: 0.4355 - acc: 0.8032 - val_loss: 0.5893 - val_acc: 0.6939\n",
      "Epoch 275/300\n",
      "554/554 [==============================] - 0s 200us/step - loss: 0.4477 - acc: 0.7960 - val_loss: 0.5611 - val_acc: 0.7041\n",
      "Epoch 276/300\n",
      "554/554 [==============================] - 0s 227us/step - loss: 0.4509 - acc: 0.7960 - val_loss: 0.5558 - val_acc: 0.7143\n",
      "Epoch 277/300\n",
      "554/554 [==============================] - 0s 201us/step - loss: 0.4469 - acc: 0.8069 - val_loss: 0.5441 - val_acc: 0.7245\n",
      "Epoch 278/300\n",
      "554/554 [==============================] - 0s 188us/step - loss: 0.4455 - acc: 0.7978 - val_loss: 0.5481 - val_acc: 0.7245\n",
      "Epoch 279/300\n",
      "554/554 [==============================] - 0s 191us/step - loss: 0.4355 - acc: 0.8014 - val_loss: 0.5527 - val_acc: 0.7245\n",
      "Epoch 280/300\n",
      "554/554 [==============================] - 0s 190us/step - loss: 0.4324 - acc: 0.8087 - val_loss: 0.5833 - val_acc: 0.6939\n",
      "Epoch 281/300\n",
      "554/554 [==============================] - 0s 198us/step - loss: 0.4338 - acc: 0.8087 - val_loss: 0.5472 - val_acc: 0.7347\n",
      "Epoch 282/300\n",
      "554/554 [==============================] - 0s 187us/step - loss: 0.4386 - acc: 0.7942 - val_loss: 0.5638 - val_acc: 0.7143\n",
      "Epoch 283/300\n",
      "554/554 [==============================] - 0s 196us/step - loss: 0.4504 - acc: 0.7924 - val_loss: 0.5595 - val_acc: 0.7245\n",
      "Epoch 284/300\n",
      "554/554 [==============================] - 0s 187us/step - loss: 0.4407 - acc: 0.8051 - val_loss: 0.5535 - val_acc: 0.7143\n",
      "Epoch 285/300\n",
      "554/554 [==============================] - 0s 170us/step - loss: 0.4380 - acc: 0.7888 - val_loss: 0.5842 - val_acc: 0.7041\n",
      "Epoch 286/300\n",
      "554/554 [==============================] - 0s 151us/step - loss: 0.4417 - acc: 0.8051 - val_loss: 0.5590 - val_acc: 0.7245\n",
      "Epoch 287/300\n",
      "554/554 [==============================] - 0s 116us/step - loss: 0.4397 - acc: 0.8014 - val_loss: 0.5657 - val_acc: 0.7449\n",
      "Epoch 288/300\n",
      "554/554 [==============================] - 0s 118us/step - loss: 0.4461 - acc: 0.8032 - val_loss: 0.5495 - val_acc: 0.7041\n",
      "Epoch 289/300\n",
      "554/554 [==============================] - 0s 192us/step - loss: 0.4360 - acc: 0.8032 - val_loss: 0.5535 - val_acc: 0.7041\n",
      "Epoch 290/300\n",
      "554/554 [==============================] - 0s 184us/step - loss: 0.4349 - acc: 0.8069 - val_loss: 0.5547 - val_acc: 0.7245\n",
      "Epoch 291/300\n",
      "554/554 [==============================] - 0s 147us/step - loss: 0.4441 - acc: 0.8069 - val_loss: 0.5718 - val_acc: 0.7653\n",
      "Epoch 292/300\n",
      "554/554 [==============================] - 0s 130us/step - loss: 0.4387 - acc: 0.7942 - val_loss: 0.5633 - val_acc: 0.7653\n",
      "Epoch 293/300\n",
      "554/554 [==============================] - 0s 128us/step - loss: 0.4516 - acc: 0.7888 - val_loss: 0.5529 - val_acc: 0.7041\n",
      "Epoch 294/300\n",
      "554/554 [==============================] - 0s 150us/step - loss: 0.4515 - acc: 0.7852 - val_loss: 0.5620 - val_acc: 0.7755\n",
      "Epoch 295/300\n",
      "554/554 [==============================] - 0s 142us/step - loss: 0.4365 - acc: 0.7996 - val_loss: 0.5609 - val_acc: 0.7449\n",
      "Epoch 296/300\n",
      "554/554 [==============================] - 0s 132us/step - loss: 0.4339 - acc: 0.8213 - val_loss: 0.5372 - val_acc: 0.7041\n",
      "Epoch 297/300\n",
      "554/554 [==============================] - 0s 149us/step - loss: 0.4432 - acc: 0.7942 - val_loss: 0.6137 - val_acc: 0.7551\n",
      "Epoch 298/300\n",
      "554/554 [==============================] - 0s 138us/step - loss: 0.4517 - acc: 0.7852 - val_loss: 0.5574 - val_acc: 0.7143\n",
      "Epoch 299/300\n",
      "554/554 [==============================] - 0s 141us/step - loss: 0.4436 - acc: 0.8014 - val_loss: 0.5295 - val_acc: 0.7143\n",
      "Epoch 300/300\n",
      "554/554 [==============================] - 0s 156us/step - loss: 0.4481 - acc: 0.7888 - val_loss: 0.5593 - val_acc: 0.7143\n"
     ]
    }
   ],
   "source": [
    "# Fit the model\n",
    "#\n",
    "# Use 15% for Validation\n",
    "# Train for 300 epochs\n",
    "# User batch size = 10\n",
    "# Save the model fitting into the variable history\n",
    "# TODO\n",
    "\n",
    "history = model.fit(X_train, y_train, validation_split=0.15, batch_size=10, epochs=300)"
   ]
  },
  {
   "cell_type": "code",
   "execution_count": 48,
   "metadata": {
    "collapsed": true
   },
   "outputs": [
    {
     "name": "stdout",
     "output_type": "stream",
     "text": [
      "dict_keys(['val_loss', 'val_acc', 'loss', 'acc'])\n"
     ]
    }
   ],
   "source": [
    "# list all data in history\n",
    "print(history.history.keys())"
   ]
  },
  {
   "cell_type": "code",
   "execution_count": 49,
   "metadata": {
    "collapsed": true
   },
   "outputs": [
    {
     "data": {
      "image/png": "[encoded data removed]",
      "text/plain": [
       "<Figure size 432x288 with 1 Axes>"
      ]
     },
     "metadata": {
      "needs_background": "light"
     },
     "output_type": "display_data"
    }
   ],
   "source": [
    "# Plot the History of Training Loss (history.history['loss']) and the Validation Loss (history.history['val_loss'])\n",
    "# Title should be \"Model Loss\"\n",
    "# x label: \"Loss\"\n",
    "# y label: \"Epoch\"\n",
    "# Legend: \"Train\" and \"Validation\"\n",
    "# TODO\n",
    "plt.plot(history.history['loss'])\n",
    "plt.plot(history.history['val_loss'])\n",
    "plt.title('Model Loss')\n",
    "plt.xlabel('Epoch')\n",
    "plt.ylabel('Loss')\n",
    "plt.legend(['train','validation'])\n",
    "plt.show()"
   ]
  },
  {
   "cell_type": "code",
   "execution_count": 50,
   "metadata": {
    "collapsed": true
   },
   "outputs": [
    {
     "data": {
      "image/png": "[encoded data removed]",
      "text/plain": [
       "<Figure size 432x288 with 1 Axes>"
      ]
     },
     "metadata": {
      "needs_background": "light"
     },
     "output_type": "display_data"
    }
   ],
   "source": [
    "# Plot the History of Training Accuracy (history.history['acc']) and \n",
    "# the Validation Accuracy (history.history['val_acc'])\n",
    "#\n",
    "# Title should be \"Model Accuracy\"\n",
    "# x label: \"Accuracy\"\n",
    "# y label: \"Epoch\"\n",
    "# Legend: \"Train\" and \"Validation\"\n",
    "# TODO\n",
    "plt.plot(history.history['acc'])\n",
    "plt.plot(history.history['val_acc'])\n",
    "plt.title('Model Accuracy')\n",
    "plt.ylabel('accuracy')\n",
    "plt.xlabel('epoch')\n",
    "plt.legend(['train', 'test'])\n",
    "plt.show()"
   ]
  },
  {
   "cell_type": "code",
   "execution_count": 53,
   "metadata": {
    "collapsed": true
   },
   "outputs": [
    {
     "name": "stdout",
     "output_type": "stream",
     "text": [
      "116/116 [==============================] - 0s 66us/step\n"
     ]
    }
   ],
   "source": [
    "# Evaluate the loss and accuracy on the test data\n",
    "loss, accuracy = model.evaluate(X_test, y_test)"
   ]
  },
  {
   "cell_type": "code",
   "execution_count": 54,
   "metadata": {},
   "outputs": [
    {
     "name": "stdout",
     "output_type": "stream",
     "text": [
      "acc: 70.69%\n"
     ]
    }
   ],
   "source": [
    "scores = model.evaluate(X_test, y_test, verbose=0)\n",
    "print(\"%s: %.2f%%\" % (model.metrics_names[1], scores[1]*100))"
   ]
  },
  {
   "cell_type": "code",
   "execution_count": 55,
   "metadata": {
    "collapsed": true
   },
   "outputs": [
    {
     "name": "stdout",
     "output_type": "stream",
     "text": [
      "Test score: 0.6690251930006619\n",
      "Test accuracy: 0.706896555834803\n"
     ]
    }
   ],
   "source": [
    "print('Test score:', loss)\n",
    "print('Test accuracy:', accuracy)"
   ]
  },
  {
   "cell_type": "code",
   "execution_count": null,
   "metadata": {},
   "outputs": [],
   "source": []
  }
 ],
 "metadata": {
  "kernelspec": {
   "display_name": "Python 3",
   "language": "python",
   "name": "python3"
  },
  "language_info": {
   "codemirror_mode": {
    "name": "ipython",
    "version": 3
   },
   "file_extension": ".py",
   "mimetype": "text/x-python",
   "name": "python",
   "nbconvert_exporter": "python",
   "pygments_lexer": "ipython3",
   "version": "3.7.3"
  },
  "varInspector": {
   "cols": {
    "lenName": 16,
    "lenType": 16,
    "lenVar": 40
   },
   "kernels_config": {
    "python": {
     "delete_cmd_postfix": "",
     "delete_cmd_prefix": "del ",
     "library": "var_list.py",
     "varRefreshCmd": "print(var_dic_list())"
    },
    "r": {
     "delete_cmd_postfix": ") ",
     "delete_cmd_prefix": "rm(",
     "library": "var_list.r",
     "varRefreshCmd": "cat(var_dic_list()) "
    }
   },
   "types_to_exclude": [
    "module",
    "function",
    "builtin_function_or_method",
    "instance",
    "_Feature"
   ],
   "window_display": false
  }
 },
 "nbformat": 4,
 "nbformat_minor": 2
}
