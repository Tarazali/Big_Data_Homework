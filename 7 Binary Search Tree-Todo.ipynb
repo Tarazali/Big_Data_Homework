{
 "cells": [
  {
   "cell_type": "markdown",
   "metadata": {},
   "source": [
    "Animation: https://www.cs.usfca.edu/~galles/visualization/BST.html"
   ]
  },
  {
   "cell_type": "code",
   "execution_count": 24,
   "metadata": {
    "collapsed": true
   },
   "outputs": [],
   "source": [
    "class Node:\n",
    "    \"\"\"\n",
    "    Tree node with left and right child and data\n",
    "    \"\"\"\n",
    "    def __init__(self, data):\n",
    "        # TODO\n",
    "        pass\n",
    "        self.left = None\n",
    "        self.right = None\n",
    "        self.data = data\n",
    "        "
   ]
  },
  {
   "cell_type": "code",
   "execution_count": 25,
   "metadata": {
    "collapsed": true
   },
   "outputs": [],
   "source": [
    "class Tree:\n",
    "    def __init__(self):\n",
    "        \"\"\"Create an empty binary search tree\"\"\"\n",
    "        # TODO\n",
    "        pass\n",
    "        self.root = None\n",
    "    \n",
    "    def set_root(self, data):\n",
    "        self.root = Node(data)\n",
    "    \n",
    "    def insert(self, data):\n",
    "        \"\"\"Add an item in the binary search tree\"\"\"\n",
    "        # TODO\n",
    "        pass\n",
    "        if self.root is None:\n",
    "            self.set_root(data)\n",
    "        else:\n",
    "            n = Node(data)\n",
    "            troot = self.root\n",
    "            while troot:\n",
    "                if data < troot.data:\n",
    "                    if troot.left:\n",
    "                        troot = troot.left\n",
    "                    else:\n",
    "                        troot.left = n\n",
    "                        break\n",
    "                else:\n",
    "                    if troot.right:\n",
    "                        troot = troot.right\n",
    "                    else:\n",
    "                        troot.right = n\n",
    "                        break\n",
    "    \n",
    "    def find(self, data):\n",
    "        \"\"\"Returns true if item is in the tree or false otherwise\"\"\"\n",
    "        # TODO\n",
    "        pass\n",
    "        if self.root is None:\n",
    "            return \"Not found\"\n",
    "        else:\n",
    "            troot = self.root\n",
    "            while troot:\n",
    "                if data < troot.data:\n",
    "                    if troot.left:\n",
    "                        troot = troot.left\n",
    "                        if troot.data == data:\n",
    "                            return \"Found\"\n",
    "                    else:\n",
    "                        return \"Not Found\"\n",
    "                elif data > troot.data:\n",
    "                    if troot.right:\n",
    "                        troot = troot.right\n",
    "                        if troot.data == data:\n",
    "                            return \"Found\"\n",
    "                    else:\n",
    "                        return \"Not Found\"\n",
    "                else:\n",
    "                    return \"Not Found\"\n",
    "                \n",
    "    "
   ]
  },
  {
   "cell_type": "code",
   "execution_count": 26,
   "metadata": {
    "collapsed": false
   },
   "outputs": [],
   "source": [
    "tree = Tree()"
   ]
  },
  {
   "cell_type": "code",
   "execution_count": 27,
   "metadata": {
    "collapsed": false
   },
   "outputs": [],
   "source": [
    "tree.insert(30)\n",
    "tree.insert(5)\n",
    "tree.insert(50)\n",
    "tree.insert(8)\n",
    "tree.insert(3)\n",
    "tree.insert(100)\n",
    "tree.insert(40)"
   ]
  },
  {
   "cell_type": "code",
   "execution_count": 28,
   "metadata": {
    "collapsed": false
   },
   "outputs": [
    {
     "data": {
      "text/plain": [
       "'Found'"
      ]
     },
     "execution_count": 28,
     "metadata": {},
     "output_type": "execute_result"
    }
   ],
   "source": [
    "tree.find(8)"
   ]
  },
  {
   "cell_type": "code",
   "execution_count": 29,
   "metadata": {
    "collapsed": false
   },
   "outputs": [
    {
     "data": {
      "text/plain": [
       "'Not Found'"
      ]
     },
     "execution_count": 29,
     "metadata": {},
     "output_type": "execute_result"
    }
   ],
   "source": [
    "tree.find(9)"
   ]
  },
  {
   "cell_type": "markdown",
   "metadata": {},
   "source": [
    "## Why is the worst case time complexity of the find method only $O(n)$ and not $O(log n)$?"
   ]
  },
  {
   "cell_type": "markdown",
   "metadata": {
    "collapsed": true
   },
   "source": [
    "It can happen when the binary search tree is unbalanced. And it may look like singly-linked list where the nodes have an additional reference pointing at nothing. The height of this binary search tree is O(n) which is worst time complexity."
   ]
  }
 ],
 "metadata": {
  "anaconda-cloud": {},
  "kernelspec": {
   "display_name": "Python [default]",
   "language": "python",
   "name": "python3"
  },
  "language_info": {
   "codemirror_mode": {
    "name": "ipython",
    "version": 3
   },
   "file_extension": ".py",
   "mimetype": "text/x-python",
   "name": "python",
   "nbconvert_exporter": "python",
   "pygments_lexer": "ipython3",
   "version": "3.5.2"
  },
  "varInspector": {
   "cols": {
    "lenName": 16,
    "lenType": 16,
    "lenVar": 40
   },
   "kernels_config": {
    "python": {
     "delete_cmd_postfix": "",
     "delete_cmd_prefix": "del ",
     "library": "var_list.py",
     "varRefreshCmd": "print(var_dic_list())"
    },
    "r": {
     "delete_cmd_postfix": ") ",
     "delete_cmd_prefix": "rm(",
     "library": "var_list.r",
     "varRefreshCmd": "cat(var_dic_list()) "
    }
   },
   "types_to_exclude": [
    "module",
    "function",
    "builtin_function_or_method",
    "instance",
    "_Feature"
   ],
   "window_display": false
  }
 },
 "nbformat": 4,
 "nbformat_minor": 2
}
