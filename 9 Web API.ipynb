{
 "cells": [
  {
   "cell_type": "markdown",
   "metadata": {},
   "source": [
    "# Web APIs\n",
    "\n",
    "## 1. Consuming Web APIs\n",
    "\n",
    "(Partially adapted from https://www.dataquest.io/blog/python-api-tutorial/)\n",
    "\n",
    "* https://randomuser.me/ is a random user generator \n",
    "*\tIt has an API. Go to https://api.randomuser.me/ with your browser\n",
    "*\tYou get a JSON (JavaScript Object Notation) back. A JSON is similar to a Python dictionary.  \n",
    "*  Refresh the browser\n",
    "*\tYou can add query parameters. They are added to the URL with a ? . You then add then the parameter name = the value. More the one parameter are connected with a & e.g.\n",
    "\thttp://api.open-notify.org/iss-pass.json?lat=37.78&lon=-122.41\n",
    "\n",
    "*\t Go the documentation https://randomuser.me/documentation and check how you can get multiple users and to specify constraints on the output\n",
    "*\tGo to your browser and add parameters to https://api.randomuser.me/ so that you get 5 results of only males from the US\n",
    "\n",
    "Enter the URL of your solution:"
   ]
  },
  {
   "cell_type": "code",
   "execution_count": 1,
   "metadata": {
    "collapsed": false
   },
   "outputs": [],
   "source": [
    "# TODO: get 5 results of only males from the US\n",
    "# Enter the URL of your solution:\n",
    "url = \"https://api.randomuser.me/?results=5&gender=male&nat=us\""
   ]
  },
  {
   "cell_type": "markdown",
   "metadata": {},
   "source": [
    "* You can also get the data from the command line. Open the command line and write\n",
    "\n",
    "```bash\n",
    "curl -s https://api.randomuser.me/\n",
    "```\n",
    "\n",
    "You can also run Bash commands directly in your Jupyter Notebook with !:"
   ]
  },
  {
   "cell_type": "code",
   "execution_count": 2,
   "metadata": {
    "collapsed": false
   },
   "outputs": [
    {
     "name": "stdout",
     "output_type": "stream",
     "text": [
      "{\"results\":[{\"gender\":\"female\",\"name\":{\"title\":\"ms\",\"first\":\"natalie\",\"last\":\"vist\"},\"location\":{\"street\":\"trygve ryens vei 2457\",\"city\":\"sandbumoen\",\"state\":\"hedmark\",\"postcode\":\"7043\",\"coordinates\":{\"latitude\":\"54.0929\",\"longitude\":\"146.6771\"},\"timezone\":{\"offset\":\"-8:00\",\"description\":\"Pacific Time (US & Canada)\"}},\"email\":\"natalie.vist@example.com\",\"login\":{\"uuid\":\"beb22ea4-eae6-4864-b009-88ccd0c60881\",\"username\":\"organicleopard596\",\"password\":\"4040\",\"salt\":\"N4AIAq9a\",\"md5\":\"353b8535cf7010d09ec21ee7bf499ce8\",\"sha1\":\"f77f042b39e2fae59697e60f76dd082bca0478fc\",\"sha256\":\"719876f26182688179e91da9bf64910dad4a205317e35fc0704b9dd0602ce617\"},\"dob\":{\"date\":\"1987-03-07T16:30:54Z\",\"age\":32},\"registered\":{\"date\":\"2014-07-08T05:26:13Z\",\"age\":4},\"phone\":\"27305512\",\"cell\":\"49019387\",\"id\":{\"name\":\"FN\",\"value\":\"07038703557\"},\"picture\":{\"large\":\"https://randomuser.me/api/portraits/women/82.jpg\",\"medium\":\"https://randomuser.me/api/portraits/med/women/82.jpg\",\"thumbnail\":\"https://randomuser.me/api/portraits/thumb/women/82.jpg\"},\"nat\":\"NO\"}],\"info\":{\"seed\":\"6ce0c4b6287dda8a\",\"results\":1,\"page\":1,\"version\":\"1.2\"}}\n"
     ]
    }
   ],
   "source": [
    "!curl -s https://api.randomuser.me/"
   ]
  },
  {
   "cell_type": "markdown",
   "metadata": {},
   "source": [
    "* Import the two libraries \n",
    "    * `requests` and \n",
    "    * `json`. \n",
    "\n",
    "You can find the documentation for the requests package here:\n",
    " http://www.python-requests.org/en/latest/ \n",
    " "
   ]
  },
  {
   "cell_type": "code",
   "execution_count": 3,
   "metadata": {
    "collapsed": true
   },
   "outputs": [],
   "source": [
    "# TODO\n",
    "import json\n",
    "import requests"
   ]
  },
  {
   "cell_type": "markdown",
   "metadata": {},
   "source": [
    "* With the requests package you can call a Web API with the URL and the method get"
   ]
  },
  {
   "cell_type": "code",
   "execution_count": 4,
   "metadata": {
    "collapsed": false
   },
   "outputs": [],
   "source": [
    "response = requests.get(url)"
   ]
  },
  {
   "cell_type": "markdown",
   "metadata": {},
   "source": [
    "* Print the status code of the request"
   ]
  },
  {
   "cell_type": "code",
   "execution_count": 5,
   "metadata": {
    "collapsed": false
   },
   "outputs": [
    {
     "name": "stdout",
     "output_type": "stream",
     "text": [
      "200\n"
     ]
    }
   ],
   "source": [
    "print(response.status_code)"
   ]
  },
  {
   "cell_type": "markdown",
   "metadata": {},
   "source": [
    "**The meaning of the status codes are:**\n",
    "* 200: everything went okay, and the result has been returned (if any)\n",
    "* 301: the server is redirecting you to a different endpoint. This can happen when a company switches domain names, or an endpoint name is changed.\n",
    "* 401: the server thinks you're not authenticated. This happens when you don't send the right credentials to access an API.\n",
    "* 400: the server thinks you made a bad request. This can happen when you don't send along the right data, among other things.\n",
    "* 403: the resource you're trying to access is forbidden – you don't have the right permissions to see it.\n",
    "* 404: the resource you tried to access wasn't found on the server.\n"
   ]
  },
  {
   "cell_type": "markdown",
   "metadata": {},
   "source": [
    "You can specify the query parameters for a URL with a Python dictionary like this:\n",
    "```python\n",
    "parameters = {\"lat\": 37.78, \"lon\": -122.41}\n",
    "```\n",
    "\n",
    "And pass the parameter to the request like this\n",
    "```python\n",
    "response = requests.get(\"http://api.open-notify.org/iss-pass.json\", params=parameters)\n",
    "```\n",
    "This is the same as \n",
    "```python\n",
    "response = requests.get(\"http://api.open-notify.org/iss-pass.json?lat=37.78&lon=-122.41\")\n",
    "```\n",
    "\n",
    "Alternatively you could build also the URL with the parameters by yourself with string concatenation. \n",
    "\n",
    "* Get with the request method 10 results of only males from the US.\n",
    "\n"
   ]
  },
  {
   "cell_type": "code",
   "execution_count": 6,
   "metadata": {
    "collapsed": true
   },
   "outputs": [],
   "source": [
    "# TODO: Get with the request method 10 results of only males from the US.\n",
    "response10 = requests.get(\"https://api.randomuser.me/?results=10&gender=male&nat=us\")"
   ]
  },
  {
   "cell_type": "markdown",
   "metadata": {},
   "source": [
    "* You can show the result of the request with the method text"
   ]
  },
  {
   "cell_type": "code",
   "execution_count": 7,
   "metadata": {
    "collapsed": false,
    "scrolled": true
   },
   "outputs": [
    {
     "data": {
      "text/plain": [
       "'{\"results\":[{\"gender\":\"male\",\"name\":{\"title\":\"mr\",\"first\":\"aiden\",\"last\":\"barnes\"},\"location\":{\"street\":\"2546 brown terrace\",\"city\":\"pompano beach\",\"state\":\"maryland\",\"postcode\":59718,\"coordinates\":{\"latitude\":\"-29.3564\",\"longitude\":\"-176.7691\"},\"timezone\":{\"offset\":\"-7:00\",\"description\":\"Mountain Time (US & Canada)\"}},\"email\":\"aiden.barnes@example.com\",\"login\":{\"uuid\":\"0340b68b-dcc9-4a2a-9b8d-79da3c70d2cd\",\"username\":\"sadleopard848\",\"password\":\"aardvark\",\"salt\":\"SZWVLPiP\",\"md5\":\"28995c82949a8fc578af825c4d917b38\",\"sha1\":\"379c563d880d94a9e9583432a62c4ef7630f6a18\",\"sha256\":\"fafd9aa0ced7f6bfc989bac13826d4e616e630a963bf286ca4d596bf06fa1366\"},\"dob\":{\"date\":\"1968-02-02T16:58:45Z\",\"age\":51},\"registered\":{\"date\":\"2011-10-13T13:17:28Z\",\"age\":7},\"phone\":\"(627)-408-1785\",\"cell\":\"(920)-801-4102\",\"id\":{\"name\":\"SSN\",\"value\":\"506-19-3043\"},\"picture\":{\"large\":\"https://randomuser.me/api/portraits/men/84.jpg\",\"medium\":\"https://randomuser.me/api/portraits/med/men/84.jpg\",\"thumbnail\":\"https://randomuser.me/api/portraits/thumb/men/84.jpg\"},\"nat\":\"US\"},{\"gender\":\"male\",\"name\":{\"title\":\"mr\",\"first\":\"daryl\",\"last\":\"neal\"},\"location\":{\"street\":\"3584 e center st\",\"city\":\"el monte\",\"state\":\"arkansas\",\"postcode\":45706,\"coordinates\":{\"latitude\":\"12.6190\",\"longitude\":\"174.4864\"},\"timezone\":{\"offset\":\"-6:00\",\"description\":\"Central Time (US & Canada), Mexico City\"}},\"email\":\"daryl.neal@example.com\",\"login\":{\"uuid\":\"41e12710-381a-42f5-9760-3a352416efad\",\"username\":\"whitegorilla950\",\"password\":\"groups\",\"salt\":\"37NZchYa\",\"md5\":\"b09adc50361bf6dd1fc91ee12a2d5c54\",\"sha1\":\"924f3cc03a917c191cd354a4b8e20bd90111de35\",\"sha256\":\"88df74674c5cfb105f65db36ebe1489d82d198761f287e34e17ccb80d3eadf72\"},\"dob\":{\"date\":\"1989-08-24T19:57:10Z\",\"age\":29},\"registered\":{\"date\":\"2002-12-09T06:39:59Z\",\"age\":16},\"phone\":\"(176)-401-2954\",\"cell\":\"(300)-039-0524\",\"id\":{\"name\":\"SSN\",\"value\":\"719-00-4992\"},\"picture\":{\"large\":\"https://randomuser.me/api/portraits/men/41.jpg\",\"medium\":\"https://randomuser.me/api/portraits/med/men/41.jpg\",\"thumbnail\":\"https://randomuser.me/api/portraits/thumb/men/41.jpg\"},\"nat\":\"US\"},{\"gender\":\"male\",\"name\":{\"title\":\"mr\",\"first\":\"aaron\",\"last\":\"craig\"},\"location\":{\"street\":\"6836 mcgowen st\",\"city\":\"rialto\",\"state\":\"kansas\",\"postcode\":31713,\"coordinates\":{\"latitude\":\"-82.2415\",\"longitude\":\"-138.7725\"},\"timezone\":{\"offset\":\"-5:00\",\"description\":\"Eastern Time (US & Canada), Bogota, Lima\"}},\"email\":\"aaron.craig@example.com\",\"login\":{\"uuid\":\"c06e6fd0-61cb-4712-be97-50106f0836b2\",\"username\":\"ticklishrabbit132\",\"password\":\"bernard\",\"salt\":\"v1Ua7uGg\",\"md5\":\"92364f027548c3356b14260d715c541a\",\"sha1\":\"57cbc47d9ae52b79ca26359d37c24dc1b7b878bd\",\"sha256\":\"721e49aa8dc49236813e00dd63ea4b1861b8a759306a504e062345817d559ebe\"},\"dob\":{\"date\":\"1974-10-29T15:54:09Z\",\"age\":44},\"registered\":{\"date\":\"2003-05-25T00:46:15Z\",\"age\":15},\"phone\":\"(242)-404-1180\",\"cell\":\"(902)-464-0938\",\"id\":{\"name\":\"SSN\",\"value\":\"633-55-2683\"},\"picture\":{\"large\":\"https://randomuser.me/api/portraits/men/97.jpg\",\"medium\":\"https://randomuser.me/api/portraits/med/men/97.jpg\",\"thumbnail\":\"https://randomuser.me/api/portraits/thumb/men/97.jpg\"},\"nat\":\"US\"},{\"gender\":\"male\",\"name\":{\"title\":\"mr\",\"first\":\"wallace\",\"last\":\"edwards\"},\"location\":{\"street\":\"3198 hillcrest rd\",\"city\":\"olathe\",\"state\":\"mississippi\",\"postcode\":87321,\"coordinates\":{\"latitude\":\"86.5105\",\"longitude\":\"-153.7053\"},\"timezone\":{\"offset\":\"0:00\",\"description\":\"Western Europe Time, London, Lisbon, Casablanca\"}},\"email\":\"wallace.edwards@example.com\",\"login\":{\"uuid\":\"07ee4402-3a7b-4535-9b0e-5812dc091f36\",\"username\":\"ticklishleopard875\",\"password\":\"sausages\",\"salt\":\"8rcrlsyM\",\"md5\":\"69acbd8f2e05cf60cc6372f3f534115e\",\"sha1\":\"a6db086180dcc2383ab48d88eb37007507e733d0\",\"sha256\":\"8ca143d8a5ee8caef5254a870f0a6722f537304ea4f75ad61bad8a2994709dc4\"},\"dob\":{\"date\":\"1968-10-05T04:38:26Z\",\"age\":50},\"registered\":{\"date\":\"2006-06-17T17:57:36Z\",\"age\":12},\"phone\":\"(399)-585-4820\",\"cell\":\"(083)-487-4866\",\"id\":{\"name\":\"SSN\",\"value\":\"733-03-7476\"},\"picture\":{\"large\":\"https://randomuser.me/api/portraits/men/91.jpg\",\"medium\":\"https://randomuser.me/api/portraits/med/men/91.jpg\",\"thumbnail\":\"https://randomuser.me/api/portraits/thumb/men/91.jpg\"},\"nat\":\"US\"},{\"gender\":\"male\",\"name\":{\"title\":\"mr\",\"first\":\"david\",\"last\":\"simmons\"},\"location\":{\"street\":\"7279 homestead rd\",\"city\":\"murfreesboro\",\"state\":\"north carolina\",\"postcode\":44368,\"coordinates\":{\"latitude\":\"-40.6404\",\"longitude\":\"-35.3357\"},\"timezone\":{\"offset\":\"-1:00\",\"description\":\"Azores, Cape Verde Islands\"}},\"email\":\"david.simmons@example.com\",\"login\":{\"uuid\":\"1622d1e0-37a7-41f5-aa55-883ad52f3755\",\"username\":\"tinymouse698\",\"password\":\"lucifer\",\"salt\":\"ggro8kgW\",\"md5\":\"69cf38d363bdd6414f354f7fa434c5c9\",\"sha1\":\"05b2a5b909cb8361567aca63effef7994a6f2662\",\"sha256\":\"f6803a2f69923e2922bbe2a465c9c34162ec4e96f8df2e4a23de40bb84bc8c14\"},\"dob\":{\"date\":\"1969-02-05T17:37:16Z\",\"age\":50},\"registered\":{\"date\":\"2015-08-19T07:38:08Z\",\"age\":3},\"phone\":\"(139)-952-0570\",\"cell\":\"(972)-457-3583\",\"id\":{\"name\":\"SSN\",\"value\":\"574-43-9131\"},\"picture\":{\"large\":\"https://randomuser.me/api/portraits/men/64.jpg\",\"medium\":\"https://randomuser.me/api/portraits/med/men/64.jpg\",\"thumbnail\":\"https://randomuser.me/api/portraits/thumb/men/64.jpg\"},\"nat\":\"US\"},{\"gender\":\"male\",\"name\":{\"title\":\"mr\",\"first\":\"glen\",\"last\":\"bishop\"},\"location\":{\"street\":\"91 central st\",\"city\":\"pasadena\",\"state\":\"minnesota\",\"postcode\":61438,\"coordinates\":{\"latitude\":\"25.1155\",\"longitude\":\"-10.7074\"},\"timezone\":{\"offset\":\"+5:45\",\"description\":\"Kathmandu\"}},\"email\":\"glen.bishop@example.com\",\"login\":{\"uuid\":\"df404246-9cd8-4d74-a5ff-9c87e410e66d\",\"username\":\"yellowfrog874\",\"password\":\"away\",\"salt\":\"z01d53Ax\",\"md5\":\"e7731c2a01d4280b0df8ecb4b811395d\",\"sha1\":\"d1437516462df0a735f309ffcc2fd11319e62b59\",\"sha256\":\"1767981255aebb74fedc49691e347dd99b672ef71d0bbcf65c7529f3bd81bf58\"},\"dob\":{\"date\":\"1990-09-11T18:11:25Z\",\"age\":28},\"registered\":{\"date\":\"2015-02-05T03:11:34Z\",\"age\":4},\"phone\":\"(740)-325-0439\",\"cell\":\"(818)-543-8499\",\"id\":{\"name\":\"SSN\",\"value\":\"372-09-7890\"},\"picture\":{\"large\":\"https://randomuser.me/api/portraits/men/93.jpg\",\"medium\":\"https://randomuser.me/api/portraits/med/men/93.jpg\",\"thumbnail\":\"https://randomuser.me/api/portraits/thumb/men/93.jpg\"},\"nat\":\"US\"},{\"gender\":\"male\",\"name\":{\"title\":\"mr\",\"first\":\"edgar\",\"last\":\"mckinney\"},\"location\":{\"street\":\"2954 camden ave\",\"city\":\"tallahassee\",\"state\":\"minnesota\",\"postcode\":91620,\"coordinates\":{\"latitude\":\"49.5817\",\"longitude\":\"-6.6139\"},\"timezone\":{\"offset\":\"-12:00\",\"description\":\"Eniwetok, Kwajalein\"}},\"email\":\"edgar.mckinney@example.com\",\"login\":{\"uuid\":\"daab6615-c7ca-413d-ab69-a61143f21c8d\",\"username\":\"bluegoose233\",\"password\":\"mature\",\"salt\":\"LyMRULyk\",\"md5\":\"d986f75ed4c9f842343be03ce3d05cf2\",\"sha1\":\"694e3ec8aa5f987050a0a5a65dd1150cb80ddb5d\",\"sha256\":\"fb207bbeffb677ad32b1a39a612d05a689d7f62cf1137e6a7b6e4158359c2019\"},\"dob\":{\"date\":\"1946-04-05T00:39:49Z\",\"age\":73},\"registered\":{\"date\":\"2010-12-06T20:03:21Z\",\"age\":8},\"phone\":\"(686)-490-1842\",\"cell\":\"(549)-973-7931\",\"id\":{\"name\":\"SSN\",\"value\":\"074-83-1351\"},\"picture\":{\"large\":\"https://randomuser.me/api/portraits/men/99.jpg\",\"medium\":\"https://randomuser.me/api/portraits/med/men/99.jpg\",\"thumbnail\":\"https://randomuser.me/api/portraits/thumb/men/99.jpg\"},\"nat\":\"US\"},{\"gender\":\"male\",\"name\":{\"title\":\"mr\",\"first\":\"joseph\",\"last\":\"shelton\"},\"location\":{\"street\":\"5023 first street\",\"city\":\"helena\",\"state\":\"minnesota\",\"postcode\":42167,\"coordinates\":{\"latitude\":\"23.4791\",\"longitude\":\"59.4397\"},\"timezone\":{\"offset\":\"+5:30\",\"description\":\"Bombay, Calcutta, Madras, New Delhi\"}},\"email\":\"joseph.shelton@example.com\",\"login\":{\"uuid\":\"7da25ff8-318b-40fb-b78b-58c48c775f25\",\"username\":\"orangepanda768\",\"password\":\"alexande\",\"salt\":\"gtLKPOSb\",\"md5\":\"2cd8d4a821fc59ad05456b97c859253f\",\"sha1\":\"a0866fff5fdda282c605be9a1952f6369497083e\",\"sha256\":\"0cce37b674a04858b51b81248d76feacee5c6d420fc2e3dd2f2edae048c9367b\"},\"dob\":{\"date\":\"1977-09-28T00:29:31Z\",\"age\":41},\"registered\":{\"date\":\"2004-06-19T13:03:52Z\",\"age\":14},\"phone\":\"(135)-515-0107\",\"cell\":\"(705)-087-8644\",\"id\":{\"name\":\"SSN\",\"value\":\"924-85-8744\"},\"picture\":{\"large\":\"https://randomuser.me/api/portraits/men/13.jpg\",\"medium\":\"https://randomuser.me/api/portraits/med/men/13.jpg\",\"thumbnail\":\"https://randomuser.me/api/portraits/thumb/men/13.jpg\"},\"nat\":\"US\"},{\"gender\":\"male\",\"name\":{\"title\":\"mr\",\"first\":\"vincent\",\"last\":\"fuller\"},\"location\":{\"street\":\"9141 e north st\",\"city\":\"thousand oaks\",\"state\":\"georgia\",\"postcode\":82927,\"coordinates\":{\"latitude\":\"-56.4251\",\"longitude\":\"-79.9739\"},\"timezone\":{\"offset\":\"+4:30\",\"description\":\"Kabul\"}},\"email\":\"vincent.fuller@example.com\",\"login\":{\"uuid\":\"61b01a79-6fd0-4ee6-a1f5-ddceb7053907\",\"username\":\"whiterabbit720\",\"password\":\"clemson\",\"salt\":\"Wjnfwktc\",\"md5\":\"a42e6784e74a4677aa6542fe92c99517\",\"sha1\":\"75d98de178634d256d2f2dd6525d78ac20f72e62\",\"sha256\":\"3269fb027a2d426aa55a94dfc1db62049133c3ca6a6561421aec8348d4b9fed7\"},\"dob\":{\"date\":\"1965-12-28T05:36:02Z\",\"age\":53},\"registered\":{\"date\":\"2002-04-07T20:36:29Z\",\"age\":17},\"phone\":\"(588)-249-8469\",\"cell\":\"(695)-082-6678\",\"id\":{\"name\":\"SSN\",\"value\":\"102-54-9008\"},\"picture\":{\"large\":\"https://randomuser.me/api/portraits/men/32.jpg\",\"medium\":\"https://randomuser.me/api/portraits/med/men/32.jpg\",\"thumbnail\":\"https://randomuser.me/api/portraits/thumb/men/32.jpg\"},\"nat\":\"US\"},{\"gender\":\"male\",\"name\":{\"title\":\"mr\",\"first\":\"melvin\",\"last\":\"medina\"},\"location\":{\"street\":\"1552 w pecan st\",\"city\":\"naperville\",\"state\":\"iowa\",\"postcode\":98735,\"coordinates\":{\"latitude\":\"-35.7201\",\"longitude\":\"160.4378\"},\"timezone\":{\"offset\":\"+5:45\",\"description\":\"Kathmandu\"}},\"email\":\"melvin.medina@example.com\",\"login\":{\"uuid\":\"d2d975e7-ff5c-440e-8de0-349041e7e96a\",\"username\":\"whitelion911\",\"password\":\"tempest\",\"salt\":\"HQU0Zee1\",\"md5\":\"7f31483d81afb03132a9595df74816f3\",\"sha1\":\"bb83e1ad8da7d38f9d2c18fc5709e6c2a02fc746\",\"sha256\":\"9c657ec40c29026d95fb5967974d9c4521a886cfaa7029127229c10cd9bdeda1\"},\"dob\":{\"date\":\"1995-12-11T10:56:59Z\",\"age\":23},\"registered\":{\"date\":\"2011-05-11T23:54:48Z\",\"age\":7},\"phone\":\"(449)-919-8285\",\"cell\":\"(890)-826-3947\",\"id\":{\"name\":\"SSN\",\"value\":\"298-34-6153\"},\"picture\":{\"large\":\"https://randomuser.me/api/portraits/men/36.jpg\",\"medium\":\"https://randomuser.me/api/portraits/med/men/36.jpg\",\"thumbnail\":\"https://randomuser.me/api/portraits/thumb/men/36.jpg\"},\"nat\":\"US\"}],\"info\":{\"seed\":\"202766451c4076aa\",\"results\":10,\"page\":1,\"version\":\"1.2\"}}'"
      ]
     },
     "execution_count": 7,
     "metadata": {},
     "output_type": "execute_result"
    }
   ],
   "source": [
    "response10.text"
   ]
  },
  {
   "cell_type": "markdown",
   "metadata": {},
   "source": [
    "* You can convert the data from JSON to a Python dictionary with the package JSON"
   ]
  },
  {
   "cell_type": "code",
   "execution_count": 8,
   "metadata": {
    "collapsed": true
   },
   "outputs": [],
   "source": [
    "data = json.loads(response10.text)"
   ]
  },
  {
   "cell_type": "markdown",
   "metadata": {},
   "source": [
    "* Check the type of variable data"
   ]
  },
  {
   "cell_type": "code",
   "execution_count": 9,
   "metadata": {
    "collapsed": false
   },
   "outputs": [
    {
     "data": {
      "text/plain": [
       "dict"
      ]
     },
     "execution_count": 9,
     "metadata": {},
     "output_type": "execute_result"
    }
   ],
   "source": [
    "# TODO\n",
    "type(data)"
   ]
  },
  {
   "cell_type": "code",
   "execution_count": 10,
   "metadata": {
    "collapsed": false
   },
   "outputs": [
    {
     "name": "stdout",
     "output_type": "stream",
     "text": [
      "{'results': [{'login': {'username': 'sadleopard848', 'sha256': 'fafd9aa0ced7f6bfc989bac13826d4e616e630a963bf286ca4d596bf06fa1366', 'sha1': '379c563d880d94a9e9583432a62c4ef7630f6a18', 'password': 'aardvark', 'salt': 'SZWVLPiP', 'uuid': '0340b68b-dcc9-4a2a-9b8d-79da3c70d2cd', 'md5': '28995c82949a8fc578af825c4d917b38'}, 'registered': {'age': 7, 'date': '2011-10-13T13:17:28Z'}, 'email': 'aiden.barnes@example.com', 'id': {'value': '506-19-3043', 'name': 'SSN'}, 'picture': {'medium': 'https://randomuser.me/api/portraits/med/men/84.jpg', 'large': 'https://randomuser.me/api/portraits/men/84.jpg', 'thumbnail': 'https://randomuser.me/api/portraits/thumb/men/84.jpg'}, 'cell': '(920)-801-4102', 'nat': 'US', 'dob': {'age': 51, 'date': '1968-02-02T16:58:45Z'}, 'phone': '(627)-408-1785', 'location': {'coordinates': {'latitude': '-29.3564', 'longitude': '-176.7691'}, 'postcode': 59718, 'city': 'pompano beach', 'timezone': {'description': 'Mountain Time (US & Canada)', 'offset': '-7:00'}, 'street': '2546 brown terrace', 'state': 'maryland'}, 'name': {'last': 'barnes', 'first': 'aiden', 'title': 'mr'}, 'gender': 'male'}, {'login': {'username': 'whitegorilla950', 'sha256': '88df74674c5cfb105f65db36ebe1489d82d198761f287e34e17ccb80d3eadf72', 'sha1': '924f3cc03a917c191cd354a4b8e20bd90111de35', 'password': 'groups', 'salt': '37NZchYa', 'uuid': '41e12710-381a-42f5-9760-3a352416efad', 'md5': 'b09adc50361bf6dd1fc91ee12a2d5c54'}, 'registered': {'age': 16, 'date': '2002-12-09T06:39:59Z'}, 'email': 'daryl.neal@example.com', 'id': {'value': '719-00-4992', 'name': 'SSN'}, 'picture': {'medium': 'https://randomuser.me/api/portraits/med/men/41.jpg', 'large': 'https://randomuser.me/api/portraits/men/41.jpg', 'thumbnail': 'https://randomuser.me/api/portraits/thumb/men/41.jpg'}, 'cell': '(300)-039-0524', 'nat': 'US', 'dob': {'age': 29, 'date': '1989-08-24T19:57:10Z'}, 'phone': '(176)-401-2954', 'location': {'coordinates': {'latitude': '12.6190', 'longitude': '174.4864'}, 'postcode': 45706, 'city': 'el monte', 'timezone': {'description': 'Central Time (US & Canada), Mexico City', 'offset': '-6:00'}, 'street': '3584 e center st', 'state': 'arkansas'}, 'name': {'last': 'neal', 'first': 'daryl', 'title': 'mr'}, 'gender': 'male'}, {'login': {'username': 'ticklishrabbit132', 'sha256': '721e49aa8dc49236813e00dd63ea4b1861b8a759306a504e062345817d559ebe', 'sha1': '57cbc47d9ae52b79ca26359d37c24dc1b7b878bd', 'password': 'bernard', 'salt': 'v1Ua7uGg', 'uuid': 'c06e6fd0-61cb-4712-be97-50106f0836b2', 'md5': '92364f027548c3356b14260d715c541a'}, 'registered': {'age': 15, 'date': '2003-05-25T00:46:15Z'}, 'email': 'aaron.craig@example.com', 'id': {'value': '633-55-2683', 'name': 'SSN'}, 'picture': {'medium': 'https://randomuser.me/api/portraits/med/men/97.jpg', 'large': 'https://randomuser.me/api/portraits/men/97.jpg', 'thumbnail': 'https://randomuser.me/api/portraits/thumb/men/97.jpg'}, 'cell': '(902)-464-0938', 'nat': 'US', 'dob': {'age': 44, 'date': '1974-10-29T15:54:09Z'}, 'phone': '(242)-404-1180', 'location': {'coordinates': {'latitude': '-82.2415', 'longitude': '-138.7725'}, 'postcode': 31713, 'city': 'rialto', 'timezone': {'description': 'Eastern Time (US & Canada), Bogota, Lima', 'offset': '-5:00'}, 'street': '6836 mcgowen st', 'state': 'kansas'}, 'name': {'last': 'craig', 'first': 'aaron', 'title': 'mr'}, 'gender': 'male'}, {'login': {'username': 'ticklishleopard875', 'sha256': '8ca143d8a5ee8caef5254a870f0a6722f537304ea4f75ad61bad8a2994709dc4', 'sha1': 'a6db086180dcc2383ab48d88eb37007507e733d0', 'password': 'sausages', 'salt': '8rcrlsyM', 'uuid': '07ee4402-3a7b-4535-9b0e-5812dc091f36', 'md5': '69acbd8f2e05cf60cc6372f3f534115e'}, 'registered': {'age': 12, 'date': '2006-06-17T17:57:36Z'}, 'email': 'wallace.edwards@example.com', 'id': {'value': '733-03-7476', 'name': 'SSN'}, 'picture': {'medium': 'https://randomuser.me/api/portraits/med/men/91.jpg', 'large': 'https://randomuser.me/api/portraits/men/91.jpg', 'thumbnail': 'https://randomuser.me/api/portraits/thumb/men/91.jpg'}, 'cell': '(083)-487-4866', 'nat': 'US', 'dob': {'age': 50, 'date': '1968-10-05T04:38:26Z'}, 'phone': '(399)-585-4820', 'location': {'coordinates': {'latitude': '86.5105', 'longitude': '-153.7053'}, 'postcode': 87321, 'city': 'olathe', 'timezone': {'description': 'Western Europe Time, London, Lisbon, Casablanca', 'offset': '0:00'}, 'street': '3198 hillcrest rd', 'state': 'mississippi'}, 'name': {'last': 'edwards', 'first': 'wallace', 'title': 'mr'}, 'gender': 'male'}, {'login': {'username': 'tinymouse698', 'sha256': 'f6803a2f69923e2922bbe2a465c9c34162ec4e96f8df2e4a23de40bb84bc8c14', 'sha1': '05b2a5b909cb8361567aca63effef7994a6f2662', 'password': 'lucifer', 'salt': 'ggro8kgW', 'uuid': '1622d1e0-37a7-41f5-aa55-883ad52f3755', 'md5': '69cf38d363bdd6414f354f7fa434c5c9'}, 'registered': {'age': 3, 'date': '2015-08-19T07:38:08Z'}, 'email': 'david.simmons@example.com', 'id': {'value': '574-43-9131', 'name': 'SSN'}, 'picture': {'medium': 'https://randomuser.me/api/portraits/med/men/64.jpg', 'large': 'https://randomuser.me/api/portraits/men/64.jpg', 'thumbnail': 'https://randomuser.me/api/portraits/thumb/men/64.jpg'}, 'cell': '(972)-457-3583', 'nat': 'US', 'dob': {'age': 50, 'date': '1969-02-05T17:37:16Z'}, 'phone': '(139)-952-0570', 'location': {'coordinates': {'latitude': '-40.6404', 'longitude': '-35.3357'}, 'postcode': 44368, 'city': 'murfreesboro', 'timezone': {'description': 'Azores, Cape Verde Islands', 'offset': '-1:00'}, 'street': '7279 homestead rd', 'state': 'north carolina'}, 'name': {'last': 'simmons', 'first': 'david', 'title': 'mr'}, 'gender': 'male'}, {'login': {'username': 'yellowfrog874', 'sha256': '1767981255aebb74fedc49691e347dd99b672ef71d0bbcf65c7529f3bd81bf58', 'sha1': 'd1437516462df0a735f309ffcc2fd11319e62b59', 'password': 'away', 'salt': 'z01d53Ax', 'uuid': 'df404246-9cd8-4d74-a5ff-9c87e410e66d', 'md5': 'e7731c2a01d4280b0df8ecb4b811395d'}, 'registered': {'age': 4, 'date': '2015-02-05T03:11:34Z'}, 'email': 'glen.bishop@example.com', 'id': {'value': '372-09-7890', 'name': 'SSN'}, 'picture': {'medium': 'https://randomuser.me/api/portraits/med/men/93.jpg', 'large': 'https://randomuser.me/api/portraits/men/93.jpg', 'thumbnail': 'https://randomuser.me/api/portraits/thumb/men/93.jpg'}, 'cell': '(818)-543-8499', 'nat': 'US', 'dob': {'age': 28, 'date': '1990-09-11T18:11:25Z'}, 'phone': '(740)-325-0439', 'location': {'coordinates': {'latitude': '25.1155', 'longitude': '-10.7074'}, 'postcode': 61438, 'city': 'pasadena', 'timezone': {'description': 'Kathmandu', 'offset': '+5:45'}, 'street': '91 central st', 'state': 'minnesota'}, 'name': {'last': 'bishop', 'first': 'glen', 'title': 'mr'}, 'gender': 'male'}, {'login': {'username': 'bluegoose233', 'sha256': 'fb207bbeffb677ad32b1a39a612d05a689d7f62cf1137e6a7b6e4158359c2019', 'sha1': '694e3ec8aa5f987050a0a5a65dd1150cb80ddb5d', 'password': 'mature', 'salt': 'LyMRULyk', 'uuid': 'daab6615-c7ca-413d-ab69-a61143f21c8d', 'md5': 'd986f75ed4c9f842343be03ce3d05cf2'}, 'registered': {'age': 8, 'date': '2010-12-06T20:03:21Z'}, 'email': 'edgar.mckinney@example.com', 'id': {'value': '074-83-1351', 'name': 'SSN'}, 'picture': {'medium': 'https://randomuser.me/api/portraits/med/men/99.jpg', 'large': 'https://randomuser.me/api/portraits/men/99.jpg', 'thumbnail': 'https://randomuser.me/api/portraits/thumb/men/99.jpg'}, 'cell': '(549)-973-7931', 'nat': 'US', 'dob': {'age': 73, 'date': '1946-04-05T00:39:49Z'}, 'phone': '(686)-490-1842', 'location': {'coordinates': {'latitude': '49.5817', 'longitude': '-6.6139'}, 'postcode': 91620, 'city': 'tallahassee', 'timezone': {'description': 'Eniwetok, Kwajalein', 'offset': '-12:00'}, 'street': '2954 camden ave', 'state': 'minnesota'}, 'name': {'last': 'mckinney', 'first': 'edgar', 'title': 'mr'}, 'gender': 'male'}, {'login': {'username': 'orangepanda768', 'sha256': '0cce37b674a04858b51b81248d76feacee5c6d420fc2e3dd2f2edae048c9367b', 'sha1': 'a0866fff5fdda282c605be9a1952f6369497083e', 'password': 'alexande', 'salt': 'gtLKPOSb', 'uuid': '7da25ff8-318b-40fb-b78b-58c48c775f25', 'md5': '2cd8d4a821fc59ad05456b97c859253f'}, 'registered': {'age': 14, 'date': '2004-06-19T13:03:52Z'}, 'email': 'joseph.shelton@example.com', 'id': {'value': '924-85-8744', 'name': 'SSN'}, 'picture': {'medium': 'https://randomuser.me/api/portraits/med/men/13.jpg', 'large': 'https://randomuser.me/api/portraits/men/13.jpg', 'thumbnail': 'https://randomuser.me/api/portraits/thumb/men/13.jpg'}, 'cell': '(705)-087-8644', 'nat': 'US', 'dob': {'age': 41, 'date': '1977-09-28T00:29:31Z'}, 'phone': '(135)-515-0107', 'location': {'coordinates': {'latitude': '23.4791', 'longitude': '59.4397'}, 'postcode': 42167, 'city': 'helena', 'timezone': {'description': 'Bombay, Calcutta, Madras, New Delhi', 'offset': '+5:30'}, 'street': '5023 first street', 'state': 'minnesota'}, 'name': {'last': 'shelton', 'first': 'joseph', 'title': 'mr'}, 'gender': 'male'}, {'login': {'username': 'whiterabbit720', 'sha256': '3269fb027a2d426aa55a94dfc1db62049133c3ca6a6561421aec8348d4b9fed7', 'sha1': '75d98de178634d256d2f2dd6525d78ac20f72e62', 'password': 'clemson', 'salt': 'Wjnfwktc', 'uuid': '61b01a79-6fd0-4ee6-a1f5-ddceb7053907', 'md5': 'a42e6784e74a4677aa6542fe92c99517'}, 'registered': {'age': 17, 'date': '2002-04-07T20:36:29Z'}, 'email': 'vincent.fuller@example.com', 'id': {'value': '102-54-9008', 'name': 'SSN'}, 'picture': {'medium': 'https://randomuser.me/api/portraits/med/men/32.jpg', 'large': 'https://randomuser.me/api/portraits/men/32.jpg', 'thumbnail': 'https://randomuser.me/api/portraits/thumb/men/32.jpg'}, 'cell': '(695)-082-6678', 'nat': 'US', 'dob': {'age': 53, 'date': '1965-12-28T05:36:02Z'}, 'phone': '(588)-249-8469', 'location': {'coordinates': {'latitude': '-56.4251', 'longitude': '-79.9739'}, 'postcode': 82927, 'city': 'thousand oaks', 'timezone': {'description': 'Kabul', 'offset': '+4:30'}, 'street': '9141 e north st', 'state': 'georgia'}, 'name': {'last': 'fuller', 'first': 'vincent', 'title': 'mr'}, 'gender': 'male'}, {'login': {'username': 'whitelion911', 'sha256': '9c657ec40c29026d95fb5967974d9c4521a886cfaa7029127229c10cd9bdeda1', 'sha1': 'bb83e1ad8da7d38f9d2c18fc5709e6c2a02fc746', 'password': 'tempest', 'salt': 'HQU0Zee1', 'uuid': 'd2d975e7-ff5c-440e-8de0-349041e7e96a', 'md5': '7f31483d81afb03132a9595df74816f3'}, 'registered': {'age': 7, 'date': '2011-05-11T23:54:48Z'}, 'email': 'melvin.medina@example.com', 'id': {'value': '298-34-6153', 'name': 'SSN'}, 'picture': {'medium': 'https://randomuser.me/api/portraits/med/men/36.jpg', 'large': 'https://randomuser.me/api/portraits/men/36.jpg', 'thumbnail': 'https://randomuser.me/api/portraits/thumb/men/36.jpg'}, 'cell': '(890)-826-3947', 'nat': 'US', 'dob': {'age': 23, 'date': '1995-12-11T10:56:59Z'}, 'phone': '(449)-919-8285', 'location': {'coordinates': {'latitude': '-35.7201', 'longitude': '160.4378'}, 'postcode': 98735, 'city': 'naperville', 'timezone': {'description': 'Kathmandu', 'offset': '+5:45'}, 'street': '1552 w pecan st', 'state': 'iowa'}, 'name': {'last': 'medina', 'first': 'melvin', 'title': 'mr'}, 'gender': 'male'}], 'info': {'page': 1, 'seed': '202766451c4076aa', 'results': 10, 'version': '1.2'}}\n"
     ]
    }
   ],
   "source": [
    "print(data)"
   ]
  },
  {
   "cell_type": "markdown",
   "metadata": {},
   "source": [
    "* *pretty-print* (pprint) prints complex data structures like dictionary prettier.  https://docs.python.org/3/library/pprint.html "
   ]
  },
  {
   "cell_type": "code",
   "execution_count": 11,
   "metadata": {
    "collapsed": false
   },
   "outputs": [
    {
     "name": "stdout",
     "output_type": "stream",
     "text": [
      "{'info': {'page': 1,\n",
      "          'results': 10,\n",
      "          'seed': '202766451c4076aa',\n",
      "          'version': '1.2'},\n",
      " 'results': [{'cell': '(920)-801-4102',\n",
      "              'dob': {'age': 51, 'date': '1968-02-02T16:58:45Z'},\n",
      "              'email': 'aiden.barnes@example.com',\n",
      "              'gender': 'male',\n",
      "              'id': {'name': 'SSN', 'value': '506-19-3043'},\n",
      "              'location': {'city': 'pompano beach',\n",
      "                           'coordinates': {'latitude': '-29.3564',\n",
      "                                           'longitude': '-176.7691'},\n",
      "                           'postcode': 59718,\n",
      "                           'state': 'maryland',\n",
      "                           'street': '2546 brown terrace',\n",
      "                           'timezone': {'description': 'Mountain Time (US & '\n",
      "                                                       'Canada)',\n",
      "                                        'offset': '-7:00'}},\n",
      "              'login': {'md5': '28995c82949a8fc578af825c4d917b38',\n",
      "                        'password': 'aardvark',\n",
      "                        'salt': 'SZWVLPiP',\n",
      "                        'sha1': '379c563d880d94a9e9583432a62c4ef7630f6a18',\n",
      "                        'sha256': 'fafd9aa0ced7f6bfc989bac13826d4e616e630a963bf286ca4d596bf06fa1366',\n",
      "                        'username': 'sadleopard848',\n",
      "                        'uuid': '0340b68b-dcc9-4a2a-9b8d-79da3c70d2cd'},\n",
      "              'name': {'first': 'aiden', 'last': 'barnes', 'title': 'mr'},\n",
      "              'nat': 'US',\n",
      "              'phone': '(627)-408-1785',\n",
      "              'picture': {'large': 'https://randomuser.me/api/portraits/men/84.jpg',\n",
      "                          'medium': 'https://randomuser.me/api/portraits/med/men/84.jpg',\n",
      "                          'thumbnail': 'https://randomuser.me/api/portraits/thumb/men/84.jpg'},\n",
      "              'registered': {'age': 7, 'date': '2011-10-13T13:17:28Z'}},\n",
      "             {'cell': '(300)-039-0524',\n",
      "              'dob': {'age': 29, 'date': '1989-08-24T19:57:10Z'},\n",
      "              'email': 'daryl.neal@example.com',\n",
      "              'gender': 'male',\n",
      "              'id': {'name': 'SSN', 'value': '719-00-4992'},\n",
      "              'location': {'city': 'el monte',\n",
      "                           'coordinates': {'latitude': '12.6190',\n",
      "                                           'longitude': '174.4864'},\n",
      "                           'postcode': 45706,\n",
      "                           'state': 'arkansas',\n",
      "                           'street': '3584 e center st',\n",
      "                           'timezone': {'description': 'Central Time (US & '\n",
      "                                                       'Canada), Mexico City',\n",
      "                                        'offset': '-6:00'}},\n",
      "              'login': {'md5': 'b09adc50361bf6dd1fc91ee12a2d5c54',\n",
      "                        'password': 'groups',\n",
      "                        'salt': '37NZchYa',\n",
      "                        'sha1': '924f3cc03a917c191cd354a4b8e20bd90111de35',\n",
      "                        'sha256': '88df74674c5cfb105f65db36ebe1489d82d198761f287e34e17ccb80d3eadf72',\n",
      "                        'username': 'whitegorilla950',\n",
      "                        'uuid': '41e12710-381a-42f5-9760-3a352416efad'},\n",
      "              'name': {'first': 'daryl', 'last': 'neal', 'title': 'mr'},\n",
      "              'nat': 'US',\n",
      "              'phone': '(176)-401-2954',\n",
      "              'picture': {'large': 'https://randomuser.me/api/portraits/men/41.jpg',\n",
      "                          'medium': 'https://randomuser.me/api/portraits/med/men/41.jpg',\n",
      "                          'thumbnail': 'https://randomuser.me/api/portraits/thumb/men/41.jpg'},\n",
      "              'registered': {'age': 16, 'date': '2002-12-09T06:39:59Z'}},\n",
      "             {'cell': '(902)-464-0938',\n",
      "              'dob': {'age': 44, 'date': '1974-10-29T15:54:09Z'},\n",
      "              'email': 'aaron.craig@example.com',\n",
      "              'gender': 'male',\n",
      "              'id': {'name': 'SSN', 'value': '633-55-2683'},\n",
      "              'location': {'city': 'rialto',\n",
      "                           'coordinates': {'latitude': '-82.2415',\n",
      "                                           'longitude': '-138.7725'},\n",
      "                           'postcode': 31713,\n",
      "                           'state': 'kansas',\n",
      "                           'street': '6836 mcgowen st',\n",
      "                           'timezone': {'description': 'Eastern Time (US & '\n",
      "                                                       'Canada), Bogota, Lima',\n",
      "                                        'offset': '-5:00'}},\n",
      "              'login': {'md5': '92364f027548c3356b14260d715c541a',\n",
      "                        'password': 'bernard',\n",
      "                        'salt': 'v1Ua7uGg',\n",
      "                        'sha1': '57cbc47d9ae52b79ca26359d37c24dc1b7b878bd',\n",
      "                        'sha256': '721e49aa8dc49236813e00dd63ea4b1861b8a759306a504e062345817d559ebe',\n",
      "                        'username': 'ticklishrabbit132',\n",
      "                        'uuid': 'c06e6fd0-61cb-4712-be97-50106f0836b2'},\n",
      "              'name': {'first': 'aaron', 'last': 'craig', 'title': 'mr'},\n",
      "              'nat': 'US',\n",
      "              'phone': '(242)-404-1180',\n",
      "              'picture': {'large': 'https://randomuser.me/api/portraits/men/97.jpg',\n",
      "                          'medium': 'https://randomuser.me/api/portraits/med/men/97.jpg',\n",
      "                          'thumbnail': 'https://randomuser.me/api/portraits/thumb/men/97.jpg'},\n",
      "              'registered': {'age': 15, 'date': '2003-05-25T00:46:15Z'}},\n",
      "             {'cell': '(083)-487-4866',\n",
      "              'dob': {'age': 50, 'date': '1968-10-05T04:38:26Z'},\n",
      "              'email': 'wallace.edwards@example.com',\n",
      "              'gender': 'male',\n",
      "              'id': {'name': 'SSN', 'value': '733-03-7476'},\n",
      "              'location': {'city': 'olathe',\n",
      "                           'coordinates': {'latitude': '86.5105',\n",
      "                                           'longitude': '-153.7053'},\n",
      "                           'postcode': 87321,\n",
      "                           'state': 'mississippi',\n",
      "                           'street': '3198 hillcrest rd',\n",
      "                           'timezone': {'description': 'Western Europe Time, '\n",
      "                                                       'London, Lisbon, '\n",
      "                                                       'Casablanca',\n",
      "                                        'offset': '0:00'}},\n",
      "              'login': {'md5': '69acbd8f2e05cf60cc6372f3f534115e',\n",
      "                        'password': 'sausages',\n",
      "                        'salt': '8rcrlsyM',\n",
      "                        'sha1': 'a6db086180dcc2383ab48d88eb37007507e733d0',\n",
      "                        'sha256': '8ca143d8a5ee8caef5254a870f0a6722f537304ea4f75ad61bad8a2994709dc4',\n",
      "                        'username': 'ticklishleopard875',\n",
      "                        'uuid': '07ee4402-3a7b-4535-9b0e-5812dc091f36'},\n",
      "              'name': {'first': 'wallace', 'last': 'edwards', 'title': 'mr'},\n",
      "              'nat': 'US',\n",
      "              'phone': '(399)-585-4820',\n",
      "              'picture': {'large': 'https://randomuser.me/api/portraits/men/91.jpg',\n",
      "                          'medium': 'https://randomuser.me/api/portraits/med/men/91.jpg',\n",
      "                          'thumbnail': 'https://randomuser.me/api/portraits/thumb/men/91.jpg'},\n",
      "              'registered': {'age': 12, 'date': '2006-06-17T17:57:36Z'}},\n",
      "             {'cell': '(972)-457-3583',\n",
      "              'dob': {'age': 50, 'date': '1969-02-05T17:37:16Z'},\n",
      "              'email': 'david.simmons@example.com',\n",
      "              'gender': 'male',\n",
      "              'id': {'name': 'SSN', 'value': '574-43-9131'},\n",
      "              'location': {'city': 'murfreesboro',\n",
      "                           'coordinates': {'latitude': '-40.6404',\n",
      "                                           'longitude': '-35.3357'},\n",
      "                           'postcode': 44368,\n",
      "                           'state': 'north carolina',\n",
      "                           'street': '7279 homestead rd',\n",
      "                           'timezone': {'description': 'Azores, Cape Verde '\n",
      "                                                       'Islands',\n",
      "                                        'offset': '-1:00'}},\n",
      "              'login': {'md5': '69cf38d363bdd6414f354f7fa434c5c9',\n",
      "                        'password': 'lucifer',\n",
      "                        'salt': 'ggro8kgW',\n",
      "                        'sha1': '05b2a5b909cb8361567aca63effef7994a6f2662',\n",
      "                        'sha256': 'f6803a2f69923e2922bbe2a465c9c34162ec4e96f8df2e4a23de40bb84bc8c14',\n",
      "                        'username': 'tinymouse698',\n",
      "                        'uuid': '1622d1e0-37a7-41f5-aa55-883ad52f3755'},\n",
      "              'name': {'first': 'david', 'last': 'simmons', 'title': 'mr'},\n",
      "              'nat': 'US',\n",
      "              'phone': '(139)-952-0570',\n",
      "              'picture': {'large': 'https://randomuser.me/api/portraits/men/64.jpg',\n",
      "                          'medium': 'https://randomuser.me/api/portraits/med/men/64.jpg',\n",
      "                          'thumbnail': 'https://randomuser.me/api/portraits/thumb/men/64.jpg'},\n",
      "              'registered': {'age': 3, 'date': '2015-08-19T07:38:08Z'}},\n",
      "             {'cell': '(818)-543-8499',\n",
      "              'dob': {'age': 28, 'date': '1990-09-11T18:11:25Z'},\n",
      "              'email': 'glen.bishop@example.com',\n",
      "              'gender': 'male',\n",
      "              'id': {'name': 'SSN', 'value': '372-09-7890'},\n",
      "              'location': {'city': 'pasadena',\n",
      "                           'coordinates': {'latitude': '25.1155',\n",
      "                                           'longitude': '-10.7074'},\n",
      "                           'postcode': 61438,\n",
      "                           'state': 'minnesota',\n",
      "                           'street': '91 central st',\n",
      "                           'timezone': {'description': 'Kathmandu',\n",
      "                                        'offset': '+5:45'}},\n",
      "              'login': {'md5': 'e7731c2a01d4280b0df8ecb4b811395d',\n",
      "                        'password': 'away',\n",
      "                        'salt': 'z01d53Ax',\n",
      "                        'sha1': 'd1437516462df0a735f309ffcc2fd11319e62b59',\n",
      "                        'sha256': '1767981255aebb74fedc49691e347dd99b672ef71d0bbcf65c7529f3bd81bf58',\n",
      "                        'username': 'yellowfrog874',\n",
      "                        'uuid': 'df404246-9cd8-4d74-a5ff-9c87e410e66d'},\n",
      "              'name': {'first': 'glen', 'last': 'bishop', 'title': 'mr'},\n",
      "              'nat': 'US',\n",
      "              'phone': '(740)-325-0439',\n",
      "              'picture': {'large': 'https://randomuser.me/api/portraits/men/93.jpg',\n",
      "                          'medium': 'https://randomuser.me/api/portraits/med/men/93.jpg',\n",
      "                          'thumbnail': 'https://randomuser.me/api/portraits/thumb/men/93.jpg'},\n",
      "              'registered': {'age': 4, 'date': '2015-02-05T03:11:34Z'}},\n",
      "             {'cell': '(549)-973-7931',\n",
      "              'dob': {'age': 73, 'date': '1946-04-05T00:39:49Z'},\n",
      "              'email': 'edgar.mckinney@example.com',\n",
      "              'gender': 'male',\n",
      "              'id': {'name': 'SSN', 'value': '074-83-1351'},\n",
      "              'location': {'city': 'tallahassee',\n",
      "                           'coordinates': {'latitude': '49.5817',\n",
      "                                           'longitude': '-6.6139'},\n",
      "                           'postcode': 91620,\n",
      "                           'state': 'minnesota',\n",
      "                           'street': '2954 camden ave',\n",
      "                           'timezone': {'description': 'Eniwetok, Kwajalein',\n",
      "                                        'offset': '-12:00'}},\n",
      "              'login': {'md5': 'd986f75ed4c9f842343be03ce3d05cf2',\n",
      "                        'password': 'mature',\n",
      "                        'salt': 'LyMRULyk',\n",
      "                        'sha1': '694e3ec8aa5f987050a0a5a65dd1150cb80ddb5d',\n",
      "                        'sha256': 'fb207bbeffb677ad32b1a39a612d05a689d7f62cf1137e6a7b6e4158359c2019',\n",
      "                        'username': 'bluegoose233',\n",
      "                        'uuid': 'daab6615-c7ca-413d-ab69-a61143f21c8d'},\n",
      "              'name': {'first': 'edgar', 'last': 'mckinney', 'title': 'mr'},\n",
      "              'nat': 'US',\n",
      "              'phone': '(686)-490-1842',\n",
      "              'picture': {'large': 'https://randomuser.me/api/portraits/men/99.jpg',\n",
      "                          'medium': 'https://randomuser.me/api/portraits/med/men/99.jpg',\n",
      "                          'thumbnail': 'https://randomuser.me/api/portraits/thumb/men/99.jpg'},\n",
      "              'registered': {'age': 8, 'date': '2010-12-06T20:03:21Z'}},\n",
      "             {'cell': '(705)-087-8644',\n",
      "              'dob': {'age': 41, 'date': '1977-09-28T00:29:31Z'},\n",
      "              'email': 'joseph.shelton@example.com',\n",
      "              'gender': 'male',\n",
      "              'id': {'name': 'SSN', 'value': '924-85-8744'},\n",
      "              'location': {'city': 'helena',\n",
      "                           'coordinates': {'latitude': '23.4791',\n",
      "                                           'longitude': '59.4397'},\n",
      "                           'postcode': 42167,\n",
      "                           'state': 'minnesota',\n",
      "                           'street': '5023 first street',\n",
      "                           'timezone': {'description': 'Bombay, Calcutta, '\n",
      "                                                       'Madras, New Delhi',\n",
      "                                        'offset': '+5:30'}},\n",
      "              'login': {'md5': '2cd8d4a821fc59ad05456b97c859253f',\n",
      "                        'password': 'alexande',\n",
      "                        'salt': 'gtLKPOSb',\n",
      "                        'sha1': 'a0866fff5fdda282c605be9a1952f6369497083e',\n",
      "                        'sha256': '0cce37b674a04858b51b81248d76feacee5c6d420fc2e3dd2f2edae048c9367b',\n",
      "                        'username': 'orangepanda768',\n",
      "                        'uuid': '7da25ff8-318b-40fb-b78b-58c48c775f25'},\n",
      "              'name': {'first': 'joseph', 'last': 'shelton', 'title': 'mr'},\n",
      "              'nat': 'US',\n",
      "              'phone': '(135)-515-0107',\n",
      "              'picture': {'large': 'https://randomuser.me/api/portraits/men/13.jpg',\n",
      "                          'medium': 'https://randomuser.me/api/portraits/med/men/13.jpg',\n",
      "                          'thumbnail': 'https://randomuser.me/api/portraits/thumb/men/13.jpg'},\n",
      "              'registered': {'age': 14, 'date': '2004-06-19T13:03:52Z'}},\n",
      "             {'cell': '(695)-082-6678',\n",
      "              'dob': {'age': 53, 'date': '1965-12-28T05:36:02Z'},\n",
      "              'email': 'vincent.fuller@example.com',\n",
      "              'gender': 'male',\n",
      "              'id': {'name': 'SSN', 'value': '102-54-9008'},\n",
      "              'location': {'city': 'thousand oaks',\n",
      "                           'coordinates': {'latitude': '-56.4251',\n",
      "                                           'longitude': '-79.9739'},\n",
      "                           'postcode': 82927,\n",
      "                           'state': 'georgia',\n",
      "                           'street': '9141 e north st',\n",
      "                           'timezone': {'description': 'Kabul',\n",
      "                                        'offset': '+4:30'}},\n",
      "              'login': {'md5': 'a42e6784e74a4677aa6542fe92c99517',\n",
      "                        'password': 'clemson',\n",
      "                        'salt': 'Wjnfwktc',\n",
      "                        'sha1': '75d98de178634d256d2f2dd6525d78ac20f72e62',\n",
      "                        'sha256': '3269fb027a2d426aa55a94dfc1db62049133c3ca6a6561421aec8348d4b9fed7',\n",
      "                        'username': 'whiterabbit720',\n",
      "                        'uuid': '61b01a79-6fd0-4ee6-a1f5-ddceb7053907'},\n",
      "              'name': {'first': 'vincent', 'last': 'fuller', 'title': 'mr'},\n",
      "              'nat': 'US',\n",
      "              'phone': '(588)-249-8469',\n",
      "              'picture': {'large': 'https://randomuser.me/api/portraits/men/32.jpg',\n",
      "                          'medium': 'https://randomuser.me/api/portraits/med/men/32.jpg',\n",
      "                          'thumbnail': 'https://randomuser.me/api/portraits/thumb/men/32.jpg'},\n",
      "              'registered': {'age': 17, 'date': '2002-04-07T20:36:29Z'}},\n",
      "             {'cell': '(890)-826-3947',\n",
      "              'dob': {'age': 23, 'date': '1995-12-11T10:56:59Z'},\n",
      "              'email': 'melvin.medina@example.com',\n",
      "              'gender': 'male',\n",
      "              'id': {'name': 'SSN', 'value': '298-34-6153'},\n",
      "              'location': {'city': 'naperville',\n",
      "                           'coordinates': {'latitude': '-35.7201',\n",
      "                                           'longitude': '160.4378'},\n",
      "                           'postcode': 98735,\n",
      "                           'state': 'iowa',\n",
      "                           'street': '1552 w pecan st',\n",
      "                           'timezone': {'description': 'Kathmandu',\n",
      "                                        'offset': '+5:45'}},\n",
      "              'login': {'md5': '7f31483d81afb03132a9595df74816f3',\n",
      "                        'password': 'tempest',\n",
      "                        'salt': 'HQU0Zee1',\n",
      "                        'sha1': 'bb83e1ad8da7d38f9d2c18fc5709e6c2a02fc746',\n",
      "                        'sha256': '9c657ec40c29026d95fb5967974d9c4521a886cfaa7029127229c10cd9bdeda1',\n",
      "                        'username': 'whitelion911',\n",
      "                        'uuid': 'd2d975e7-ff5c-440e-8de0-349041e7e96a'},\n",
      "              'name': {'first': 'melvin', 'last': 'medina', 'title': 'mr'},\n",
      "              'nat': 'US',\n",
      "              'phone': '(449)-919-8285',\n",
      "              'picture': {'large': 'https://randomuser.me/api/portraits/men/36.jpg',\n",
      "                          'medium': 'https://randomuser.me/api/portraits/med/men/36.jpg',\n",
      "                          'thumbnail': 'https://randomuser.me/api/portraits/thumb/men/36.jpg'},\n",
      "              'registered': {'age': 7, 'date': '2011-05-11T23:54:48Z'}}]}\n"
     ]
    }
   ],
   "source": [
    "from pprint import pprint\n",
    "pprint(data)"
   ]
  },
  {
   "cell_type": "code",
   "execution_count": 12,
   "metadata": {
    "collapsed": false
   },
   "outputs": [
    {
     "data": {
      "text/plain": [
       "{'cell': '(920)-801-4102',\n",
       " 'dob': {'age': 51, 'date': '1968-02-02T16:58:45Z'},\n",
       " 'email': 'aiden.barnes@example.com',\n",
       " 'gender': 'male',\n",
       " 'id': {'name': 'SSN', 'value': '506-19-3043'},\n",
       " 'location': {'city': 'pompano beach',\n",
       "  'coordinates': {'latitude': '-29.3564', 'longitude': '-176.7691'},\n",
       "  'postcode': 59718,\n",
       "  'state': 'maryland',\n",
       "  'street': '2546 brown terrace',\n",
       "  'timezone': {'description': 'Mountain Time (US & Canada)',\n",
       "   'offset': '-7:00'}},\n",
       " 'login': {'md5': '28995c82949a8fc578af825c4d917b38',\n",
       "  'password': 'aardvark',\n",
       "  'salt': 'SZWVLPiP',\n",
       "  'sha1': '379c563d880d94a9e9583432a62c4ef7630f6a18',\n",
       "  'sha256': 'fafd9aa0ced7f6bfc989bac13826d4e616e630a963bf286ca4d596bf06fa1366',\n",
       "  'username': 'sadleopard848',\n",
       "  'uuid': '0340b68b-dcc9-4a2a-9b8d-79da3c70d2cd'},\n",
       " 'name': {'first': 'aiden', 'last': 'barnes', 'title': 'mr'},\n",
       " 'nat': 'US',\n",
       " 'phone': '(627)-408-1785',\n",
       " 'picture': {'large': 'https://randomuser.me/api/portraits/men/84.jpg',\n",
       "  'medium': 'https://randomuser.me/api/portraits/med/men/84.jpg',\n",
       "  'thumbnail': 'https://randomuser.me/api/portraits/thumb/men/84.jpg'},\n",
       " 'registered': {'age': 7, 'date': '2011-10-13T13:17:28Z'}}"
      ]
     },
     "execution_count": 12,
     "metadata": {},
     "output_type": "execute_result"
    }
   ],
   "source": [
    "results_list = data['results']\n",
    "results_list[0]"
   ]
  },
  {
   "cell_type": "code",
   "execution_count": 13,
   "metadata": {
    "collapsed": false
   },
   "outputs": [
    {
     "name": "stdout",
     "output_type": "stream",
     "text": [
      "aiden\n",
      "daryl\n",
      "aaron\n",
      "wallace\n",
      "david\n",
      "glen\n",
      "edgar\n",
      "joseph\n",
      "vincent\n",
      "melvin\n"
     ]
    }
   ],
   "source": [
    "for res_dict in results_list:\n",
    "    print(res_dict['name']['first'])"
   ]
  },
  {
   "cell_type": "markdown",
   "metadata": {},
   "source": [
    "* Loop through the dictionary and print all first names"
   ]
  },
  {
   "cell_type": "code",
   "execution_count": 14,
   "metadata": {
    "collapsed": false
   },
   "outputs": [
    {
     "name": "stdout",
     "output_type": "stream",
     "text": [
      "aiden\n",
      "daryl\n",
      "aaron\n",
      "wallace\n",
      "david\n",
      "glen\n",
      "edgar\n",
      "joseph\n",
      "vincent\n",
      "melvin\n"
     ]
    }
   ],
   "source": [
    "def get_first():\n",
    "    results_list = data['results']\n",
    "    for res_dict in results_list:\n",
    "        print(res_dict['name']['first'])\n",
    "\n",
    "get_first()"
   ]
  },
  {
   "cell_type": "markdown",
   "metadata": {},
   "source": [
    "* Get all astronauts who are right now in space. You get the information about the Web APU from here  http://open-notify.org/Open-Notify-API/People-In-Space/ "
   ]
  },
  {
   "cell_type": "code",
   "execution_count": 15,
   "metadata": {
    "collapsed": true
   },
   "outputs": [],
   "source": [
    "# TODO\n",
    "url_astro = \"http://api.open-notify.org/astros.json\""
   ]
  },
  {
   "cell_type": "code",
   "execution_count": 16,
   "metadata": {
    "collapsed": false
   },
   "outputs": [
    {
     "name": "stdout",
     "output_type": "stream",
     "text": [
      "200\n"
     ]
    }
   ],
   "source": [
    "response_astro = requests.get(url_astro)\n",
    "print(response_astro.status_code)"
   ]
  },
  {
   "cell_type": "code",
   "execution_count": 17,
   "metadata": {
    "collapsed": false
   },
   "outputs": [
    {
     "name": "stdout",
     "output_type": "stream",
     "text": [
      "{'message': 'success',\n",
      " 'number': 6,\n",
      " 'people': [{'craft': 'ISS', 'name': 'Oleg Kononenko'},\n",
      "            {'craft': 'ISS', 'name': 'David Saint-Jacques'},\n",
      "            {'craft': 'ISS', 'name': 'Anne McClain'},\n",
      "            {'craft': 'ISS', 'name': 'Alexey Ovchinin'},\n",
      "            {'craft': 'ISS', 'name': 'Nick Hague'},\n",
      "            {'craft': 'ISS', 'name': 'Christina Koch'}]}\n"
     ]
    }
   ],
   "source": [
    "data_astro = json.loads(response_astro.text)\n",
    "pprint(data_astro)"
   ]
  },
  {
   "cell_type": "markdown",
   "metadata": {},
   "source": [
    "* Print the number of people that are right now in space"
   ]
  },
  {
   "cell_type": "code",
   "execution_count": 18,
   "metadata": {
    "collapsed": false
   },
   "outputs": [
    {
     "name": "stdout",
     "output_type": "stream",
     "text": [
      "Number of people in space:  6\n"
     ]
    }
   ],
   "source": [
    "# TODO\n",
    "print(\"Number of people in space: \", data_astro['number'])"
   ]
  },
  {
   "cell_type": "markdown",
   "metadata": {},
   "source": [
    "* Print the names of all astronauts "
   ]
  },
  {
   "cell_type": "code",
   "execution_count": 19,
   "metadata": {
    "collapsed": false
   },
   "outputs": [
    {
     "name": "stdout",
     "output_type": "stream",
     "text": [
      "Oleg Kononenko\n",
      "David Saint-Jacques\n",
      "Anne McClain\n",
      "Alexey Ovchinin\n",
      "Nick Hague\n",
      "Christina Koch\n"
     ]
    }
   ],
   "source": [
    "# TODO\n",
    "astro_list = data_astro['people']\n",
    "for astro_dict in astro_list:\n",
    "    print(astro_dict['name'])\n"
   ]
  },
  {
   "cell_type": "markdown",
   "metadata": {},
   "source": [
    "* A lot of Web APIs require a api-key for interacting with them (like Twitter, Facebook, …). You find at http://www.python-requests.org/en/latest/user/authentication/ more information for Authentication for Web APIs with the request package\n",
    "* There are also special Python packages for interacting with services. E.g. for Twitter: http://www.tweepy.org/ or  https://github.com/bear/python-twitter \n",
    "\n",
    "See e.g. http://socialmedia-class.org/twittertutorial.html for a tutorial"
   ]
  },
  {
   "cell_type": "markdown",
   "metadata": {},
   "source": [
    "## 2. Creating a Web API\n",
    "\n",
    "* Create a folder `webapi` and change into it.\n",
    "* Create in the `webapi` folder a file with the name `Dockerfile` with the following content:\n",
    "\n",
    "----\n",
    "```bash\n",
    "# Use an official Python runtime as a parent image\n",
    "FROM python:3.7-slim\n",
    "\n",
    "# Set the working directory to /app\n",
    "WORKDIR /app\n",
    "\n",
    "# Copy the current directory contents into the container at /app\n",
    "COPY app/ /app\n",
    "\n",
    "# Install any needed packages specified in requirements.txt\n",
    "RUN pip install --trusted-host pypi.python.org -r requirements.txt\n",
    "\n",
    "# Make port 80 available to the world outside this container\n",
    "EXPOSE 80\n",
    "\n",
    "# Run app.py when the container launches\n",
    "CMD [\"python\", \"app.py\"]\n",
    "```\n",
    "\n",
    "-----\n",
    "\n",
    "* We can also use Docker compose with just one service. Create in your `webapi` folder a `docker-compose.yml` file:\n",
    "\n",
    "-----\n",
    "\n",
    "```yaml\n",
    "version: '3'\n",
    "services:\n",
    "  api:\n",
    "    build: .\n",
    "    ports:\n",
    "      - \"5000:80\"\n",
    "    restart: always\n",
    "    volumes:\n",
    "      - ./app:/app\n",
    "```\n",
    "-----\n",
    "\n",
    "* Create a folder in the `webapi` folder a new folder with the name `app`\n",
    "* We will build a web API with `Flask` (http://flask.pocoo.org/) . Create a `requirements.txt` file in the `app` folder. Here we can specify all python `pip` packages that we need:\n",
    "\n",
    "-----\n",
    "```bash\n",
    "Flask\n",
    "```\n",
    "-----\n",
    "\n",
    "* Create the `app.py` file in the `app` folder:\n",
    "\n",
    "-----\n",
    "```python\n",
    "from flask import Flask\n",
    "from flask import request, jsonify\n",
    "\n",
    "app = Flask(__name__)\n",
    "\n",
    "courses = [\n",
    "    {'id': 0,\n",
    "     'title': 'Data Science',\n",
    "     'professor': 'Markus Löcher',\n",
    "     'semester': '1'},\n",
    "    {'id': 1,\n",
    "     'title': 'Data Warehousing',\n",
    "     'professor': 'Roland M. Mueller',\n",
    "     'semester': '1'},\n",
    "    {'id': 2,\n",
    "     'title': 'Business Process Management',\n",
    "     'professor': 'Frank Habermann',\n",
    "     'semester': '1'},\n",
    "    {'id': 3,\n",
    "     'title': 'Stratigic Issues of IT',\n",
    "     'professor': 'Sven Pohland',\n",
    "     'semester': '1'},\n",
    "    {'id': 4,\n",
    "     'title': 'Text, Web and Social Media Analytics Lab',\n",
    "     'professor': 'Markus Löcher',\n",
    "     'semester': '2'},\n",
    "    {'id': 5,\n",
    "     'title': 'Enterprise Architectures for Big Data',\n",
    "     'professor': 'Roland M. Mueller',\n",
    "     'semester': '2'},\n",
    "    {'id': 6,\n",
    "     'title': 'Business Process Integration Lab',\n",
    "     'professor': 'Frank Habermann',\n",
    "     'semester': '2'},\n",
    "    {'id': 7,\n",
    "     'title': 'IT-Security and Privacy',\n",
    "     'professor': 'Dennis Uckel',\n",
    "     'semester': '2'},\n",
    "    {'id': 8,\n",
    "     'title': 'Research Methods',\n",
    "     'professor': 'Marcus Birkenkrahe',\n",
    "     'semester': '2'},\n",
    "]\n",
    "\n",
    "@app.route('/api/v1/courses/all', methods=['GET'])\n",
    "def api_all():\n",
    "    return jsonify(courses)\n",
    "\n",
    "@app.route('/api/v1/courses', methods=['GET'])\n",
    "def api_id():\n",
    "    # Check if an ID was provided as part of the URL.\n",
    "    # If ID is provided, assign it to a variable.\n",
    "    # If no ID is provided, display an error in the browser.\n",
    "    if 'id' in request.args:\n",
    "        id = int(request.args['id'])\n",
    "    else:\n",
    "        return \"Error: No id field provided. Please specify an id.\"\n",
    "\n",
    "    # Create an empty list for our results\n",
    "    results = []\n",
    "\n",
    "    # Loop through the data and match results that fit the requested ID.\n",
    "    # IDs are unique, but other fields might return many results\n",
    "    for course in courses:\n",
    "        if course['id'] == id:\n",
    "            results.append(course)\n",
    "\n",
    "    # Use the jsonify function from Flask to convert our list of\n",
    "    # Python dictionaries to the JSON format.\n",
    "    return jsonify(results)\n",
    "\n",
    "if __name__ == \"__main__\":\n",
    "    app.run(host=\"0.0.0.0\", port=80, debug=True)\n",
    "```\n",
    "-----\n",
    "* Open http://localhost:5000/api/v1/courses/all in a browser\n",
    "* Open http://localhost:5000/api/v1/courses?id=5 in a browser\n"
   ]
  },
  {
   "cell_type": "code",
   "execution_count": 30,
   "metadata": {
    "collapsed": false
   },
   "outputs": [
    {
     "data": {
      "text/plain": [
       "'[\\n  {\\n    \"id\": 0, \\n    \"professor\": \"Markus L\\\\u00f6cher\", \\n    \"semester\": \"1\", \\n    \"title\": \"Data Science\"\\n  }, \\n  {\\n    \"id\": 1, \\n    \"professor\": \"Roland M. Mueller\", \\n    \"semester\": \"1\", \\n    \"title\": \"Data Warehousing\"\\n  }, \\n  {\\n    \"id\": 2, \\n    \"professor\": \"Frank Habermann\", \\n    \"semester\": \"1\", \\n    \"title\": \"Business Process Management\"\\n  }, \\n  {\\n    \"id\": 3, \\n    \"professor\": \"Sven Pohland\", \\n    \"semester\": \"1\", \\n    \"title\": \"Stratigic Issues of IT\"\\n  }, \\n  {\\n    \"id\": 4, \\n    \"professor\": \"Markus L\\\\u00f6cher\", \\n    \"semester\": \"2\", \\n    \"title\": \"Text, Web and Social Media Analytics Lab\"\\n  }, \\n  {\\n    \"id\": 5, \\n    \"professor\": \"Roland M. Mueller\", \\n    \"semester\": \"2\", \\n    \"title\": \"Enterprise Architectures for Big Data\"\\n  }, \\n  {\\n    \"id\": 6, \\n    \"professor\": \"Frank Habermann\", \\n    \"semester\": \"2\", \\n    \"title\": \"Business Process Integration Lab\"\\n  }, \\n  {\\n    \"id\": 7, \\n    \"professor\": \"Dennis Uckel\", \\n    \"semester\": \"2\", \\n    \"title\": \"IT-Security and Privacy\"\\n  }, \\n  {\\n    \"id\": 8, \\n    \"professor\": \"Marcus Birkenkrahe\", \\n    \"semester\": \"2\", \\n    \"title\": \"Research Methods\"\\n  }\\n]\\n'"
      ]
     },
     "execution_count": 30,
     "metadata": {},
     "output_type": "execute_result"
    }
   ],
   "source": [
    "url_api = 'http://192.168.99.100:5000/api/v1/courses/all'\n",
    "response = requests.get(url_api)\n",
    "response.text"
   ]
  },
  {
   "cell_type": "code",
   "execution_count": 31,
   "metadata": {
    "collapsed": false
   },
   "outputs": [
    {
     "name": "stdout",
     "output_type": "stream",
     "text": [
      "[{'id': 0,\n",
      "  'professor': 'Markus Löcher',\n",
      "  'semester': '1',\n",
      "  'title': 'Data Science'},\n",
      " {'id': 1,\n",
      "  'professor': 'Roland M. Mueller',\n",
      "  'semester': '1',\n",
      "  'title': 'Data Warehousing'},\n",
      " {'id': 2,\n",
      "  'professor': 'Frank Habermann',\n",
      "  'semester': '1',\n",
      "  'title': 'Business Process Management'},\n",
      " {'id': 3,\n",
      "  'professor': 'Sven Pohland',\n",
      "  'semester': '1',\n",
      "  'title': 'Stratigic Issues of IT'},\n",
      " {'id': 4,\n",
      "  'professor': 'Markus Löcher',\n",
      "  'semester': '2',\n",
      "  'title': 'Text, Web and Social Media Analytics Lab'},\n",
      " {'id': 5,\n",
      "  'professor': 'Roland M. Mueller',\n",
      "  'semester': '2',\n",
      "  'title': 'Enterprise Architectures for Big Data'},\n",
      " {'id': 6,\n",
      "  'professor': 'Frank Habermann',\n",
      "  'semester': '2',\n",
      "  'title': 'Business Process Integration Lab'},\n",
      " {'id': 7,\n",
      "  'professor': 'Dennis Uckel',\n",
      "  'semester': '2',\n",
      "  'title': 'IT-Security and Privacy'},\n",
      " {'id': 8,\n",
      "  'professor': 'Marcus Birkenkrahe',\n",
      "  'semester': '2',\n",
      "  'title': 'Research Methods'}]\n"
     ]
    }
   ],
   "source": [
    "data_api = json.loads(response.text)\n",
    "pprint(data_api)"
   ]
  },
  {
   "cell_type": "code",
   "execution_count": 20,
   "metadata": {
    "collapsed": false
   },
   "outputs": [
    {
     "data": {
      "image/png": "[encoded data removed]",
      "text/plain": [
       "<IPython.core.display.Image object>"
      ]
     },
     "execution_count": 20,
     "metadata": {},
     "output_type": "execute_result"
    }
   ],
   "source": [
    "from IPython.display import Image\n",
    "Image(filename='screen.png') "
   ]
  },
  {
   "cell_type": "markdown",
   "metadata": {},
   "source": [
    "When I run docker container everything is working, but I can't open localhost in browser. "
   ]
  },
  {
   "cell_type": "code",
   "execution_count": 21,
   "metadata": {
    "collapsed": true
   },
   "outputs": [],
   "source": [
    "courses = [\n",
    "    {'id': 0,\n",
    "     'title': 'Data Science',\n",
    "     'professor': 'Markus Löcher',\n",
    "     'semester': '1'},\n",
    "    {'id': 1,\n",
    "     'title': 'Data Warehousing',\n",
    "     'professor': 'Roland M. Mueller',\n",
    "     'semester': '1'},\n",
    "    {'id': 2,\n",
    "     'title': 'Business Process Management',\n",
    "     'professor': 'Frank Habermann',\n",
    "     'semester': '1'},\n",
    "    {'id': 3,\n",
    "     'title': 'Stratigic Issues of IT',\n",
    "     'professor': 'Sven Pohland',\n",
    "     'semester': '1'},\n",
    "    {'id': 4,\n",
    "     'title': 'Text, Web and Social Media Analytics Lab',\n",
    "     'professor': 'Markus Löcher',\n",
    "     'semester': '2'},\n",
    "    {'id': 5,\n",
    "     'title': 'Enterprise Architectures for Big Data',\n",
    "     'professor': 'Roland M. Mueller',\n",
    "     'semester': '2'},\n",
    "    {'id': 6,\n",
    "     'title': 'Business Process Integration Lab',\n",
    "     'professor': 'Frank Habermann',\n",
    "     'semester': '2'},\n",
    "    {'id': 7,\n",
    "     'title': 'IT-Security and Privacy',\n",
    "     'professor': 'Dennis Uckel',\n",
    "     'semester': '2'},\n",
    "    {'id': 8,\n",
    "     'title': 'Research Methods',\n",
    "     'professor': 'Marcus Birkenkrahe',\n",
    "     'semester': '2'},\n",
    "]"
   ]
  },
  {
   "cell_type": "markdown",
   "metadata": {
    "collapsed": true
   },
   "source": [
    "* Use your own API here in the Jupyter Notebook with Python and print all names of all courses "
   ]
  },
  {
   "cell_type": "code",
   "execution_count": 32,
   "metadata": {
    "collapsed": false
   },
   "outputs": [
    {
     "name": "stdout",
     "output_type": "stream",
     "text": [
      "Data Science\n",
      "Data Warehousing\n",
      "Business Process Management\n",
      "Stratigic Issues of IT\n",
      "Text, Web and Social Media Analytics Lab\n",
      "Enterprise Architectures for Big Data\n",
      "Business Process Integration Lab\n",
      "IT-Security and Privacy\n",
      "Research Methods\n"
     ]
    }
   ],
   "source": [
    "# TODO\n",
    "for course in data_api:\n",
    "    print(course['title'])"
   ]
  },
  {
   "cell_type": "markdown",
   "metadata": {},
   "source": [
    "* Add the possibility to find courses based on the semester\n",
    "* Use your API in Python and print all names of all courses in the second semester"
   ]
  },
  {
   "cell_type": "code",
   "execution_count": 33,
   "metadata": {
    "collapsed": true
   },
   "outputs": [],
   "source": [
    "# TODO\n",
    "def semester_course(semester):\n",
    "    for course in data_api:\n",
    "        if course['semester'] == semester:\n",
    "            print(course['title'])"
   ]
  },
  {
   "cell_type": "code",
   "execution_count": 34,
   "metadata": {
    "collapsed": false
   },
   "outputs": [
    {
     "name": "stdout",
     "output_type": "stream",
     "text": [
      "Data Science\n",
      "Data Warehousing\n",
      "Business Process Management\n",
      "Stratigic Issues of IT\n"
     ]
    }
   ],
   "source": [
    "semester_course('1')"
   ]
  },
  {
   "cell_type": "code",
   "execution_count": 35,
   "metadata": {
    "collapsed": false
   },
   "outputs": [
    {
     "name": "stdout",
     "output_type": "stream",
     "text": [
      "Text, Web and Social Media Analytics Lab\n",
      "Enterprise Architectures for Big Data\n",
      "Business Process Integration Lab\n",
      "IT-Security and Privacy\n",
      "Research Methods\n"
     ]
    }
   ],
   "source": [
    "semester_course('2')"
   ]
  },
  {
   "cell_type": "markdown",
   "metadata": {},
   "source": [
    "* Add a function that can convert Fahrenheit to Celsius \n",
    "* Call your API and get the Celsius value for 100°F Fahrenheit"
   ]
  },
  {
   "cell_type": "code",
   "execution_count": 26,
   "metadata": {
    "collapsed": true
   },
   "outputs": [],
   "source": [
    "# TODO\n",
    "def far_to_cel(far):\n",
    "    cel = (far - 32) * 5.0/9.0\n",
    "    print(cel)"
   ]
  },
  {
   "cell_type": "code",
   "execution_count": 36,
   "metadata": {
    "collapsed": true
   },
   "outputs": [],
   "source": [
    "for course in data_api:\n",
    "    course['far'] = 100"
   ]
  },
  {
   "cell_type": "code",
   "execution_count": 37,
   "metadata": {
    "collapsed": false
   },
   "outputs": [
    {
     "data": {
      "text/plain": [
       "[{'far': 100,\n",
       "  'id': 0,\n",
       "  'professor': 'Markus Löcher',\n",
       "  'semester': '1',\n",
       "  'title': 'Data Science'},\n",
       " {'far': 100,\n",
       "  'id': 1,\n",
       "  'professor': 'Roland M. Mueller',\n",
       "  'semester': '1',\n",
       "  'title': 'Data Warehousing'},\n",
       " {'far': 100,\n",
       "  'id': 2,\n",
       "  'professor': 'Frank Habermann',\n",
       "  'semester': '1',\n",
       "  'title': 'Business Process Management'},\n",
       " {'far': 100,\n",
       "  'id': 3,\n",
       "  'professor': 'Sven Pohland',\n",
       "  'semester': '1',\n",
       "  'title': 'Stratigic Issues of IT'},\n",
       " {'far': 100,\n",
       "  'id': 4,\n",
       "  'professor': 'Markus Löcher',\n",
       "  'semester': '2',\n",
       "  'title': 'Text, Web and Social Media Analytics Lab'},\n",
       " {'far': 100,\n",
       "  'id': 5,\n",
       "  'professor': 'Roland M. Mueller',\n",
       "  'semester': '2',\n",
       "  'title': 'Enterprise Architectures for Big Data'},\n",
       " {'far': 100,\n",
       "  'id': 6,\n",
       "  'professor': 'Frank Habermann',\n",
       "  'semester': '2',\n",
       "  'title': 'Business Process Integration Lab'},\n",
       " {'far': 100,\n",
       "  'id': 7,\n",
       "  'professor': 'Dennis Uckel',\n",
       "  'semester': '2',\n",
       "  'title': 'IT-Security and Privacy'},\n",
       " {'far': 100,\n",
       "  'id': 8,\n",
       "  'professor': 'Marcus Birkenkrahe',\n",
       "  'semester': '2',\n",
       "  'title': 'Research Methods'}]"
      ]
     },
     "execution_count": 37,
     "metadata": {},
     "output_type": "execute_result"
    }
   ],
   "source": [
    "data_api"
   ]
  },
  {
   "cell_type": "code",
   "execution_count": 38,
   "metadata": {
    "collapsed": false
   },
   "outputs": [
    {
     "name": "stdout",
     "output_type": "stream",
     "text": [
      "37.77777777777778\n",
      "37.77777777777778\n",
      "37.77777777777778\n",
      "37.77777777777778\n",
      "37.77777777777778\n",
      "37.77777777777778\n",
      "37.77777777777778\n",
      "37.77777777777778\n",
      "37.77777777777778\n"
     ]
    }
   ],
   "source": [
    "for course in courses:\n",
    "    far_to_cel(course['far'])"
   ]
  }
 ],
 "metadata": {
  "anaconda-cloud": {},
  "kernelspec": {
   "display_name": "Python [default]",
   "language": "python",
   "name": "python3"
  },
  "language_info": {
   "codemirror_mode": {
    "name": "ipython",
    "version": 3
   },
   "file_extension": ".py",
   "mimetype": "text/x-python",
   "name": "python",
   "nbconvert_exporter": "python",
   "pygments_lexer": "ipython3",
   "version": "3.5.2"
  },
  "varInspector": {
   "cols": {
    "lenName": 16,
    "lenType": 16,
    "lenVar": 40
   },
   "kernels_config": {
    "python": {
     "delete_cmd_postfix": "",
     "delete_cmd_prefix": "del ",
     "library": "var_list.py",
     "varRefreshCmd": "print(var_dic_list())"
    },
    "r": {
     "delete_cmd_postfix": ") ",
     "delete_cmd_prefix": "rm(",
     "library": "var_list.r",
     "varRefreshCmd": "cat(var_dic_list()) "
    }
   },
   "types_to_exclude": [
    "module",
    "function",
    "builtin_function_or_method",
    "instance",
    "_Feature"
   ],
   "window_display": false
  }
 },
 "nbformat": 4,
 "nbformat_minor": 2
}
