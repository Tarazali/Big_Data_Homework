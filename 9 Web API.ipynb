{
 "cells": [
  {
   "cell_type": "markdown",
   "metadata": {},
   "source": [
    "# Web APIs\n",
    "\n",
    "## 1. Consuming Web APIs\n",
    "\n",
    "(Partially adapted from https://www.dataquest.io/blog/python-api-tutorial/)\n",
    "\n",
    "* https://randomuser.me/ is a random user generator \n",
    "*\tIt has an API. Go to https://api.randomuser.me/ with your browser\n",
    "*\tYou get a JSON (JavaScript Object Notation) back. A JSON is similar to a Python dictionary.  \n",
    "*  Refresh the browser\n",
    "*\tYou can add query parameters. They are added to the URL with a ? . You then add then the parameter name = the value. More the one parameter are connected with a & e.g.\n",
    "\thttp://api.open-notify.org/iss-pass.json?lat=37.78&lon=-122.41\n",
    "\n",
    "*\t Go the documentation https://randomuser.me/documentation and check how you can get multiple users and to specify constraints on the output\n",
    "*\tGo to your browser and add parameters to https://api.randomuser.me/ so that you get 5 results of only males from the US\n",
    "\n",
    "Enter the URL of your solution:"
   ]
  },
  {
   "cell_type": "code",
   "execution_count": 27,
   "metadata": {
    "collapsed": false
   },
   "outputs": [],
   "source": [
    "# TODO: get 5 results of only males from the US\n",
    "# Enter the URL of your solution:\n",
    "url = \"https://api.randomuser.me/?results=5&gender=male&nat=us\""
   ]
  },
  {
   "cell_type": "markdown",
   "metadata": {},
   "source": [
    "* You can also get the data from the command line. Open the command line and write\n",
    "\n",
    "```bash\n",
    "curl -s https://api.randomuser.me/\n",
    "```\n",
    "\n",
    "You can also run Bash commands directly in your Jupyter Notebook with !:"
   ]
  },
  {
   "cell_type": "code",
   "execution_count": 28,
   "metadata": {
    "collapsed": false
   },
   "outputs": [
    {
     "name": "stdout",
     "output_type": "stream",
     "text": [
      "{\"results\":[{\"gender\":\"male\",\"name\":{\"title\":\"mr\",\"first\":\"baptista\",\"last\":\"rezende\"},\"location\":{\"street\":\"4499 rua rui barbosa \",\"city\":\"vespasiano\",\"state\":\"tocantins\",\"postcode\":34601,\"coordinates\":{\"latitude\":\"-74.9304\",\"longitude\":\"-147.8046\"},\"timezone\":{\"offset\":\"-4:00\",\"description\":\"Atlantic Time (Canada), Caracas, La Paz\"}},\"email\":\"baptista.rezende@example.com\",\"login\":{\"uuid\":\"2d479ff4-c961-42f3-9652-6bd933da29d7\",\"username\":\"greendog461\",\"password\":\"gman\",\"salt\":\"WJzfj8nY\",\"md5\":\"d1401d947841056262e67c9c1645e5a9\",\"sha1\":\"a2d78a7af7ee8c1ed3aa78d3d2093b5fdcc5ca9c\",\"sha256\":\"d54b430e33aa20e8295a7897400c959bc29b3a094826923b2ecb4fb2262cf4d1\"},\"dob\":{\"date\":\"1983-04-30T20:11:06Z\",\"age\":35},\"registered\":{\"date\":\"2016-01-02T06:42:48Z\",\"age\":3},\"phone\":\"(22) 8616-8400\",\"cell\":\"(74) 4763-6479\",\"id\":{\"name\":\"\",\"value\":null},\"picture\":{\"large\":\"https://randomuser.me/api/portraits/men/59.jpg\",\"medium\":\"https://randomuser.me/api/portraits/med/men/59.jpg\",\"thumbnail\":\"https://randomuser.me/api/portraits/thumb/men/59.jpg\"},\"nat\":\"BR\"}],\"info\":{\"seed\":\"98f228ce48c47a94\",\"results\":1,\"page\":1,\"version\":\"1.2\"}}\n"
     ]
    }
   ],
   "source": [
    "!curl -s https://api.randomuser.me/"
   ]
  },
  {
   "cell_type": "markdown",
   "metadata": {},
   "source": [
    "* Import the two libraries \n",
    "    * `requests` and \n",
    "    * `json`. \n",
    "\n",
    "You can find the documentation for the requests package here:\n",
    " http://www.python-requests.org/en/latest/ \n",
    " "
   ]
  },
  {
   "cell_type": "code",
   "execution_count": 29,
   "metadata": {
    "collapsed": true
   },
   "outputs": [],
   "source": [
    "# TODO\n",
    "import json\n",
    "import requests"
   ]
  },
  {
   "cell_type": "markdown",
   "metadata": {},
   "source": [
    "* With the requests package you can call a Web API with the URL and the method get"
   ]
  },
  {
   "cell_type": "code",
   "execution_count": 30,
   "metadata": {
    "collapsed": false
   },
   "outputs": [],
   "source": [
    "response = requests.get(url)"
   ]
  },
  {
   "cell_type": "markdown",
   "metadata": {},
   "source": [
    "* Print the status code of the request"
   ]
  },
  {
   "cell_type": "code",
   "execution_count": 31,
   "metadata": {
    "collapsed": false
   },
   "outputs": [
    {
     "name": "stdout",
     "output_type": "stream",
     "text": [
      "200\n"
     ]
    }
   ],
   "source": [
    "print(response.status_code)"
   ]
  },
  {
   "cell_type": "markdown",
   "metadata": {},
   "source": [
    "**The meaning of the status codes are:**\n",
    "* 200: everything went okay, and the result has been returned (if any)\n",
    "* 301: the server is redirecting you to a different endpoint. This can happen when a company switches domain names, or an endpoint name is changed.\n",
    "* 401: the server thinks you're not authenticated. This happens when you don't send the right credentials to access an API.\n",
    "* 400: the server thinks you made a bad request. This can happen when you don't send along the right data, among other things.\n",
    "* 403: the resource you're trying to access is forbidden – you don't have the right permissions to see it.\n",
    "* 404: the resource you tried to access wasn't found on the server.\n"
   ]
  },
  {
   "cell_type": "markdown",
   "metadata": {},
   "source": [
    "You can specify the query parameters for a URL with a Python dictionary like this:\n",
    "```python\n",
    "parameters = {\"lat\": 37.78, \"lon\": -122.41}\n",
    "```\n",
    "\n",
    "And pass the parameter to the request like this\n",
    "```python\n",
    "response = requests.get(\"http://api.open-notify.org/iss-pass.json\", params=parameters)\n",
    "```\n",
    "This is the same as \n",
    "```python\n",
    "response = requests.get(\"http://api.open-notify.org/iss-pass.json?lat=37.78&lon=-122.41\")\n",
    "```\n",
    "\n",
    "Alternatively you could build also the URL with the parameters by yourself with string concatenation. \n",
    "\n",
    "* Get with the request method 10 results of only males from the US.\n",
    "\n"
   ]
  },
  {
   "cell_type": "code",
   "execution_count": 32,
   "metadata": {
    "collapsed": true
   },
   "outputs": [],
   "source": [
    "# TODO: Get with the request method 10 results of only males from the US.\n",
    "response10 = requests.get(\"https://api.randomuser.me/?results=10&gender=male&nat=us\")"
   ]
  },
  {
   "cell_type": "markdown",
   "metadata": {},
   "source": [
    "* You can show the result of the request with the method text"
   ]
  },
  {
   "cell_type": "code",
   "execution_count": 33,
   "metadata": {
    "collapsed": false,
    "scrolled": true
   },
   "outputs": [
    {
     "data": {
      "text/plain": [
       "'{\"results\":[{\"gender\":\"male\",\"name\":{\"title\":\"mr\",\"first\":\"andy\",\"last\":\"warren\"},\"location\":{\"street\":\"540 w sherman dr\",\"city\":\"santa ana\",\"state\":\"montana\",\"postcode\":24248,\"coordinates\":{\"latitude\":\"-27.7142\",\"longitude\":\"-162.1265\"},\"timezone\":{\"offset\":\"+5:30\",\"description\":\"Bombay, Calcutta, Madras, New Delhi\"}},\"email\":\"andy.warren@example.com\",\"login\":{\"uuid\":\"eb0ec820-5c9c-41ef-9f35-d247e2cbde05\",\"username\":\"yellowelephant409\",\"password\":\"emperor\",\"salt\":\"cwUJVg40\",\"md5\":\"26f6428b3c95f398dc146be267624ec6\",\"sha1\":\"36a9b3910fbee11b1e207819712f5ba97846f1a3\",\"sha256\":\"4c26826b6f21b524fdc8771c1ec9a3ca172804174732a8c2ebbf7657ab0034c0\"},\"dob\":{\"date\":\"1990-05-30T19:53:17Z\",\"age\":28},\"registered\":{\"date\":\"2004-07-15T04:22:56Z\",\"age\":14},\"phone\":\"(491)-878-8038\",\"cell\":\"(041)-166-9006\",\"id\":{\"name\":\"SSN\",\"value\":\"938-50-7938\"},\"picture\":{\"large\":\"https://randomuser.me/api/portraits/men/29.jpg\",\"medium\":\"https://randomuser.me/api/portraits/med/men/29.jpg\",\"thumbnail\":\"https://randomuser.me/api/portraits/thumb/men/29.jpg\"},\"nat\":\"US\"},{\"gender\":\"male\",\"name\":{\"title\":\"mr\",\"first\":\"joshua\",\"last\":\"hill\"},\"location\":{\"street\":\"1209 depaul dr\",\"city\":\"scurry\",\"state\":\"tennessee\",\"postcode\":78241,\"coordinates\":{\"latitude\":\"68.8072\",\"longitude\":\"-171.9156\"},\"timezone\":{\"offset\":\"+3:00\",\"description\":\"Baghdad, Riyadh, Moscow, St. Petersburg\"}},\"email\":\"joshua.hill@example.com\",\"login\":{\"uuid\":\"6229ae10-af6d-491b-b5d1-86812ddc18a3\",\"username\":\"orangeduck855\",\"password\":\"tosser\",\"salt\":\"eIPpodYJ\",\"md5\":\"cdd2d7cba3b98c170bc2cbcf45b44b62\",\"sha1\":\"0d6c9d6fa2eac57cdb04df33b386ce131feb33ce\",\"sha256\":\"b1da0eb96cf27eabfde79899bb2d9b31ff4b2d0c18eae104a7b70c390b94f4af\"},\"dob\":{\"date\":\"1982-06-15T23:11:59Z\",\"age\":36},\"registered\":{\"date\":\"2017-03-21T21:16:36Z\",\"age\":2},\"phone\":\"(596)-750-6014\",\"cell\":\"(865)-762-8476\",\"id\":{\"name\":\"SSN\",\"value\":\"178-04-4014\"},\"picture\":{\"large\":\"https://randomuser.me/api/portraits/men/61.jpg\",\"medium\":\"https://randomuser.me/api/portraits/med/men/61.jpg\",\"thumbnail\":\"https://randomuser.me/api/portraits/thumb/men/61.jpg\"},\"nat\":\"US\"},{\"gender\":\"male\",\"name\":{\"title\":\"mr\",\"first\":\"peter\",\"last\":\"lynch\"},\"location\":{\"street\":\"9334 groveland terrace\",\"city\":\"minneapolis\",\"state\":\"connecticut\",\"postcode\":22166,\"coordinates\":{\"latitude\":\"-46.5697\",\"longitude\":\"-157.2390\"},\"timezone\":{\"offset\":\"-1:00\",\"description\":\"Azores, Cape Verde Islands\"}},\"email\":\"peter.lynch@example.com\",\"login\":{\"uuid\":\"d9e83dbe-99fa-4c80-a037-ea8ca4d7bb2c\",\"username\":\"beautifulwolf381\",\"password\":\"things\",\"salt\":\"ddZeDZam\",\"md5\":\"35bb1b6bc640fda0c7cd631f89d57ac7\",\"sha1\":\"59c40ef8774a676e3a162f639d332ace8fca502f\",\"sha256\":\"e7265a00fd0ecab0a23883741034f32b95fafe82bddaf26403c1fada2eb34166\"},\"dob\":{\"date\":\"1987-01-15T08:36:42Z\",\"age\":32},\"registered\":{\"date\":\"2016-02-24T21:07:21Z\",\"age\":3},\"phone\":\"(994)-908-3297\",\"cell\":\"(971)-548-4048\",\"id\":{\"name\":\"SSN\",\"value\":\"752-70-1541\"},\"picture\":{\"large\":\"https://randomuser.me/api/portraits/men/44.jpg\",\"medium\":\"https://randomuser.me/api/portraits/med/men/44.jpg\",\"thumbnail\":\"https://randomuser.me/api/portraits/thumb/men/44.jpg\"},\"nat\":\"US\"},{\"gender\":\"male\",\"name\":{\"title\":\"mr\",\"first\":\"anthony\",\"last\":\"austin\"},\"location\":{\"street\":\"7696 saddle dr\",\"city\":\"the colony\",\"state\":\"maine\",\"postcode\":36271,\"coordinates\":{\"latitude\":\"70.1183\",\"longitude\":\"-164.2104\"},\"timezone\":{\"offset\":\"+10:00\",\"description\":\"Eastern Australia, Guam, Vladivostok\"}},\"email\":\"anthony.austin@example.com\",\"login\":{\"uuid\":\"670270c8-6e58-4220-8d17-d03e0f5cd7ff\",\"username\":\"organicfrog188\",\"password\":\"abby\",\"salt\":\"qqNosP0v\",\"md5\":\"57f8ebce4a2305d856ed4b567cc575ae\",\"sha1\":\"271477440aef6e1844e3cbc70720a134ecdb275a\",\"sha256\":\"174515797863209b248f4054023bed590379a63f4d25ea83272b0f4459e5bca5\"},\"dob\":{\"date\":\"1965-05-16T15:38:21Z\",\"age\":53},\"registered\":{\"date\":\"2016-04-04T08:03:46Z\",\"age\":3},\"phone\":\"(447)-967-4317\",\"cell\":\"(622)-331-5398\",\"id\":{\"name\":\"SSN\",\"value\":\"068-22-0130\"},\"picture\":{\"large\":\"https://randomuser.me/api/portraits/men/22.jpg\",\"medium\":\"https://randomuser.me/api/portraits/med/men/22.jpg\",\"thumbnail\":\"https://randomuser.me/api/portraits/thumb/men/22.jpg\"},\"nat\":\"US\"},{\"gender\":\"male\",\"name\":{\"title\":\"mr\",\"first\":\"ross\",\"last\":\"lambert\"},\"location\":{\"street\":\"9924 fincher rd\",\"city\":\"st. petersburg\",\"state\":\"north carolina\",\"postcode\":36994,\"coordinates\":{\"latitude\":\"-6.2130\",\"longitude\":\"161.5198\"},\"timezone\":{\"offset\":\"+5:30\",\"description\":\"Bombay, Calcutta, Madras, New Delhi\"}},\"email\":\"ross.lambert@example.com\",\"login\":{\"uuid\":\"0d63ecfb-287e-4707-9b83-c12972a00fcb\",\"username\":\"sadswan374\",\"password\":\"1269\",\"salt\":\"V6vXeDEV\",\"md5\":\"25f5549bc534d895eba22141fe6eab18\",\"sha1\":\"bb5686d015a9e7aca3f18af460747cad7712ef6b\",\"sha256\":\"c4288291d393bc0074075a89f16a06f5f9a396cedbae56ccc8342246dae0f25c\"},\"dob\":{\"date\":\"1983-12-28T22:27:58Z\",\"age\":35},\"registered\":{\"date\":\"2015-07-12T17:46:04Z\",\"age\":3},\"phone\":\"(275)-352-0970\",\"cell\":\"(788)-316-4077\",\"id\":{\"name\":\"SSN\",\"value\":\"303-83-7996\"},\"picture\":{\"large\":\"https://randomuser.me/api/portraits/men/4.jpg\",\"medium\":\"https://randomuser.me/api/portraits/med/men/4.jpg\",\"thumbnail\":\"https://randomuser.me/api/portraits/thumb/men/4.jpg\"},\"nat\":\"US\"},{\"gender\":\"male\",\"name\":{\"title\":\"mr\",\"first\":\"andre\",\"last\":\"rodriquez\"},\"location\":{\"street\":\"5279 eason rd\",\"city\":\"shiloh\",\"state\":\"minnesota\",\"postcode\":24484,\"coordinates\":{\"latitude\":\"71.2502\",\"longitude\":\"-45.9025\"},\"timezone\":{\"offset\":\"-11:00\",\"description\":\"Midway Island, Samoa\"}},\"email\":\"andre.rodriquez@example.com\",\"login\":{\"uuid\":\"444a34af-5195-416d-b77c-fab752ba3455\",\"username\":\"lazysnake173\",\"password\":\"facial\",\"salt\":\"Z0y3KWXi\",\"md5\":\"8086332f33f3d2b178cb9e18200e72ba\",\"sha1\":\"dc6ce695df14c4f64a7859909670b8f481b189c8\",\"sha256\":\"dd76dc98870baa7d1e38573fe82cb168c128cb0cec4afdd071dbe3ae9968a41b\"},\"dob\":{\"date\":\"1950-09-08T20:39:56Z\",\"age\":68},\"registered\":{\"date\":\"2005-11-21T19:43:15Z\",\"age\":13},\"phone\":\"(830)-863-8287\",\"cell\":\"(502)-082-1443\",\"id\":{\"name\":\"SSN\",\"value\":\"417-64-7272\"},\"picture\":{\"large\":\"https://randomuser.me/api/portraits/men/62.jpg\",\"medium\":\"https://randomuser.me/api/portraits/med/men/62.jpg\",\"thumbnail\":\"https://randomuser.me/api/portraits/thumb/men/62.jpg\"},\"nat\":\"US\"},{\"gender\":\"male\",\"name\":{\"title\":\"mr\",\"first\":\"gerald\",\"last\":\"tucker\"},\"location\":{\"street\":\"7353 lovers ln\",\"city\":\"wichita\",\"state\":\"texas\",\"postcode\":67536,\"coordinates\":{\"latitude\":\"-57.3294\",\"longitude\":\"13.8374\"},\"timezone\":{\"offset\":\"-3:00\",\"description\":\"Brazil, Buenos Aires, Georgetown\"}},\"email\":\"gerald.tucker@example.com\",\"login\":{\"uuid\":\"5fd1ae33-0251-4dd8-bf4d-a4ce5c177c0b\",\"username\":\"sadelephant892\",\"password\":\"smegma\",\"salt\":\"ofjJu6oz\",\"md5\":\"2f176377859ed8cc5ac56207652ffe56\",\"sha1\":\"753bcab1e52fbce5e9eb05fe80967e3cd181a617\",\"sha256\":\"6f76a5f7f57b926b0982c4e7ef514712beb9e2d74bd8a3b79fd7d0d181540807\"},\"dob\":{\"date\":\"1990-03-25T18:32:45Z\",\"age\":29},\"registered\":{\"date\":\"2017-04-01T05:50:09Z\",\"age\":2},\"phone\":\"(047)-878-8583\",\"cell\":\"(247)-346-3453\",\"id\":{\"name\":\"SSN\",\"value\":\"587-80-8697\"},\"picture\":{\"large\":\"https://randomuser.me/api/portraits/men/98.jpg\",\"medium\":\"https://randomuser.me/api/portraits/med/men/98.jpg\",\"thumbnail\":\"https://randomuser.me/api/portraits/thumb/men/98.jpg\"},\"nat\":\"US\"},{\"gender\":\"male\",\"name\":{\"title\":\"mr\",\"first\":\"richard\",\"last\":\"evans\"},\"location\":{\"street\":\"6433 timber wolf trail\",\"city\":\"salt lake city\",\"state\":\"delaware\",\"postcode\":45622,\"coordinates\":{\"latitude\":\"65.4610\",\"longitude\":\"-70.0013\"},\"timezone\":{\"offset\":\"-4:00\",\"description\":\"Atlantic Time (Canada), Caracas, La Paz\"}},\"email\":\"richard.evans@example.com\",\"login\":{\"uuid\":\"bd03c858-40fc-40bc-a629-60bb505c5cee\",\"username\":\"orangepanda534\",\"password\":\"bonner\",\"salt\":\"aYztce9F\",\"md5\":\"8b7f0210552817c6af147225ea2ce50b\",\"sha1\":\"c04ad3a65deae064b34d9e5fe0d954fe1ca09443\",\"sha256\":\"9ecab25753b5070f71680b8c2a65d16be85e67d6f1ef62d37d389e272087740c\"},\"dob\":{\"date\":\"1958-04-05T22:52:07Z\",\"age\":61},\"registered\":{\"date\":\"2010-10-24T05:40:40Z\",\"age\":8},\"phone\":\"(384)-946-7046\",\"cell\":\"(079)-991-0597\",\"id\":{\"name\":\"SSN\",\"value\":\"183-41-9874\"},\"picture\":{\"large\":\"https://randomuser.me/api/portraits/men/33.jpg\",\"medium\":\"https://randomuser.me/api/portraits/med/men/33.jpg\",\"thumbnail\":\"https://randomuser.me/api/portraits/thumb/men/33.jpg\"},\"nat\":\"US\"},{\"gender\":\"male\",\"name\":{\"title\":\"mr\",\"first\":\"andy\",\"last\":\"carter\"},\"location\":{\"street\":\"4583 photinia ave\",\"city\":\"topeka\",\"state\":\"connecticut\",\"postcode\":85238,\"coordinates\":{\"latitude\":\"30.1414\",\"longitude\":\"-157.2530\"},\"timezone\":{\"offset\":\"+9:30\",\"description\":\"Adelaide, Darwin\"}},\"email\":\"andy.carter@example.com\",\"login\":{\"uuid\":\"0c083d72-df6e-49cc-a58c-1139d60d96d3\",\"username\":\"bigrabbit870\",\"password\":\"hello1\",\"salt\":\"C6ZIbyJt\",\"md5\":\"8b0b24bae3f71e19dcd3b6fbec561601\",\"sha1\":\"a2b2d7782da2b8afc758abfbfbb066cbce7d6d4f\",\"sha256\":\"c3590f12fce992a48b60e5b1112534985877c3daa52e5e232067d2b1dbb569dd\"},\"dob\":{\"date\":\"1947-08-27T09:21:41Z\",\"age\":71},\"registered\":{\"date\":\"2006-10-17T00:04:21Z\",\"age\":12},\"phone\":\"(263)-027-0237\",\"cell\":\"(079)-242-8601\",\"id\":{\"name\":\"SSN\",\"value\":\"630-07-9048\"},\"picture\":{\"large\":\"https://randomuser.me/api/portraits/men/77.jpg\",\"medium\":\"https://randomuser.me/api/portraits/med/men/77.jpg\",\"thumbnail\":\"https://randomuser.me/api/portraits/thumb/men/77.jpg\"},\"nat\":\"US\"},{\"gender\":\"male\",\"name\":{\"title\":\"mr\",\"first\":\"brayden\",\"last\":\"arnold\"},\"location\":{\"street\":\"5518 hunters creek dr\",\"city\":\"shelby\",\"state\":\"delaware\",\"postcode\":25409,\"coordinates\":{\"latitude\":\"57.5094\",\"longitude\":\"77.3798\"},\"timezone\":{\"offset\":\"+9:00\",\"description\":\"Tokyo, Seoul, Osaka, Sapporo, Yakutsk\"}},\"email\":\"brayden.arnold@example.com\",\"login\":{\"uuid\":\"8030d427-7571-4b96-b3c4-36e5b7fda312\",\"username\":\"heavymeercat915\",\"password\":\"miller1\",\"salt\":\"4xleNXwD\",\"md5\":\"916da97e5ab4c4075d37fb9aec534506\",\"sha1\":\"44e0baf147f349933463e172a7c68a719647dd8f\",\"sha256\":\"a11e70fbb6454d8c38ed13c57142ce9a66b50c71031386ddf59fe09bc625944b\"},\"dob\":{\"date\":\"1947-08-16T02:56:01Z\",\"age\":71},\"registered\":{\"date\":\"2012-07-02T11:18:30Z\",\"age\":6},\"phone\":\"(333)-183-7595\",\"cell\":\"(308)-731-8733\",\"id\":{\"name\":\"SSN\",\"value\":\"521-63-3744\"},\"picture\":{\"large\":\"https://randomuser.me/api/portraits/men/69.jpg\",\"medium\":\"https://randomuser.me/api/portraits/med/men/69.jpg\",\"thumbnail\":\"https://randomuser.me/api/portraits/thumb/men/69.jpg\"},\"nat\":\"US\"}],\"info\":{\"seed\":\"b74d1c2a1140c9a1\",\"results\":10,\"page\":1,\"version\":\"1.2\"}}'"
      ]
     },
     "execution_count": 33,
     "metadata": {},
     "output_type": "execute_result"
    }
   ],
   "source": [
    "response10.text"
   ]
  },
  {
   "cell_type": "markdown",
   "metadata": {},
   "source": [
    "* You can convert the data from JSON to a Python dictionary with the package JSON"
   ]
  },
  {
   "cell_type": "code",
   "execution_count": 34,
   "metadata": {
    "collapsed": true
   },
   "outputs": [],
   "source": [
    "data = json.loads(response10.text)"
   ]
  },
  {
   "cell_type": "markdown",
   "metadata": {},
   "source": [
    "* Check the type of variable data"
   ]
  },
  {
   "cell_type": "code",
   "execution_count": 35,
   "metadata": {
    "collapsed": false
   },
   "outputs": [
    {
     "data": {
      "text/plain": [
       "dict"
      ]
     },
     "execution_count": 35,
     "metadata": {},
     "output_type": "execute_result"
    }
   ],
   "source": [
    "# TODO\n",
    "type(data)"
   ]
  },
  {
   "cell_type": "code",
   "execution_count": 36,
   "metadata": {
    "collapsed": false
   },
   "outputs": [
    {
     "name": "stdout",
     "output_type": "stream",
     "text": [
      "{'results': [{'registered': {'date': '2004-07-15T04:22:56Z', 'age': 14}, 'email': 'andy.warren@example.com', 'login': {'salt': 'cwUJVg40', 'md5': '26f6428b3c95f398dc146be267624ec6', 'password': 'emperor', 'username': 'yellowelephant409', 'uuid': 'eb0ec820-5c9c-41ef-9f35-d247e2cbde05', 'sha256': '4c26826b6f21b524fdc8771c1ec9a3ca172804174732a8c2ebbf7657ab0034c0', 'sha1': '36a9b3910fbee11b1e207819712f5ba97846f1a3'}, 'nat': 'US', 'picture': {'medium': 'https://randomuser.me/api/portraits/med/men/29.jpg', 'thumbnail': 'https://randomuser.me/api/portraits/thumb/men/29.jpg', 'large': 'https://randomuser.me/api/portraits/men/29.jpg'}, 'location': {'city': 'santa ana', 'postcode': 24248, 'coordinates': {'latitude': '-27.7142', 'longitude': '-162.1265'}, 'street': '540 w sherman dr', 'state': 'montana', 'timezone': {'description': 'Bombay, Calcutta, Madras, New Delhi', 'offset': '+5:30'}}, 'gender': 'male', 'name': {'last': 'warren', 'first': 'andy', 'title': 'mr'}, 'dob': {'date': '1990-05-30T19:53:17Z', 'age': 28}, 'id': {'value': '938-50-7938', 'name': 'SSN'}, 'cell': '(041)-166-9006', 'phone': '(491)-878-8038'}, {'registered': {'date': '2017-03-21T21:16:36Z', 'age': 2}, 'email': 'joshua.hill@example.com', 'login': {'salt': 'eIPpodYJ', 'md5': 'cdd2d7cba3b98c170bc2cbcf45b44b62', 'password': 'tosser', 'username': 'orangeduck855', 'uuid': '6229ae10-af6d-491b-b5d1-86812ddc18a3', 'sha256': 'b1da0eb96cf27eabfde79899bb2d9b31ff4b2d0c18eae104a7b70c390b94f4af', 'sha1': '0d6c9d6fa2eac57cdb04df33b386ce131feb33ce'}, 'nat': 'US', 'picture': {'medium': 'https://randomuser.me/api/portraits/med/men/61.jpg', 'thumbnail': 'https://randomuser.me/api/portraits/thumb/men/61.jpg', 'large': 'https://randomuser.me/api/portraits/men/61.jpg'}, 'location': {'city': 'scurry', 'postcode': 78241, 'coordinates': {'latitude': '68.8072', 'longitude': '-171.9156'}, 'street': '1209 depaul dr', 'state': 'tennessee', 'timezone': {'description': 'Baghdad, Riyadh, Moscow, St. Petersburg', 'offset': '+3:00'}}, 'gender': 'male', 'name': {'last': 'hill', 'first': 'joshua', 'title': 'mr'}, 'dob': {'date': '1982-06-15T23:11:59Z', 'age': 36}, 'id': {'value': '178-04-4014', 'name': 'SSN'}, 'cell': '(865)-762-8476', 'phone': '(596)-750-6014'}, {'registered': {'date': '2016-02-24T21:07:21Z', 'age': 3}, 'email': 'peter.lynch@example.com', 'login': {'salt': 'ddZeDZam', 'md5': '35bb1b6bc640fda0c7cd631f89d57ac7', 'password': 'things', 'username': 'beautifulwolf381', 'uuid': 'd9e83dbe-99fa-4c80-a037-ea8ca4d7bb2c', 'sha256': 'e7265a00fd0ecab0a23883741034f32b95fafe82bddaf26403c1fada2eb34166', 'sha1': '59c40ef8774a676e3a162f639d332ace8fca502f'}, 'nat': 'US', 'picture': {'medium': 'https://randomuser.me/api/portraits/med/men/44.jpg', 'thumbnail': 'https://randomuser.me/api/portraits/thumb/men/44.jpg', 'large': 'https://randomuser.me/api/portraits/men/44.jpg'}, 'location': {'city': 'minneapolis', 'postcode': 22166, 'coordinates': {'latitude': '-46.5697', 'longitude': '-157.2390'}, 'street': '9334 groveland terrace', 'state': 'connecticut', 'timezone': {'description': 'Azores, Cape Verde Islands', 'offset': '-1:00'}}, 'gender': 'male', 'name': {'last': 'lynch', 'first': 'peter', 'title': 'mr'}, 'dob': {'date': '1987-01-15T08:36:42Z', 'age': 32}, 'id': {'value': '752-70-1541', 'name': 'SSN'}, 'cell': '(971)-548-4048', 'phone': '(994)-908-3297'}, {'registered': {'date': '2016-04-04T08:03:46Z', 'age': 3}, 'email': 'anthony.austin@example.com', 'login': {'salt': 'qqNosP0v', 'md5': '57f8ebce4a2305d856ed4b567cc575ae', 'password': 'abby', 'username': 'organicfrog188', 'uuid': '670270c8-6e58-4220-8d17-d03e0f5cd7ff', 'sha256': '174515797863209b248f4054023bed590379a63f4d25ea83272b0f4459e5bca5', 'sha1': '271477440aef6e1844e3cbc70720a134ecdb275a'}, 'nat': 'US', 'picture': {'medium': 'https://randomuser.me/api/portraits/med/men/22.jpg', 'thumbnail': 'https://randomuser.me/api/portraits/thumb/men/22.jpg', 'large': 'https://randomuser.me/api/portraits/men/22.jpg'}, 'location': {'city': 'the colony', 'postcode': 36271, 'coordinates': {'latitude': '70.1183', 'longitude': '-164.2104'}, 'street': '7696 saddle dr', 'state': 'maine', 'timezone': {'description': 'Eastern Australia, Guam, Vladivostok', 'offset': '+10:00'}}, 'gender': 'male', 'name': {'last': 'austin', 'first': 'anthony', 'title': 'mr'}, 'dob': {'date': '1965-05-16T15:38:21Z', 'age': 53}, 'id': {'value': '068-22-0130', 'name': 'SSN'}, 'cell': '(622)-331-5398', 'phone': '(447)-967-4317'}, {'registered': {'date': '2015-07-12T17:46:04Z', 'age': 3}, 'email': 'ross.lambert@example.com', 'login': {'salt': 'V6vXeDEV', 'md5': '25f5549bc534d895eba22141fe6eab18', 'password': '1269', 'username': 'sadswan374', 'uuid': '0d63ecfb-287e-4707-9b83-c12972a00fcb', 'sha256': 'c4288291d393bc0074075a89f16a06f5f9a396cedbae56ccc8342246dae0f25c', 'sha1': 'bb5686d015a9e7aca3f18af460747cad7712ef6b'}, 'nat': 'US', 'picture': {'medium': 'https://randomuser.me/api/portraits/med/men/4.jpg', 'thumbnail': 'https://randomuser.me/api/portraits/thumb/men/4.jpg', 'large': 'https://randomuser.me/api/portraits/men/4.jpg'}, 'location': {'city': 'st. petersburg', 'postcode': 36994, 'coordinates': {'latitude': '-6.2130', 'longitude': '161.5198'}, 'street': '9924 fincher rd', 'state': 'north carolina', 'timezone': {'description': 'Bombay, Calcutta, Madras, New Delhi', 'offset': '+5:30'}}, 'gender': 'male', 'name': {'last': 'lambert', 'first': 'ross', 'title': 'mr'}, 'dob': {'date': '1983-12-28T22:27:58Z', 'age': 35}, 'id': {'value': '303-83-7996', 'name': 'SSN'}, 'cell': '(788)-316-4077', 'phone': '(275)-352-0970'}, {'registered': {'date': '2005-11-21T19:43:15Z', 'age': 13}, 'email': 'andre.rodriquez@example.com', 'login': {'salt': 'Z0y3KWXi', 'md5': '8086332f33f3d2b178cb9e18200e72ba', 'password': 'facial', 'username': 'lazysnake173', 'uuid': '444a34af-5195-416d-b77c-fab752ba3455', 'sha256': 'dd76dc98870baa7d1e38573fe82cb168c128cb0cec4afdd071dbe3ae9968a41b', 'sha1': 'dc6ce695df14c4f64a7859909670b8f481b189c8'}, 'nat': 'US', 'picture': {'medium': 'https://randomuser.me/api/portraits/med/men/62.jpg', 'thumbnail': 'https://randomuser.me/api/portraits/thumb/men/62.jpg', 'large': 'https://randomuser.me/api/portraits/men/62.jpg'}, 'location': {'city': 'shiloh', 'postcode': 24484, 'coordinates': {'latitude': '71.2502', 'longitude': '-45.9025'}, 'street': '5279 eason rd', 'state': 'minnesota', 'timezone': {'description': 'Midway Island, Samoa', 'offset': '-11:00'}}, 'gender': 'male', 'name': {'last': 'rodriquez', 'first': 'andre', 'title': 'mr'}, 'dob': {'date': '1950-09-08T20:39:56Z', 'age': 68}, 'id': {'value': '417-64-7272', 'name': 'SSN'}, 'cell': '(502)-082-1443', 'phone': '(830)-863-8287'}, {'registered': {'date': '2017-04-01T05:50:09Z', 'age': 2}, 'email': 'gerald.tucker@example.com', 'login': {'salt': 'ofjJu6oz', 'md5': '2f176377859ed8cc5ac56207652ffe56', 'password': 'smegma', 'username': 'sadelephant892', 'uuid': '5fd1ae33-0251-4dd8-bf4d-a4ce5c177c0b', 'sha256': '6f76a5f7f57b926b0982c4e7ef514712beb9e2d74bd8a3b79fd7d0d181540807', 'sha1': '753bcab1e52fbce5e9eb05fe80967e3cd181a617'}, 'nat': 'US', 'picture': {'medium': 'https://randomuser.me/api/portraits/med/men/98.jpg', 'thumbnail': 'https://randomuser.me/api/portraits/thumb/men/98.jpg', 'large': 'https://randomuser.me/api/portraits/men/98.jpg'}, 'location': {'city': 'wichita', 'postcode': 67536, 'coordinates': {'latitude': '-57.3294', 'longitude': '13.8374'}, 'street': '7353 lovers ln', 'state': 'texas', 'timezone': {'description': 'Brazil, Buenos Aires, Georgetown', 'offset': '-3:00'}}, 'gender': 'male', 'name': {'last': 'tucker', 'first': 'gerald', 'title': 'mr'}, 'dob': {'date': '1990-03-25T18:32:45Z', 'age': 29}, 'id': {'value': '587-80-8697', 'name': 'SSN'}, 'cell': '(247)-346-3453', 'phone': '(047)-878-8583'}, {'registered': {'date': '2010-10-24T05:40:40Z', 'age': 8}, 'email': 'richard.evans@example.com', 'login': {'salt': 'aYztce9F', 'md5': '8b7f0210552817c6af147225ea2ce50b', 'password': 'bonner', 'username': 'orangepanda534', 'uuid': 'bd03c858-40fc-40bc-a629-60bb505c5cee', 'sha256': '9ecab25753b5070f71680b8c2a65d16be85e67d6f1ef62d37d389e272087740c', 'sha1': 'c04ad3a65deae064b34d9e5fe0d954fe1ca09443'}, 'nat': 'US', 'picture': {'medium': 'https://randomuser.me/api/portraits/med/men/33.jpg', 'thumbnail': 'https://randomuser.me/api/portraits/thumb/men/33.jpg', 'large': 'https://randomuser.me/api/portraits/men/33.jpg'}, 'location': {'city': 'salt lake city', 'postcode': 45622, 'coordinates': {'latitude': '65.4610', 'longitude': '-70.0013'}, 'street': '6433 timber wolf trail', 'state': 'delaware', 'timezone': {'description': 'Atlantic Time (Canada), Caracas, La Paz', 'offset': '-4:00'}}, 'gender': 'male', 'name': {'last': 'evans', 'first': 'richard', 'title': 'mr'}, 'dob': {'date': '1958-04-05T22:52:07Z', 'age': 61}, 'id': {'value': '183-41-9874', 'name': 'SSN'}, 'cell': '(079)-991-0597', 'phone': '(384)-946-7046'}, {'registered': {'date': '2006-10-17T00:04:21Z', 'age': 12}, 'email': 'andy.carter@example.com', 'login': {'salt': 'C6ZIbyJt', 'md5': '8b0b24bae3f71e19dcd3b6fbec561601', 'password': 'hello1', 'username': 'bigrabbit870', 'uuid': '0c083d72-df6e-49cc-a58c-1139d60d96d3', 'sha256': 'c3590f12fce992a48b60e5b1112534985877c3daa52e5e232067d2b1dbb569dd', 'sha1': 'a2b2d7782da2b8afc758abfbfbb066cbce7d6d4f'}, 'nat': 'US', 'picture': {'medium': 'https://randomuser.me/api/portraits/med/men/77.jpg', 'thumbnail': 'https://randomuser.me/api/portraits/thumb/men/77.jpg', 'large': 'https://randomuser.me/api/portraits/men/77.jpg'}, 'location': {'city': 'topeka', 'postcode': 85238, 'coordinates': {'latitude': '30.1414', 'longitude': '-157.2530'}, 'street': '4583 photinia ave', 'state': 'connecticut', 'timezone': {'description': 'Adelaide, Darwin', 'offset': '+9:30'}}, 'gender': 'male', 'name': {'last': 'carter', 'first': 'andy', 'title': 'mr'}, 'dob': {'date': '1947-08-27T09:21:41Z', 'age': 71}, 'id': {'value': '630-07-9048', 'name': 'SSN'}, 'cell': '(079)-242-8601', 'phone': '(263)-027-0237'}, {'registered': {'date': '2012-07-02T11:18:30Z', 'age': 6}, 'email': 'brayden.arnold@example.com', 'login': {'salt': '4xleNXwD', 'md5': '916da97e5ab4c4075d37fb9aec534506', 'password': 'miller1', 'username': 'heavymeercat915', 'uuid': '8030d427-7571-4b96-b3c4-36e5b7fda312', 'sha256': 'a11e70fbb6454d8c38ed13c57142ce9a66b50c71031386ddf59fe09bc625944b', 'sha1': '44e0baf147f349933463e172a7c68a719647dd8f'}, 'nat': 'US', 'picture': {'medium': 'https://randomuser.me/api/portraits/med/men/69.jpg', 'thumbnail': 'https://randomuser.me/api/portraits/thumb/men/69.jpg', 'large': 'https://randomuser.me/api/portraits/men/69.jpg'}, 'location': {'city': 'shelby', 'postcode': 25409, 'coordinates': {'latitude': '57.5094', 'longitude': '77.3798'}, 'street': '5518 hunters creek dr', 'state': 'delaware', 'timezone': {'description': 'Tokyo, Seoul, Osaka, Sapporo, Yakutsk', 'offset': '+9:00'}}, 'gender': 'male', 'name': {'last': 'arnold', 'first': 'brayden', 'title': 'mr'}, 'dob': {'date': '1947-08-16T02:56:01Z', 'age': 71}, 'id': {'value': '521-63-3744', 'name': 'SSN'}, 'cell': '(308)-731-8733', 'phone': '(333)-183-7595'}], 'info': {'page': 1, 'results': 10, 'version': '1.2', 'seed': 'b74d1c2a1140c9a1'}}\n"
     ]
    }
   ],
   "source": [
    "print(data)"
   ]
  },
  {
   "cell_type": "markdown",
   "metadata": {},
   "source": [
    "* *pretty-print* (pprint) prints complex data structures like dictionary prettier.  https://docs.python.org/3/library/pprint.html "
   ]
  },
  {
   "cell_type": "code",
   "execution_count": 37,
   "metadata": {
    "collapsed": false
   },
   "outputs": [
    {
     "name": "stdout",
     "output_type": "stream",
     "text": [
      "{'info': {'page': 1,\n",
      "          'results': 10,\n",
      "          'seed': 'b74d1c2a1140c9a1',\n",
      "          'version': '1.2'},\n",
      " 'results': [{'cell': '(041)-166-9006',\n",
      "              'dob': {'age': 28, 'date': '1990-05-30T19:53:17Z'},\n",
      "              'email': 'andy.warren@example.com',\n",
      "              'gender': 'male',\n",
      "              'id': {'name': 'SSN', 'value': '938-50-7938'},\n",
      "              'location': {'city': 'santa ana',\n",
      "                           'coordinates': {'latitude': '-27.7142',\n",
      "                                           'longitude': '-162.1265'},\n",
      "                           'postcode': 24248,\n",
      "                           'state': 'montana',\n",
      "                           'street': '540 w sherman dr',\n",
      "                           'timezone': {'description': 'Bombay, Calcutta, '\n",
      "                                                       'Madras, New Delhi',\n",
      "                                        'offset': '+5:30'}},\n",
      "              'login': {'md5': '26f6428b3c95f398dc146be267624ec6',\n",
      "                        'password': 'emperor',\n",
      "                        'salt': 'cwUJVg40',\n",
      "                        'sha1': '36a9b3910fbee11b1e207819712f5ba97846f1a3',\n",
      "                        'sha256': '4c26826b6f21b524fdc8771c1ec9a3ca172804174732a8c2ebbf7657ab0034c0',\n",
      "                        'username': 'yellowelephant409',\n",
      "                        'uuid': 'eb0ec820-5c9c-41ef-9f35-d247e2cbde05'},\n",
      "              'name': {'first': 'andy', 'last': 'warren', 'title': 'mr'},\n",
      "              'nat': 'US',\n",
      "              'phone': '(491)-878-8038',\n",
      "              'picture': {'large': 'https://randomuser.me/api/portraits/men/29.jpg',\n",
      "                          'medium': 'https://randomuser.me/api/portraits/med/men/29.jpg',\n",
      "                          'thumbnail': 'https://randomuser.me/api/portraits/thumb/men/29.jpg'},\n",
      "              'registered': {'age': 14, 'date': '2004-07-15T04:22:56Z'}},\n",
      "             {'cell': '(865)-762-8476',\n",
      "              'dob': {'age': 36, 'date': '1982-06-15T23:11:59Z'},\n",
      "              'email': 'joshua.hill@example.com',\n",
      "              'gender': 'male',\n",
      "              'id': {'name': 'SSN', 'value': '178-04-4014'},\n",
      "              'location': {'city': 'scurry',\n",
      "                           'coordinates': {'latitude': '68.8072',\n",
      "                                           'longitude': '-171.9156'},\n",
      "                           'postcode': 78241,\n",
      "                           'state': 'tennessee',\n",
      "                           'street': '1209 depaul dr',\n",
      "                           'timezone': {'description': 'Baghdad, Riyadh, '\n",
      "                                                       'Moscow, St. Petersburg',\n",
      "                                        'offset': '+3:00'}},\n",
      "              'login': {'md5': 'cdd2d7cba3b98c170bc2cbcf45b44b62',\n",
      "                        'password': 'tosser',\n",
      "                        'salt': 'eIPpodYJ',\n",
      "                        'sha1': '0d6c9d6fa2eac57cdb04df33b386ce131feb33ce',\n",
      "                        'sha256': 'b1da0eb96cf27eabfde79899bb2d9b31ff4b2d0c18eae104a7b70c390b94f4af',\n",
      "                        'username': 'orangeduck855',\n",
      "                        'uuid': '6229ae10-af6d-491b-b5d1-86812ddc18a3'},\n",
      "              'name': {'first': 'joshua', 'last': 'hill', 'title': 'mr'},\n",
      "              'nat': 'US',\n",
      "              'phone': '(596)-750-6014',\n",
      "              'picture': {'large': 'https://randomuser.me/api/portraits/men/61.jpg',\n",
      "                          'medium': 'https://randomuser.me/api/portraits/med/men/61.jpg',\n",
      "                          'thumbnail': 'https://randomuser.me/api/portraits/thumb/men/61.jpg'},\n",
      "              'registered': {'age': 2, 'date': '2017-03-21T21:16:36Z'}},\n",
      "             {'cell': '(971)-548-4048',\n",
      "              'dob': {'age': 32, 'date': '1987-01-15T08:36:42Z'},\n",
      "              'email': 'peter.lynch@example.com',\n",
      "              'gender': 'male',\n",
      "              'id': {'name': 'SSN', 'value': '752-70-1541'},\n",
      "              'location': {'city': 'minneapolis',\n",
      "                           'coordinates': {'latitude': '-46.5697',\n",
      "                                           'longitude': '-157.2390'},\n",
      "                           'postcode': 22166,\n",
      "                           'state': 'connecticut',\n",
      "                           'street': '9334 groveland terrace',\n",
      "                           'timezone': {'description': 'Azores, Cape Verde '\n",
      "                                                       'Islands',\n",
      "                                        'offset': '-1:00'}},\n",
      "              'login': {'md5': '35bb1b6bc640fda0c7cd631f89d57ac7',\n",
      "                        'password': 'things',\n",
      "                        'salt': 'ddZeDZam',\n",
      "                        'sha1': '59c40ef8774a676e3a162f639d332ace8fca502f',\n",
      "                        'sha256': 'e7265a00fd0ecab0a23883741034f32b95fafe82bddaf26403c1fada2eb34166',\n",
      "                        'username': 'beautifulwolf381',\n",
      "                        'uuid': 'd9e83dbe-99fa-4c80-a037-ea8ca4d7bb2c'},\n",
      "              'name': {'first': 'peter', 'last': 'lynch', 'title': 'mr'},\n",
      "              'nat': 'US',\n",
      "              'phone': '(994)-908-3297',\n",
      "              'picture': {'large': 'https://randomuser.me/api/portraits/men/44.jpg',\n",
      "                          'medium': 'https://randomuser.me/api/portraits/med/men/44.jpg',\n",
      "                          'thumbnail': 'https://randomuser.me/api/portraits/thumb/men/44.jpg'},\n",
      "              'registered': {'age': 3, 'date': '2016-02-24T21:07:21Z'}},\n",
      "             {'cell': '(622)-331-5398',\n",
      "              'dob': {'age': 53, 'date': '1965-05-16T15:38:21Z'},\n",
      "              'email': 'anthony.austin@example.com',\n",
      "              'gender': 'male',\n",
      "              'id': {'name': 'SSN', 'value': '068-22-0130'},\n",
      "              'location': {'city': 'the colony',\n",
      "                           'coordinates': {'latitude': '70.1183',\n",
      "                                           'longitude': '-164.2104'},\n",
      "                           'postcode': 36271,\n",
      "                           'state': 'maine',\n",
      "                           'street': '7696 saddle dr',\n",
      "                           'timezone': {'description': 'Eastern Australia, '\n",
      "                                                       'Guam, Vladivostok',\n",
      "                                        'offset': '+10:00'}},\n",
      "              'login': {'md5': '57f8ebce4a2305d856ed4b567cc575ae',\n",
      "                        'password': 'abby',\n",
      "                        'salt': 'qqNosP0v',\n",
      "                        'sha1': '271477440aef6e1844e3cbc70720a134ecdb275a',\n",
      "                        'sha256': '174515797863209b248f4054023bed590379a63f4d25ea83272b0f4459e5bca5',\n",
      "                        'username': 'organicfrog188',\n",
      "                        'uuid': '670270c8-6e58-4220-8d17-d03e0f5cd7ff'},\n",
      "              'name': {'first': 'anthony', 'last': 'austin', 'title': 'mr'},\n",
      "              'nat': 'US',\n",
      "              'phone': '(447)-967-4317',\n",
      "              'picture': {'large': 'https://randomuser.me/api/portraits/men/22.jpg',\n",
      "                          'medium': 'https://randomuser.me/api/portraits/med/men/22.jpg',\n",
      "                          'thumbnail': 'https://randomuser.me/api/portraits/thumb/men/22.jpg'},\n",
      "              'registered': {'age': 3, 'date': '2016-04-04T08:03:46Z'}},\n",
      "             {'cell': '(788)-316-4077',\n",
      "              'dob': {'age': 35, 'date': '1983-12-28T22:27:58Z'},\n",
      "              'email': 'ross.lambert@example.com',\n",
      "              'gender': 'male',\n",
      "              'id': {'name': 'SSN', 'value': '303-83-7996'},\n",
      "              'location': {'city': 'st. petersburg',\n",
      "                           'coordinates': {'latitude': '-6.2130',\n",
      "                                           'longitude': '161.5198'},\n",
      "                           'postcode': 36994,\n",
      "                           'state': 'north carolina',\n",
      "                           'street': '9924 fincher rd',\n",
      "                           'timezone': {'description': 'Bombay, Calcutta, '\n",
      "                                                       'Madras, New Delhi',\n",
      "                                        'offset': '+5:30'}},\n",
      "              'login': {'md5': '25f5549bc534d895eba22141fe6eab18',\n",
      "                        'password': '1269',\n",
      "                        'salt': 'V6vXeDEV',\n",
      "                        'sha1': 'bb5686d015a9e7aca3f18af460747cad7712ef6b',\n",
      "                        'sha256': 'c4288291d393bc0074075a89f16a06f5f9a396cedbae56ccc8342246dae0f25c',\n",
      "                        'username': 'sadswan374',\n",
      "                        'uuid': '0d63ecfb-287e-4707-9b83-c12972a00fcb'},\n",
      "              'name': {'first': 'ross', 'last': 'lambert', 'title': 'mr'},\n",
      "              'nat': 'US',\n",
      "              'phone': '(275)-352-0970',\n",
      "              'picture': {'large': 'https://randomuser.me/api/portraits/men/4.jpg',\n",
      "                          'medium': 'https://randomuser.me/api/portraits/med/men/4.jpg',\n",
      "                          'thumbnail': 'https://randomuser.me/api/portraits/thumb/men/4.jpg'},\n",
      "              'registered': {'age': 3, 'date': '2015-07-12T17:46:04Z'}},\n",
      "             {'cell': '(502)-082-1443',\n",
      "              'dob': {'age': 68, 'date': '1950-09-08T20:39:56Z'},\n",
      "              'email': 'andre.rodriquez@example.com',\n",
      "              'gender': 'male',\n",
      "              'id': {'name': 'SSN', 'value': '417-64-7272'},\n",
      "              'location': {'city': 'shiloh',\n",
      "                           'coordinates': {'latitude': '71.2502',\n",
      "                                           'longitude': '-45.9025'},\n",
      "                           'postcode': 24484,\n",
      "                           'state': 'minnesota',\n",
      "                           'street': '5279 eason rd',\n",
      "                           'timezone': {'description': 'Midway Island, Samoa',\n",
      "                                        'offset': '-11:00'}},\n",
      "              'login': {'md5': '8086332f33f3d2b178cb9e18200e72ba',\n",
      "                        'password': 'facial',\n",
      "                        'salt': 'Z0y3KWXi',\n",
      "                        'sha1': 'dc6ce695df14c4f64a7859909670b8f481b189c8',\n",
      "                        'sha256': 'dd76dc98870baa7d1e38573fe82cb168c128cb0cec4afdd071dbe3ae9968a41b',\n",
      "                        'username': 'lazysnake173',\n",
      "                        'uuid': '444a34af-5195-416d-b77c-fab752ba3455'},\n",
      "              'name': {'first': 'andre', 'last': 'rodriquez', 'title': 'mr'},\n",
      "              'nat': 'US',\n",
      "              'phone': '(830)-863-8287',\n",
      "              'picture': {'large': 'https://randomuser.me/api/portraits/men/62.jpg',\n",
      "                          'medium': 'https://randomuser.me/api/portraits/med/men/62.jpg',\n",
      "                          'thumbnail': 'https://randomuser.me/api/portraits/thumb/men/62.jpg'},\n",
      "              'registered': {'age': 13, 'date': '2005-11-21T19:43:15Z'}},\n",
      "             {'cell': '(247)-346-3453',\n",
      "              'dob': {'age': 29, 'date': '1990-03-25T18:32:45Z'},\n",
      "              'email': 'gerald.tucker@example.com',\n",
      "              'gender': 'male',\n",
      "              'id': {'name': 'SSN', 'value': '587-80-8697'},\n",
      "              'location': {'city': 'wichita',\n",
      "                           'coordinates': {'latitude': '-57.3294',\n",
      "                                           'longitude': '13.8374'},\n",
      "                           'postcode': 67536,\n",
      "                           'state': 'texas',\n",
      "                           'street': '7353 lovers ln',\n",
      "                           'timezone': {'description': 'Brazil, Buenos Aires, '\n",
      "                                                       'Georgetown',\n",
      "                                        'offset': '-3:00'}},\n",
      "              'login': {'md5': '2f176377859ed8cc5ac56207652ffe56',\n",
      "                        'password': 'smegma',\n",
      "                        'salt': 'ofjJu6oz',\n",
      "                        'sha1': '753bcab1e52fbce5e9eb05fe80967e3cd181a617',\n",
      "                        'sha256': '6f76a5f7f57b926b0982c4e7ef514712beb9e2d74bd8a3b79fd7d0d181540807',\n",
      "                        'username': 'sadelephant892',\n",
      "                        'uuid': '5fd1ae33-0251-4dd8-bf4d-a4ce5c177c0b'},\n",
      "              'name': {'first': 'gerald', 'last': 'tucker', 'title': 'mr'},\n",
      "              'nat': 'US',\n",
      "              'phone': '(047)-878-8583',\n",
      "              'picture': {'large': 'https://randomuser.me/api/portraits/men/98.jpg',\n",
      "                          'medium': 'https://randomuser.me/api/portraits/med/men/98.jpg',\n",
      "                          'thumbnail': 'https://randomuser.me/api/portraits/thumb/men/98.jpg'},\n",
      "              'registered': {'age': 2, 'date': '2017-04-01T05:50:09Z'}},\n",
      "             {'cell': '(079)-991-0597',\n",
      "              'dob': {'age': 61, 'date': '1958-04-05T22:52:07Z'},\n",
      "              'email': 'richard.evans@example.com',\n",
      "              'gender': 'male',\n",
      "              'id': {'name': 'SSN', 'value': '183-41-9874'},\n",
      "              'location': {'city': 'salt lake city',\n",
      "                           'coordinates': {'latitude': '65.4610',\n",
      "                                           'longitude': '-70.0013'},\n",
      "                           'postcode': 45622,\n",
      "                           'state': 'delaware',\n",
      "                           'street': '6433 timber wolf trail',\n",
      "                           'timezone': {'description': 'Atlantic Time '\n",
      "                                                       '(Canada), Caracas, La '\n",
      "                                                       'Paz',\n",
      "                                        'offset': '-4:00'}},\n",
      "              'login': {'md5': '8b7f0210552817c6af147225ea2ce50b',\n",
      "                        'password': 'bonner',\n",
      "                        'salt': 'aYztce9F',\n",
      "                        'sha1': 'c04ad3a65deae064b34d9e5fe0d954fe1ca09443',\n",
      "                        'sha256': '9ecab25753b5070f71680b8c2a65d16be85e67d6f1ef62d37d389e272087740c',\n",
      "                        'username': 'orangepanda534',\n",
      "                        'uuid': 'bd03c858-40fc-40bc-a629-60bb505c5cee'},\n",
      "              'name': {'first': 'richard', 'last': 'evans', 'title': 'mr'},\n",
      "              'nat': 'US',\n",
      "              'phone': '(384)-946-7046',\n",
      "              'picture': {'large': 'https://randomuser.me/api/portraits/men/33.jpg',\n",
      "                          'medium': 'https://randomuser.me/api/portraits/med/men/33.jpg',\n",
      "                          'thumbnail': 'https://randomuser.me/api/portraits/thumb/men/33.jpg'},\n",
      "              'registered': {'age': 8, 'date': '2010-10-24T05:40:40Z'}},\n",
      "             {'cell': '(079)-242-8601',\n",
      "              'dob': {'age': 71, 'date': '1947-08-27T09:21:41Z'},\n",
      "              'email': 'andy.carter@example.com',\n",
      "              'gender': 'male',\n",
      "              'id': {'name': 'SSN', 'value': '630-07-9048'},\n",
      "              'location': {'city': 'topeka',\n",
      "                           'coordinates': {'latitude': '30.1414',\n",
      "                                           'longitude': '-157.2530'},\n",
      "                           'postcode': 85238,\n",
      "                           'state': 'connecticut',\n",
      "                           'street': '4583 photinia ave',\n",
      "                           'timezone': {'description': 'Adelaide, Darwin',\n",
      "                                        'offset': '+9:30'}},\n",
      "              'login': {'md5': '8b0b24bae3f71e19dcd3b6fbec561601',\n",
      "                        'password': 'hello1',\n",
      "                        'salt': 'C6ZIbyJt',\n",
      "                        'sha1': 'a2b2d7782da2b8afc758abfbfbb066cbce7d6d4f',\n",
      "                        'sha256': 'c3590f12fce992a48b60e5b1112534985877c3daa52e5e232067d2b1dbb569dd',\n",
      "                        'username': 'bigrabbit870',\n",
      "                        'uuid': '0c083d72-df6e-49cc-a58c-1139d60d96d3'},\n",
      "              'name': {'first': 'andy', 'last': 'carter', 'title': 'mr'},\n",
      "              'nat': 'US',\n",
      "              'phone': '(263)-027-0237',\n",
      "              'picture': {'large': 'https://randomuser.me/api/portraits/men/77.jpg',\n",
      "                          'medium': 'https://randomuser.me/api/portraits/med/men/77.jpg',\n",
      "                          'thumbnail': 'https://randomuser.me/api/portraits/thumb/men/77.jpg'},\n",
      "              'registered': {'age': 12, 'date': '2006-10-17T00:04:21Z'}},\n",
      "             {'cell': '(308)-731-8733',\n",
      "              'dob': {'age': 71, 'date': '1947-08-16T02:56:01Z'},\n",
      "              'email': 'brayden.arnold@example.com',\n",
      "              'gender': 'male',\n",
      "              'id': {'name': 'SSN', 'value': '521-63-3744'},\n",
      "              'location': {'city': 'shelby',\n",
      "                           'coordinates': {'latitude': '57.5094',\n",
      "                                           'longitude': '77.3798'},\n",
      "                           'postcode': 25409,\n",
      "                           'state': 'delaware',\n",
      "                           'street': '5518 hunters creek dr',\n",
      "                           'timezone': {'description': 'Tokyo, Seoul, Osaka, '\n",
      "                                                       'Sapporo, Yakutsk',\n",
      "                                        'offset': '+9:00'}},\n",
      "              'login': {'md5': '916da97e5ab4c4075d37fb9aec534506',\n",
      "                        'password': 'miller1',\n",
      "                        'salt': '4xleNXwD',\n",
      "                        'sha1': '44e0baf147f349933463e172a7c68a719647dd8f',\n",
      "                        'sha256': 'a11e70fbb6454d8c38ed13c57142ce9a66b50c71031386ddf59fe09bc625944b',\n",
      "                        'username': 'heavymeercat915',\n",
      "                        'uuid': '8030d427-7571-4b96-b3c4-36e5b7fda312'},\n",
      "              'name': {'first': 'brayden', 'last': 'arnold', 'title': 'mr'},\n",
      "              'nat': 'US',\n",
      "              'phone': '(333)-183-7595',\n",
      "              'picture': {'large': 'https://randomuser.me/api/portraits/men/69.jpg',\n",
      "                          'medium': 'https://randomuser.me/api/portraits/med/men/69.jpg',\n",
      "                          'thumbnail': 'https://randomuser.me/api/portraits/thumb/men/69.jpg'},\n",
      "              'registered': {'age': 6, 'date': '2012-07-02T11:18:30Z'}}]}\n"
     ]
    }
   ],
   "source": [
    "from pprint import pprint\n",
    "pprint(data)"
   ]
  },
  {
   "cell_type": "code",
   "execution_count": 106,
   "metadata": {
    "collapsed": false
   },
   "outputs": [
    {
     "data": {
      "text/plain": [
       "{'cell': '(041)-166-9006',\n",
       " 'dob': {'age': 28, 'date': '1990-05-30T19:53:17Z'},\n",
       " 'email': 'andy.warren@example.com',\n",
       " 'gender': 'male',\n",
       " 'id': {'name': 'SSN', 'value': '938-50-7938'},\n",
       " 'location': {'city': 'santa ana',\n",
       "  'coordinates': {'latitude': '-27.7142', 'longitude': '-162.1265'},\n",
       "  'postcode': 24248,\n",
       "  'state': 'montana',\n",
       "  'street': '540 w sherman dr',\n",
       "  'timezone': {'description': 'Bombay, Calcutta, Madras, New Delhi',\n",
       "   'offset': '+5:30'}},\n",
       " 'login': {'md5': '26f6428b3c95f398dc146be267624ec6',\n",
       "  'password': 'emperor',\n",
       "  'salt': 'cwUJVg40',\n",
       "  'sha1': '36a9b3910fbee11b1e207819712f5ba97846f1a3',\n",
       "  'sha256': '4c26826b6f21b524fdc8771c1ec9a3ca172804174732a8c2ebbf7657ab0034c0',\n",
       "  'username': 'yellowelephant409',\n",
       "  'uuid': 'eb0ec820-5c9c-41ef-9f35-d247e2cbde05'},\n",
       " 'name': {'first': 'andy', 'last': 'warren', 'title': 'mr'},\n",
       " 'nat': 'US',\n",
       " 'phone': '(491)-878-8038',\n",
       " 'picture': {'large': 'https://randomuser.me/api/portraits/men/29.jpg',\n",
       "  'medium': 'https://randomuser.me/api/portraits/med/men/29.jpg',\n",
       "  'thumbnail': 'https://randomuser.me/api/portraits/thumb/men/29.jpg'},\n",
       " 'registered': {'age': 14, 'date': '2004-07-15T04:22:56Z'}}"
      ]
     },
     "execution_count": 106,
     "metadata": {},
     "output_type": "execute_result"
    }
   ],
   "source": [
    "results_list = data['results']\n",
    "results_list[0]"
   ]
  },
  {
   "cell_type": "code",
   "execution_count": 114,
   "metadata": {
    "collapsed": false
   },
   "outputs": [
    {
     "name": "stdout",
     "output_type": "stream",
     "text": [
      "andy\n",
      "joshua\n",
      "peter\n",
      "anthony\n",
      "ross\n",
      "andre\n",
      "gerald\n",
      "richard\n",
      "andy\n",
      "brayden\n"
     ]
    }
   ],
   "source": [
    "for res_dict in results_list:\n",
    "    print(res_dict['name']['first'])"
   ]
  },
  {
   "cell_type": "markdown",
   "metadata": {},
   "source": [
    "* Loop through the dictionary and print all first names"
   ]
  },
  {
   "cell_type": "code",
   "execution_count": 117,
   "metadata": {
    "collapsed": false
   },
   "outputs": [
    {
     "name": "stdout",
     "output_type": "stream",
     "text": [
      "andy\n",
      "joshua\n",
      "peter\n",
      "anthony\n",
      "ross\n",
      "andre\n",
      "gerald\n",
      "richard\n",
      "andy\n",
      "brayden\n"
     ]
    }
   ],
   "source": [
    "def get_first():\n",
    "    results_list = data['results']\n",
    "    for res_dict in results_list:\n",
    "        print(res_dict['name']['first'])\n",
    "\n",
    "get_first()"
   ]
  },
  {
   "cell_type": "markdown",
   "metadata": {},
   "source": [
    "* Get all astronauts who are right now in space. You get the information about the Web APU from here  http://open-notify.org/Open-Notify-API/People-In-Space/ "
   ]
  },
  {
   "cell_type": "code",
   "execution_count": 120,
   "metadata": {
    "collapsed": true
   },
   "outputs": [],
   "source": [
    "# TODO\n",
    "url_astro = \"http://api.open-notify.org/astros.json\""
   ]
  },
  {
   "cell_type": "code",
   "execution_count": 121,
   "metadata": {
    "collapsed": false
   },
   "outputs": [
    {
     "name": "stdout",
     "output_type": "stream",
     "text": [
      "200\n"
     ]
    }
   ],
   "source": [
    "response_astro = requests.get(url_astro)\n",
    "print(response_astro.status_code)"
   ]
  },
  {
   "cell_type": "code",
   "execution_count": 122,
   "metadata": {
    "collapsed": false
   },
   "outputs": [
    {
     "name": "stdout",
     "output_type": "stream",
     "text": [
      "{'message': 'success',\n",
      " 'number': 6,\n",
      " 'people': [{'craft': 'ISS', 'name': 'Oleg Kononenko'},\n",
      "            {'craft': 'ISS', 'name': 'David Saint-Jacques'},\n",
      "            {'craft': 'ISS', 'name': 'Anne McClain'},\n",
      "            {'craft': 'ISS', 'name': 'Alexey Ovchinin'},\n",
      "            {'craft': 'ISS', 'name': 'Nick Hague'},\n",
      "            {'craft': 'ISS', 'name': 'Christina Koch'}]}\n"
     ]
    }
   ],
   "source": [
    "data_astro = json.loads(response_astro.text)\n",
    "pprint(data_astro)"
   ]
  },
  {
   "cell_type": "markdown",
   "metadata": {},
   "source": [
    "* Print the number of people that are right now in space"
   ]
  },
  {
   "cell_type": "code",
   "execution_count": 123,
   "metadata": {
    "collapsed": false
   },
   "outputs": [
    {
     "name": "stdout",
     "output_type": "stream",
     "text": [
      "Number of people in space:  6\n"
     ]
    }
   ],
   "source": [
    "# TODO\n",
    "print(\"Number of people in space: \", data_astro['number'])"
   ]
  },
  {
   "cell_type": "markdown",
   "metadata": {},
   "source": [
    "* Print the names of all astronauts "
   ]
  },
  {
   "cell_type": "code",
   "execution_count": 131,
   "metadata": {
    "collapsed": false
   },
   "outputs": [
    {
     "name": "stdout",
     "output_type": "stream",
     "text": [
      "Oleg Kononenko\n",
      "David Saint-Jacques\n",
      "Anne McClain\n",
      "Alexey Ovchinin\n",
      "Nick Hague\n",
      "Christina Koch\n"
     ]
    }
   ],
   "source": [
    "# TODO\n",
    "astro_list = data_astro['people']\n",
    "for astro_dict in astro_list:\n",
    "    print(astro_dict['name'])\n"
   ]
  },
  {
   "cell_type": "markdown",
   "metadata": {},
   "source": [
    "* A lot of Web APIs require a api-key for interacting with them (like Twitter, Facebook, …). You find at http://www.python-requests.org/en/latest/user/authentication/ more information for Authentication for Web APIs with the request package\n",
    "* There are also special Python packages for interacting with services. E.g. for Twitter: http://www.tweepy.org/ or  https://github.com/bear/python-twitter \n",
    "\n",
    "See e.g. http://socialmedia-class.org/twittertutorial.html for a tutorial"
   ]
  },
  {
   "cell_type": "markdown",
   "metadata": {},
   "source": [
    "## 2. Creating a Web API\n",
    "\n",
    "* Create a folder `webapi` and change into it.\n",
    "* Create in the `webapi` folder a file with the name `Dockerfile` with the following content:\n",
    "\n",
    "----\n",
    "```bash\n",
    "# Use an official Python runtime as a parent image\n",
    "FROM python:3.7-slim\n",
    "\n",
    "# Set the working directory to /app\n",
    "WORKDIR /app\n",
    "\n",
    "# Copy the current directory contents into the container at /app\n",
    "COPY app/ /app\n",
    "\n",
    "# Install any needed packages specified in requirements.txt\n",
    "RUN pip install --trusted-host pypi.python.org -r requirements.txt\n",
    "\n",
    "# Make port 80 available to the world outside this container\n",
    "EXPOSE 80\n",
    "\n",
    "# Run app.py when the container launches\n",
    "CMD [\"python\", \"app.py\"]\n",
    "```\n",
    "\n",
    "-----\n",
    "\n",
    "* We can also use Docker compose with just one service. Create in your `webapi` folder a `docker-compose.yml` file:\n",
    "\n",
    "-----\n",
    "\n",
    "```yaml\n",
    "version: '3'\n",
    "services:\n",
    "  api:\n",
    "    build: .\n",
    "    ports:\n",
    "      - \"5000:80\"\n",
    "    restart: always\n",
    "    volumes:\n",
    "      - ./app:/app\n",
    "```\n",
    "-----\n",
    "\n",
    "* Create a folder in the `webapi` folder a new folder with the name `app`\n",
    "* We will build a web API with `Flask` (http://flask.pocoo.org/) . Create a `requirements.txt` file in the `app` folder. Here we can specify all python `pip` packages that we need:\n",
    "\n",
    "-----\n",
    "```bash\n",
    "Flask\n",
    "```\n",
    "-----\n",
    "\n",
    "* Create the `app.py` file in the `app` folder:\n",
    "\n",
    "-----\n",
    "```python\n",
    "from flask import Flask\n",
    "from flask import request, jsonify\n",
    "\n",
    "app = Flask(__name__)\n",
    "\n",
    "courses = [\n",
    "    {'id': 0,\n",
    "     'title': 'Data Science',\n",
    "     'professor': 'Markus Löcher',\n",
    "     'semester': '1'},\n",
    "    {'id': 1,\n",
    "     'title': 'Data Warehousing',\n",
    "     'professor': 'Roland M. Mueller',\n",
    "     'semester': '1'},\n",
    "    {'id': 2,\n",
    "     'title': 'Business Process Management',\n",
    "     'professor': 'Frank Habermann',\n",
    "     'semester': '1'},\n",
    "    {'id': 3,\n",
    "     'title': 'Stratigic Issues of IT',\n",
    "     'professor': 'Sven Pohland',\n",
    "     'semester': '1'},\n",
    "    {'id': 4,\n",
    "     'title': 'Text, Web and Social Media Analytics Lab',\n",
    "     'professor': 'Markus Löcher',\n",
    "     'semester': '2'},\n",
    "    {'id': 5,\n",
    "     'title': 'Enterprise Architectures for Big Data',\n",
    "     'professor': 'Roland M. Mueller',\n",
    "     'semester': '2'},\n",
    "    {'id': 6,\n",
    "     'title': 'Business Process Integration Lab',\n",
    "     'professor': 'Frank Habermann',\n",
    "     'semester': '2'},\n",
    "    {'id': 7,\n",
    "     'title': 'IT-Security and Privacy',\n",
    "     'professor': 'Dennis Uckel',\n",
    "     'semester': '2'},\n",
    "    {'id': 8,\n",
    "     'title': 'Research Methods',\n",
    "     'professor': 'Marcus Birkenkrahe',\n",
    "     'semester': '2'},\n",
    "]\n",
    "\n",
    "@app.route('/api/v1/courses/all', methods=['GET'])\n",
    "def api_all():\n",
    "    return jsonify(courses)\n",
    "\n",
    "@app.route('/api/v1/courses', methods=['GET'])\n",
    "def api_id():\n",
    "    # Check if an ID was provided as part of the URL.\n",
    "    # If ID is provided, assign it to a variable.\n",
    "    # If no ID is provided, display an error in the browser.\n",
    "    if 'id' in request.args:\n",
    "        id = int(request.args['id'])\n",
    "    else:\n",
    "        return \"Error: No id field provided. Please specify an id.\"\n",
    "\n",
    "    # Create an empty list for our results\n",
    "    results = []\n",
    "\n",
    "    # Loop through the data and match results that fit the requested ID.\n",
    "    # IDs are unique, but other fields might return many results\n",
    "    for course in courses:\n",
    "        if course['id'] == id:\n",
    "            results.append(course)\n",
    "\n",
    "    # Use the jsonify function from Flask to convert our list of\n",
    "    # Python dictionaries to the JSON format.\n",
    "    return jsonify(results)\n",
    "\n",
    "if __name__ == \"__main__\":\n",
    "    app.run(host=\"0.0.0.0\", port=80, debug=True)\n",
    "```\n",
    "-----\n",
    "* Open http://localhost:5000/api/v1/courses/all in a browser\n",
    "* Open http://localhost:5000/api/v1/courses?id=5 in a browser\n"
   ]
  },
  {
   "cell_type": "code",
   "execution_count": 1,
   "metadata": {
    "collapsed": false
   },
   "outputs": [
    {
     "data": {
      "image/png": "[encoded data removed]",
      "text/plain": [
       "<IPython.core.display.Image object>"
      ]
     },
     "execution_count": 1,
     "metadata": {},
     "output_type": "execute_result"
    }
   ],
   "source": [
    "from IPython.display import Image\n",
    "Image(filename='screen.png') "
   ]
  },
  {
   "cell_type": "markdown",
   "metadata": {},
   "source": [
    "When I run docker container everything is working, but I can't open localhost in browser. "
   ]
  },
  {
   "cell_type": "code",
   "execution_count": 2,
   "metadata": {
    "collapsed": true
   },
   "outputs": [],
   "source": [
    "courses = [\n",
    "    {'id': 0,\n",
    "     'title': 'Data Science',\n",
    "     'professor': 'Markus Löcher',\n",
    "     'semester': '1'},\n",
    "    {'id': 1,\n",
    "     'title': 'Data Warehousing',\n",
    "     'professor': 'Roland M. Mueller',\n",
    "     'semester': '1'},\n",
    "    {'id': 2,\n",
    "     'title': 'Business Process Management',\n",
    "     'professor': 'Frank Habermann',\n",
    "     'semester': '1'},\n",
    "    {'id': 3,\n",
    "     'title': 'Stratigic Issues of IT',\n",
    "     'professor': 'Sven Pohland',\n",
    "     'semester': '1'},\n",
    "    {'id': 4,\n",
    "     'title': 'Text, Web and Social Media Analytics Lab',\n",
    "     'professor': 'Markus Löcher',\n",
    "     'semester': '2'},\n",
    "    {'id': 5,\n",
    "     'title': 'Enterprise Architectures for Big Data',\n",
    "     'professor': 'Roland M. Mueller',\n",
    "     'semester': '2'},\n",
    "    {'id': 6,\n",
    "     'title': 'Business Process Integration Lab',\n",
    "     'professor': 'Frank Habermann',\n",
    "     'semester': '2'},\n",
    "    {'id': 7,\n",
    "     'title': 'IT-Security and Privacy',\n",
    "     'professor': 'Dennis Uckel',\n",
    "     'semester': '2'},\n",
    "    {'id': 8,\n",
    "     'title': 'Research Methods',\n",
    "     'professor': 'Marcus Birkenkrahe',\n",
    "     'semester': '2'},\n",
    "]"
   ]
  },
  {
   "cell_type": "markdown",
   "metadata": {
    "collapsed": true
   },
   "source": [
    "* Use your own API here in the Jupyter Notebook with Python and print all names of all courses "
   ]
  },
  {
   "cell_type": "code",
   "execution_count": 3,
   "metadata": {
    "collapsed": false
   },
   "outputs": [
    {
     "name": "stdout",
     "output_type": "stream",
     "text": [
      "Data Science\n",
      "Data Warehousing\n",
      "Business Process Management\n",
      "Stratigic Issues of IT\n",
      "Text, Web and Social Media Analytics Lab\n",
      "Enterprise Architectures for Big Data\n",
      "Business Process Integration Lab\n",
      "IT-Security and Privacy\n",
      "Research Methods\n"
     ]
    }
   ],
   "source": [
    "# TODO\n",
    "for course in courses:\n",
    "    print(course['title'])"
   ]
  },
  {
   "cell_type": "markdown",
   "metadata": {},
   "source": [
    "* Add the possibility to find courses based on the semester\n",
    "* Use your API in Python and print all names of all courses in the second semester"
   ]
  },
  {
   "cell_type": "code",
   "execution_count": 4,
   "metadata": {
    "collapsed": true
   },
   "outputs": [],
   "source": [
    "# TODO\n",
    "def semester_course(semester):\n",
    "    for course in courses:\n",
    "        if course['semester'] == semester:\n",
    "            print(course['title'])"
   ]
  },
  {
   "cell_type": "code",
   "execution_count": 7,
   "metadata": {
    "collapsed": false
   },
   "outputs": [
    {
     "name": "stdout",
     "output_type": "stream",
     "text": [
      "Data Science\n",
      "Data Warehousing\n",
      "Business Process Management\n",
      "Stratigic Issues of IT\n"
     ]
    }
   ],
   "source": [
    "semester_course('1')"
   ]
  },
  {
   "cell_type": "code",
   "execution_count": 8,
   "metadata": {
    "collapsed": false
   },
   "outputs": [
    {
     "name": "stdout",
     "output_type": "stream",
     "text": [
      "Text, Web and Social Media Analytics Lab\n",
      "Enterprise Architectures for Big Data\n",
      "Business Process Integration Lab\n",
      "IT-Security and Privacy\n",
      "Research Methods\n"
     ]
    }
   ],
   "source": [
    "semester_course('2')"
   ]
  },
  {
   "cell_type": "markdown",
   "metadata": {},
   "source": [
    "* Add a function that can convert Fahrenheit to Celsius \n",
    "* Call your API and get the Celsius value for 100°F Fahrenheit"
   ]
  },
  {
   "cell_type": "code",
   "execution_count": 10,
   "metadata": {
    "collapsed": true
   },
   "outputs": [],
   "source": [
    "# TODO\n",
    "def far_to_cel(far):\n",
    "    cel = (far - 32) * 5.0/9.0\n",
    "    print(cel)"
   ]
  },
  {
   "cell_type": "code",
   "execution_count": 9,
   "metadata": {
    "collapsed": true
   },
   "outputs": [],
   "source": [
    "for course in courses:\n",
    "    course['far'] = 100"
   ]
  },
  {
   "cell_type": "code",
   "execution_count": 11,
   "metadata": {
    "collapsed": false
   },
   "outputs": [
    {
     "data": {
      "text/plain": [
       "[{'far': 100,\n",
       "  'id': 0,\n",
       "  'professor': 'Markus Löcher',\n",
       "  'semester': '1',\n",
       "  'title': 'Data Science'},\n",
       " {'far': 100,\n",
       "  'id': 1,\n",
       "  'professor': 'Roland M. Mueller',\n",
       "  'semester': '1',\n",
       "  'title': 'Data Warehousing'},\n",
       " {'far': 100,\n",
       "  'id': 2,\n",
       "  'professor': 'Frank Habermann',\n",
       "  'semester': '1',\n",
       "  'title': 'Business Process Management'},\n",
       " {'far': 100,\n",
       "  'id': 3,\n",
       "  'professor': 'Sven Pohland',\n",
       "  'semester': '1',\n",
       "  'title': 'Stratigic Issues of IT'},\n",
       " {'far': 100,\n",
       "  'id': 4,\n",
       "  'professor': 'Markus Löcher',\n",
       "  'semester': '2',\n",
       "  'title': 'Text, Web and Social Media Analytics Lab'},\n",
       " {'far': 100,\n",
       "  'id': 5,\n",
       "  'professor': 'Roland M. Mueller',\n",
       "  'semester': '2',\n",
       "  'title': 'Enterprise Architectures for Big Data'},\n",
       " {'far': 100,\n",
       "  'id': 6,\n",
       "  'professor': 'Frank Habermann',\n",
       "  'semester': '2',\n",
       "  'title': 'Business Process Integration Lab'},\n",
       " {'far': 100,\n",
       "  'id': 7,\n",
       "  'professor': 'Dennis Uckel',\n",
       "  'semester': '2',\n",
       "  'title': 'IT-Security and Privacy'},\n",
       " {'far': 100,\n",
       "  'id': 8,\n",
       "  'professor': 'Marcus Birkenkrahe',\n",
       "  'semester': '2',\n",
       "  'title': 'Research Methods'}]"
      ]
     },
     "execution_count": 11,
     "metadata": {},
     "output_type": "execute_result"
    }
   ],
   "source": [
    "courses"
   ]
  },
  {
   "cell_type": "code",
   "execution_count": 12,
   "metadata": {
    "collapsed": false
   },
   "outputs": [
    {
     "name": "stdout",
     "output_type": "stream",
     "text": [
      "37.77777777777778\n",
      "37.77777777777778\n",
      "37.77777777777778\n",
      "37.77777777777778\n",
      "37.77777777777778\n",
      "37.77777777777778\n",
      "37.77777777777778\n",
      "37.77777777777778\n",
      "37.77777777777778\n"
     ]
    }
   ],
   "source": [
    "for course in courses:\n",
    "    far_to_cel(course['far'])"
   ]
  }
 ],
 "metadata": {
  "anaconda-cloud": {},
  "kernelspec": {
   "display_name": "Python [default]",
   "language": "python",
   "name": "python3"
  },
  "language_info": {
   "codemirror_mode": {
    "name": "ipython",
    "version": 3
   },
   "file_extension": ".py",
   "mimetype": "text/x-python",
   "name": "python",
   "nbconvert_exporter": "python",
   "pygments_lexer": "ipython3",
   "version": "3.5.2"
  },
  "varInspector": {
   "cols": {
    "lenName": 16,
    "lenType": 16,
    "lenVar": 40
   },
   "kernels_config": {
    "python": {
     "delete_cmd_postfix": "",
     "delete_cmd_prefix": "del ",
     "library": "var_list.py",
     "varRefreshCmd": "print(var_dic_list())"
    },
    "r": {
     "delete_cmd_postfix": ") ",
     "delete_cmd_prefix": "rm(",
     "library": "var_list.r",
     "varRefreshCmd": "cat(var_dic_list()) "
    }
   },
   "types_to_exclude": [
    "module",
    "function",
    "builtin_function_or_method",
    "instance",
    "_Feature"
   ],
   "window_display": false
  }
 },
 "nbformat": 4,
 "nbformat_minor": 2
}
